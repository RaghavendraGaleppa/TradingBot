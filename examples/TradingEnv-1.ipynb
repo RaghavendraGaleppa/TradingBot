{
 "cells": [
  {
   "cell_type": "code",
   "execution_count": 1,
   "id": "a72df7ea-37b4-4c5e-9b88-295eebe9adb0",
   "metadata": {},
   "outputs": [],
   "source": [
    "import sys\n",
    "sys.path.append('../')"
   ]
  },
  {
   "cell_type": "code",
   "execution_count": 2,
   "id": "5162ad51-e49a-44a5-a289-6ae44b9dee7e",
   "metadata": {},
   "outputs": [],
   "source": [
    "from trading_env import DataSource, TradeBroker, TradingEnv\n",
    "import trading_env"
   ]
  },
  {
   "cell_type": "code",
   "execution_count": 3,
   "id": "dba2ddb9-bac7-4ee7-9108-00bdafc3e17d",
   "metadata": {},
   "outputs": [],
   "source": [
    "d = DataSource(\"../../Data/DAT_MT_EURUSD_M1_2021.csv\", end_index=30)\n",
    "tb = TradeBroker(d, initial_balance=10, price_history_length=5)\n",
    "env = TradingEnv(tb)"
   ]
  },
  {
   "cell_type": "code",
   "execution_count": 4,
   "id": "9a82f673-c5b3-4245-9818-e2078c40eb16",
   "metadata": {
    "scrolled": true
   },
   "outputs": [
    {
     "data": {
      "text/plain": [
       "array([[0., 0.],\n",
       "       [0., 0.],\n",
       "       [0., 0.],\n",
       "       [0., 0.],\n",
       "       [0., 0.]])"
      ]
     },
     "execution_count": 4,
     "metadata": {},
     "output_type": "execute_result"
    }
   ],
   "source": [
    "env.reset()"
   ]
  },
  {
   "cell_type": "code",
   "execution_count": 5,
   "id": "a3189643-1edf-4c6b-8dfd-cfc86e727e52",
   "metadata": {},
   "outputs": [
    {
     "name": "stdout",
     "output_type": "stream",
     "text": [
      "2024-03-08 00:41:40,915 - trading_env - DEBUG - Holding at 1.22322\n",
      "2024-03-08 00:41:40,918 - trading_env - DEBUG - Holding at 1.22315\n",
      "2024-03-08 00:41:40,921 - trading_env - DEBUG - Holding at 1.22356\n",
      "2024-03-08 00:41:40,924 - trading_env - DEBUG - Holding at 1.22341\n",
      "2024-03-08 00:41:40,926 - trading_env - DEBUG - Holding at 1.2237\n",
      "2024-03-08 00:41:40,929 - trading_env - DEBUG - Holding at 1.2236\n",
      "2024-03-08 00:41:40,932 - trading_env - DEBUG - Holding at 1.22354\n",
      "2024-03-08 00:41:40,934 - trading_env - DEBUG - Holding at 1.22339\n",
      "2024-03-08 00:41:40,936 - trading_env - DEBUG - Holding at 1.22343\n",
      "2024-03-08 00:41:40,939 - trading_env - DEBUG - Holding at 1.22333\n",
      "2024-03-08 00:41:40,941 - trading_env - DEBUG - Holding at 1.22333\n",
      "2024-03-08 00:41:40,943 - trading_env - DEBUG - Holding at 1.22333\n",
      "2024-03-08 00:41:40,946 - trading_env - DEBUG - Holding at 1.22366\n",
      "2024-03-08 00:41:40,948 - trading_env - DEBUG - Holding at 1.22392\n",
      "2024-03-08 00:41:40,950 - trading_env - DEBUG - Holding at 1.2236\n",
      "2024-03-08 00:41:40,952 - trading_env - DEBUG - Holding at 1.22359\n",
      "2024-03-08 00:41:40,955 - trading_env - DEBUG - Holding at 1.22398\n",
      "2024-03-08 00:41:40,957 - trading_env - DEBUG - Holding at 1.22433\n",
      "2024-03-08 00:41:40,959 - trading_env - DEBUG - Holding at 1.22448\n",
      "2024-03-08 00:41:40,961 - trading_env - DEBUG - Holding at 1.2247\n",
      "2024-03-08 00:41:40,964 - trading_env - DEBUG - Holding at 1.22507\n",
      "2024-03-08 00:41:40,967 - trading_env - DEBUG - Holding at 1.225\n",
      "2024-03-08 00:41:40,970 - trading_env - DEBUG - Holding at 1.225\n",
      "2024-03-08 00:41:40,973 - trading_env - DEBUG - Holding at 1.22431\n",
      "2024-03-08 00:41:40,976 - trading_env - DEBUG - Holding at 1.22461\n",
      "2024-03-08 00:41:40,979 - trading_env - DEBUG - Holding at 1.22454\n",
      "2024-03-08 00:41:40,982 - trading_env - DEBUG - Holding at 1.22444\n",
      "2024-03-08 00:41:40,984 - trading_env - DEBUG - Holding at 1.22435\n",
      "2024-03-08 00:41:40,987 - trading_env - DEBUG - Holding at 1.22454\n",
      "2024-03-08 00:41:40,989 - trading_env - DEBUG - Holding at 1.22414\n"
     ]
    }
   ],
   "source": [
    "for i in range(40):\n",
    "    obs, reward, done, info = env.step(2)\n",
    "    if done is True: \n",
    "        break"
   ]
  },
  {
   "cell_type": "code",
   "execution_count": 6,
   "id": "b058f99c-3814-4c31-a193-3192716cdfe3",
   "metadata": {},
   "outputs": [],
   "source": [
    "import random"
   ]
  },
  {
   "cell_type": "code",
   "execution_count": 7,
   "id": "4416bd0d-9c1a-449d-a0ab-c61bf12ecea8",
   "metadata": {},
   "outputs": [
    {
     "name": "stderr",
     "output_type": "stream",
     "text": [
      "100%|████████████████████████████████████████████████████████████████████████████████████████████████████████████████████████████████| 20000/20000 [00:28<00:00, 709.20it/s]\n"
     ]
    }
   ],
   "source": [
    "d = DataSource(\"../../Data/DAT_MT_EURUSD_M1_2021.csv\",)\n",
    "tb = TradeBroker(d, initial_balance=1000, price_history_length=10)\n",
    "env = TradingEnv(tb)\n",
    "env.reset()\n",
    "trading_env.logger.setLevel(\"CRITICAL\")\n",
    "from tqdm import tqdm\n",
    "total_reward = 0\n",
    "for i in tqdm(range(20000)):\n",
    "    obs, reward, done, info = env.step(random.choice([0,1,2]))\n",
    "    total_reward += reward\n",
    "    if done is True: \n",
    "        break\n",
    "    "
   ]
  },
  {
   "cell_type": "code",
   "execution_count": 8,
   "id": "e2994a5e-ddaf-4a99-8f82-7688fe9d02ea",
   "metadata": {},
   "outputs": [
    {
     "data": {
      "text/plain": [
       "{'action': 2,\n",
       " 'action_res': True,\n",
       " 'assets': {'balance': 939.0414799999978,\n",
       "  'shares_held': 48,\n",
       "  'current_price': 1.18879,\n",
       "  'P/L': -60.95852000000218}}"
      ]
     },
     "execution_count": 8,
     "metadata": {},
     "output_type": "execute_result"
    }
   ],
   "source": [
    "info"
   ]
  },
  {
   "cell_type": "code",
   "execution_count": 9,
   "id": "c22090a5-8e9a-4a49-bdf6-46faa94bc8eb",
   "metadata": {},
   "outputs": [
    {
     "data": {
      "text/plain": [
       "-60.95852000000218"
      ]
     },
     "execution_count": 9,
     "metadata": {},
     "output_type": "execute_result"
    }
   ],
   "source": [
    "total_reward"
   ]
  },
  {
   "cell_type": "code",
   "execution_count": 13,
   "id": "f914572e-de24-4083-a9ef-20bc49d62a3b",
   "metadata": {},
   "outputs": [],
   "source": [
    "import matplotlib.pyplot as plt"
   ]
  },
  {
   "cell_type": "code",
   "execution_count": 14,
   "id": "eda0e654-1eb0-40da-84fb-1e01305b7542",
   "metadata": {},
   "outputs": [
    {
     "data": {
      "text/plain": [
       "[<matplotlib.lines.Line2D at 0x7f3c448e57b0>]"
      ]
     },
     "execution_count": 14,
     "metadata": {},
     "output_type": "execute_result"
    },
    {
     "data": {
      "image/png": "[encoded data removed]",
      "text/plain": [
       "<Figure size 432x288 with 1 Axes>"
      ]
     },
     "metadata": {
      "needs_background": "light"
     },
     "output_type": "display_data"
    }
   ],
   "source": [
    "plt.plot(tb.balance_history)"
   ]
  },
  {
   "cell_type": "code",
   "execution_count": null,
   "id": "9164b253-9e60-40d6-a026-091a14dab2e0",
   "metadata": {},
   "outputs": [],
   "source": []
  }
 ],
 "metadata": {
  "kernelspec": {
   "display_name": "Python 3 (ipykernel)",
   "language": "python",
   "name": "python3"
  },
  "language_info": {
   "codemirror_mode": {
    "name": "ipython",
    "version": 3
   },
   "file_extension": ".py",
   "mimetype": "text/x-python",
   "name": "python",
   "nbconvert_exporter": "python",
   "pygments_lexer": "ipython3",
   "version": "3.10.12"
  }
 },
 "nbformat": 4,
 "nbformat_minor": 5
}
