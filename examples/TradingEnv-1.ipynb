{
 "cells": [
  {
   "cell_type": "code",
   "execution_count": 1,
   "id": "a72df7ea-37b4-4c5e-9b88-295eebe9adb0",
   "metadata": {},
   "outputs": [],
   "source": [
    "import sys\n",
    "sys.path.append('../')"
   ]
  },
  {
   "cell_type": "code",
   "execution_count": 2,
   "id": "5162ad51-e49a-44a5-a289-6ae44b9dee7e",
   "metadata": {},
   "outputs": [],
   "source": [
    "from env import DataSource, TradeBroker, TradingEnv"
   ]
  },
  {
   "cell_type": "code",
   "execution_count": 3,
   "id": "dba2ddb9-bac7-4ee7-9108-00bdafc3e17d",
   "metadata": {},
   "outputs": [],
   "source": [
    "d = DataSource(\"../../Data/DAT_MT_EURUSD_M1_2021.csv\", end_index=30)\n",
    "tb = TradeBroker(d, initial_balance=10, price_history_length=5)\n",
    "env = TradingEnv(tb)"
   ]
  },
  {
   "cell_type": "code",
   "execution_count": 4,
   "id": "9a82f673-c5b3-4245-9818-e2078c40eb16",
   "metadata": {
    "scrolled": true
   },
   "outputs": [
    {
     "data": {
      "text/plain": [
       "array([[0., 0.],\n",
       "       [0., 0.],\n",
       "       [0., 0.],\n",
       "       [0., 0.],\n",
       "       [0., 0.]])"
      ]
     },
     "execution_count": 4,
     "metadata": {},
     "output_type": "execute_result"
    }
   ],
   "source": [
    "env.reset()"
   ]
  },
  {
   "cell_type": "code",
   "execution_count": 5,
   "id": "a3189643-1edf-4c6b-8dfd-cfc86e727e52",
   "metadata": {},
   "outputs": [
    {
     "name": "stdout",
     "output_type": "stream",
     "text": [
      "2024-03-08 00:19:34,365 - env - DEBUG - Holding at 1.22322\n",
      "2024-03-08 00:19:34,369 - env - DEBUG - Holding at 1.22315\n",
      "2024-03-08 00:19:34,372 - env - DEBUG - Holding at 1.22356\n",
      "2024-03-08 00:19:34,376 - env - DEBUG - Holding at 1.22341\n",
      "2024-03-08 00:19:34,379 - env - DEBUG - Holding at 1.2237\n",
      "2024-03-08 00:19:34,382 - env - DEBUG - Holding at 1.2236\n",
      "2024-03-08 00:19:34,385 - env - DEBUG - Holding at 1.22354\n",
      "2024-03-08 00:19:34,386 - env - DEBUG - Holding at 1.22339\n",
      "2024-03-08 00:19:34,388 - env - DEBUG - Holding at 1.22343\n",
      "2024-03-08 00:19:34,390 - env - DEBUG - Holding at 1.22333\n",
      "2024-03-08 00:19:34,393 - env - DEBUG - Holding at 1.22333\n",
      "2024-03-08 00:19:34,395 - env - DEBUG - Holding at 1.22333\n",
      "2024-03-08 00:19:34,397 - env - DEBUG - Holding at 1.22366\n",
      "2024-03-08 00:19:34,399 - env - DEBUG - Holding at 1.22392\n",
      "2024-03-08 00:19:34,402 - env - DEBUG - Holding at 1.2236\n",
      "2024-03-08 00:19:34,403 - env - DEBUG - Holding at 1.22359\n",
      "2024-03-08 00:19:34,405 - env - DEBUG - Holding at 1.22398\n",
      "2024-03-08 00:19:34,407 - env - DEBUG - Holding at 1.22433\n",
      "2024-03-08 00:19:34,409 - env - DEBUG - Holding at 1.22448\n",
      "2024-03-08 00:19:34,412 - env - DEBUG - Holding at 1.2247\n",
      "2024-03-08 00:19:34,414 - env - DEBUG - Holding at 1.22507\n",
      "2024-03-08 00:19:34,417 - env - DEBUG - Holding at 1.225\n",
      "2024-03-08 00:19:34,420 - env - DEBUG - Holding at 1.225\n",
      "2024-03-08 00:19:34,424 - env - DEBUG - Holding at 1.22431\n",
      "2024-03-08 00:19:34,427 - env - DEBUG - Holding at 1.22461\n",
      "2024-03-08 00:19:34,431 - env - DEBUG - Holding at 1.22454\n",
      "2024-03-08 00:19:34,433 - env - DEBUG - Holding at 1.22444\n",
      "2024-03-08 00:19:34,435 - env - DEBUG - Holding at 1.22435\n",
      "2024-03-08 00:19:34,437 - env - DEBUG - Holding at 1.22454\n",
      "2024-03-08 00:19:34,440 - env - DEBUG - Holding at 1.22414\n"
     ]
    }
   ],
   "source": [
    "for i in range(40):\n",
    "    obs, reward, done, info = env.step(2)\n",
    "    if done is True: \n",
    "        break"
   ]
  },
  {
   "cell_type": "code",
   "execution_count": 15,
   "id": "b058f99c-3814-4c31-a193-3192716cdfe3",
   "metadata": {},
   "outputs": [
    {
     "data": {
      "text/plain": [
       "(array([[ 1.22444000e+00, -8.16633185e-05],\n",
       "        [ 1.22435000e+00, -7.35029891e-05],\n",
       "        [ 1.22454000e+00,  1.55184384e-04],\n",
       "        [ 1.22414000e+00, -3.26653274e-04]]),\n",
       " 0,\n",
       " True,\n",
       " {})"
      ]
     },
     "execution_count": 15,
     "metadata": {},
     "output_type": "execute_result"
    }
   ],
   "source": [
    "env.step(1)"
   ]
  }
 ],
 "metadata": {
  "kernelspec": {
   "display_name": "Python 3 (ipykernel)",
   "language": "python",
   "name": "python3"
  },
  "language_info": {
   "codemirror_mode": {
    "name": "ipython",
    "version": 3
   },
   "file_extension": ".py",
   "mimetype": "text/x-python",
   "name": "python",
   "nbconvert_exporter": "python",
   "pygments_lexer": "ipython3",
   "version": "3.10.12"
  }
 },
 "nbformat": 4,
 "nbformat_minor": 5
}
