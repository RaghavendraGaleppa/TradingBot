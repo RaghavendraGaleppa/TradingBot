{
 "cells": [
  {
   "cell_type": "code",
   "execution_count": 1,
   "id": "a72df7ea-37b4-4c5e-9b88-295eebe9adb0",
   "metadata": {},
   "outputs": [],
   "source": [
    "import sys\n",
    "sys.path.append('../')"
   ]
  },
  {
   "cell_type": "code",
   "execution_count": 7,
   "id": "5162ad51-e49a-44a5-a289-6ae44b9dee7e",
   "metadata": {},
   "outputs": [],
   "source": [
    "from env import DataSource, TradeBroker, TradingEnv"
   ]
  },
  {
   "cell_type": "code",
   "execution_count": 8,
   "id": "dba2ddb9-bac7-4ee7-9108-00bdafc3e17d",
   "metadata": {},
   "outputs": [],
   "source": [
    "d = DataSource(\"../../Data/DAT_MT_EURUSD_M1_2021.csv\", end_index=30)\n",
    "tb = TradeBroker(d, initial_balance=10, price_history_length=5)\n",
    "env = TradingEnv(tb)"
   ]
  },
  {
   "cell_type": "code",
   "execution_count": 9,
   "id": "9a82f673-c5b3-4245-9818-e2078c40eb16",
   "metadata": {
    "scrolled": true
   },
   "outputs": [
    {
     "data": {
      "text/plain": [
       "array([[0., 0.],\n",
       "       [0., 0.],\n",
       "       [0., 0.],\n",
       "       [0., 0.],\n",
       "       [0., 0.]])"
      ]
     },
     "execution_count": 9,
     "metadata": {},
     "output_type": "execute_result"
    }
   ],
   "source": [
    "env.reset()"
   ]
  },
  {
   "cell_type": "code",
   "execution_count": 10,
   "id": "a3189643-1edf-4c6b-8dfd-cfc86e727e52",
   "metadata": {},
   "outputs": [
    {
     "name": "stdout",
     "output_type": "stream",
     "text": [
      "2024-03-08 00:18:44,414 - env - DEBUG - Holding at 1.22322\n",
      "2024-03-08 00:18:44,417 - env - DEBUG - Holding at 1.22315\n",
      "2024-03-08 00:18:44,420 - env - DEBUG - Holding at 1.22356\n",
      "2024-03-08 00:18:44,424 - env - DEBUG - Holding at 1.22341\n",
      "2024-03-08 00:18:44,427 - env - DEBUG - Holding at 1.2237\n",
      "2024-03-08 00:18:44,430 - env - DEBUG - Holding at 1.2236\n",
      "2024-03-08 00:18:44,432 - env - DEBUG - Holding at 1.22354\n",
      "2024-03-08 00:18:44,434 - env - DEBUG - Holding at 1.22339\n",
      "2024-03-08 00:18:44,438 - env - DEBUG - Holding at 1.22343\n",
      "2024-03-08 00:18:44,440 - env - DEBUG - Holding at 1.22333\n",
      "2024-03-08 00:18:44,442 - env - DEBUG - Holding at 1.22333\n",
      "2024-03-08 00:18:44,444 - env - DEBUG - Holding at 1.22333\n",
      "2024-03-08 00:18:44,446 - env - DEBUG - Holding at 1.22366\n",
      "2024-03-08 00:18:44,448 - env - DEBUG - Holding at 1.22392\n",
      "2024-03-08 00:18:44,451 - env - DEBUG - Holding at 1.2236\n",
      "2024-03-08 00:18:44,453 - env - DEBUG - Holding at 1.22359\n",
      "2024-03-08 00:18:44,455 - env - DEBUG - Holding at 1.22398\n",
      "2024-03-08 00:18:44,457 - env - DEBUG - Holding at 1.22433\n",
      "2024-03-08 00:18:44,459 - env - DEBUG - Holding at 1.22448\n",
      "2024-03-08 00:18:44,461 - env - DEBUG - Holding at 1.2247\n",
      "2024-03-08 00:18:44,464 - env - DEBUG - Holding at 1.22507\n",
      "2024-03-08 00:18:44,466 - env - DEBUG - Holding at 1.225\n",
      "2024-03-08 00:18:44,469 - env - DEBUG - Holding at 1.225\n",
      "2024-03-08 00:18:44,471 - env - DEBUG - Holding at 1.22431\n",
      "2024-03-08 00:18:44,474 - env - DEBUG - Holding at 1.22461\n",
      "2024-03-08 00:18:44,476 - env - DEBUG - Holding at 1.22454\n",
      "2024-03-08 00:18:44,478 - env - DEBUG - Holding at 1.22444\n",
      "2024-03-08 00:18:44,481 - env - DEBUG - Holding at 1.22435\n",
      "2024-03-08 00:18:44,483 - env - DEBUG - Holding at 1.22454\n",
      "2024-03-08 00:18:44,485 - env - DEBUG - Holding at 1.22414\n"
     ]
    }
   ],
   "source": [
    "for i in range(40):\n",
    "    obs, reward, done, info = env.step(2)\n",
    "    if done is True: \n",
    "        break"
   ]
  },
  {
   "cell_type": "code",
   "execution_count": 11,
   "id": "b058f99c-3814-4c31-a193-3192716cdfe3",
   "metadata": {},
   "outputs": [
    {
     "name": "stdout",
     "output_type": "stream",
     "text": [
      "2024-03-08 00:18:49,913 - env - DEBUG - No more data to return\n"
     ]
    },
    {
     "ename": "TypeError",
     "evalue": "cannot unpack non-iterable NoneType object",
     "output_type": "error",
     "traceback": [
      "\u001b[0;31m---------------------------------------------------------------------------\u001b[0m",
      "\u001b[0;31mTypeError\u001b[0m                                 Traceback (most recent call last)",
      "\u001b[0;32m/tmp/ipykernel_233015/2174298932.py\u001b[0m in \u001b[0;36m<module>\u001b[0;34m\u001b[0m\n\u001b[0;32m----> 1\u001b[0;31m \u001b[0menv\u001b[0m\u001b[0;34m.\u001b[0m\u001b[0mstep\u001b[0m\u001b[0;34m(\u001b[0m\u001b[0;36m1\u001b[0m\u001b[0;34m)\u001b[0m\u001b[0;34m\u001b[0m\u001b[0;34m\u001b[0m\u001b[0m\n\u001b[0m",
      "\u001b[0;32m~/Desktop/RaghavendraTrading/TradingBotDeepRL/examples/../env.py\u001b[0m in \u001b[0;36mstep\u001b[0;34m(self, action)\u001b[0m\n\u001b[1;32m    183\u001b[0m                         \u001b[0mres\u001b[0m \u001b[0;34m=\u001b[0m \u001b[0mself\u001b[0m\u001b[0;34m.\u001b[0m\u001b[0mtrading_broker\u001b[0m\u001b[0;34m.\u001b[0m\u001b[0mbuy\u001b[0m\u001b[0;34m(\u001b[0m\u001b[0;34m)\u001b[0m\u001b[0;34m\u001b[0m\u001b[0;34m\u001b[0m\u001b[0m\n\u001b[1;32m    184\u001b[0m                 \u001b[0;32melif\u001b[0m \u001b[0maction\u001b[0m \u001b[0;34m==\u001b[0m \u001b[0mActions\u001b[0m\u001b[0;34m.\u001b[0m\u001b[0mSell\u001b[0m\u001b[0;34m.\u001b[0m\u001b[0mvalue\u001b[0m\u001b[0;34m:\u001b[0m\u001b[0;34m\u001b[0m\u001b[0;34m\u001b[0m\u001b[0m\n\u001b[0;32m--> 185\u001b[0;31m                         \u001b[0mres\u001b[0m \u001b[0;34m=\u001b[0m \u001b[0mself\u001b[0m\u001b[0;34m.\u001b[0m\u001b[0mtrading_broker\u001b[0m\u001b[0;34m.\u001b[0m\u001b[0msell\u001b[0m\u001b[0;34m(\u001b[0m\u001b[0;34m)\u001b[0m\u001b[0;34m\u001b[0m\u001b[0;34m\u001b[0m\u001b[0m\n\u001b[0m\u001b[1;32m    186\u001b[0m                 \u001b[0;32melse\u001b[0m\u001b[0;34m:\u001b[0m\u001b[0;34m\u001b[0m\u001b[0;34m\u001b[0m\u001b[0m\n\u001b[1;32m    187\u001b[0m                         \u001b[0mres\u001b[0m \u001b[0;34m=\u001b[0m \u001b[0mself\u001b[0m\u001b[0;34m.\u001b[0m\u001b[0mtrading_broker\u001b[0m\u001b[0;34m.\u001b[0m\u001b[0mhold\u001b[0m\u001b[0;34m(\u001b[0m\u001b[0;34m)\u001b[0m\u001b[0;34m\u001b[0m\u001b[0;34m\u001b[0m\u001b[0m\n",
      "\u001b[0;32m~/Desktop/RaghavendraTrading/TradingBotDeepRL/examples/../env.py\u001b[0m in \u001b[0;36msell\u001b[0;34m(self)\u001b[0m\n\u001b[1;32m    110\u001b[0m                 \u001b[0;34m:\u001b[0m\u001b[0;32mreturn\u001b[0m\u001b[0;34m:\u001b[0m \u001b[0;32mNone\u001b[0m\u001b[0;34m\u001b[0m\u001b[0;34m\u001b[0m\u001b[0m\n\u001b[1;32m    111\u001b[0m \t\t\"\"\"\n\u001b[0;32m--> 112\u001b[0;31m                 \u001b[0mprice\u001b[0m\u001b[0;34m,\u001b[0m \u001b[0midx\u001b[0m \u001b[0;34m=\u001b[0m \u001b[0mself\u001b[0m\u001b[0;34m.\u001b[0m\u001b[0mdata_source\u001b[0m\u001b[0;34m.\u001b[0m\u001b[0mget_next_price\u001b[0m\u001b[0;34m(\u001b[0m\u001b[0;34m)\u001b[0m\u001b[0;34m\u001b[0m\u001b[0;34m\u001b[0m\u001b[0m\n\u001b[0m\u001b[1;32m    113\u001b[0m                 \u001b[0mself\u001b[0m\u001b[0;34m.\u001b[0m\u001b[0mprice_history\u001b[0m\u001b[0;34m.\u001b[0m\u001b[0mappend\u001b[0m\u001b[0;34m(\u001b[0m\u001b[0mprice\u001b[0m\u001b[0;34m)\u001b[0m\u001b[0;34m\u001b[0m\u001b[0;34m\u001b[0m\u001b[0m\n\u001b[1;32m    114\u001b[0m                 \u001b[0;32mif\u001b[0m \u001b[0mprice\u001b[0m \u001b[0;32mis\u001b[0m \u001b[0;32mNone\u001b[0m\u001b[0;34m:\u001b[0m\u001b[0;34m\u001b[0m\u001b[0;34m\u001b[0m\u001b[0m\n",
      "\u001b[0;31mTypeError\u001b[0m: cannot unpack non-iterable NoneType object"
     ]
    }
   ],
   "source": [
    "env.ste"
   ]
  }
 ],
 "metadata": {
  "kernelspec": {
   "display_name": "Python 3 (ipykernel)",
   "language": "python",
   "name": "python3"
  },
  "language_info": {
   "codemirror_mode": {
    "name": "ipython",
    "version": 3
   },
   "file_extension": ".py",
   "mimetype": "text/x-python",
   "name": "python",
   "nbconvert_exporter": "python",
   "pygments_lexer": "ipython3",
   "version": "3.10.12"
  }
 },
 "nbformat": 4,
 "nbformat_minor": 5
}
