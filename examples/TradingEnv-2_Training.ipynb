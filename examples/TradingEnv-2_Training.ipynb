{
 "cells": [
  {
   "cell_type": "code",
   "execution_count": 1,
   "id": "d2f609cc-4d4f-4d60-9932-58b79b0d9132",
   "metadata": {},
   "outputs": [],
   "source": [
    "import sys\n",
    "sys.path.append(\"../\")"
   ]
  },
  {
   "cell_type": "code",
   "execution_count": 2,
   "id": "b4f55b29-5177-418d-95ae-a49e88752f10",
   "metadata": {},
   "outputs": [],
   "source": [
    "from trading_env import DataSource, TradeBroker, TradingEnv\n",
    "import torch"
   ]
  },
  {
   "cell_type": "code",
   "execution_count": 3,
   "id": "bb1b2cc7-87cb-4efa-ab99-6ea27086e6cc",
   "metadata": {},
   "outputs": [],
   "source": [
    "window_size = 25\n",
    "d = DataSource(\"../Data/DAT_MT_EURUSD_M1_2021.csv\")\n",
    "tb = TradeBroker(data_source=d, initial_balance=1000, price_history_length=window_size, max_shares_held=10)\n",
    "env = TradingEnv(tb, observation_shape=\"2d\")"
   ]
  },
  {
   "cell_type": "code",
   "execution_count": 4,
   "id": "0489d58a-6558-4fc8-beaa-1f3a34870c96",
   "metadata": {},
   "outputs": [],
   "source": [
    "from train import Trainer"
   ]
  },
  {
   "cell_type": "code",
   "execution_count": 5,
   "id": "59442f85-149a-4a92-b12f-93b3dd59b1b0",
   "metadata": {},
   "outputs": [],
   "source": [
    "trainer = Trainer(env=env)"
   ]
  },
  {
   "cell_type": "code",
   "execution_count": null,
   "id": "db5743e8-a17a-416d-8112-c7994a987247",
   "metadata": {},
   "outputs": [
    {
     "name": "stdout",
     "output_type": "stream",
     "text": [
      "Rewards: torch.Size([32]), Q_s_a_max: torch.Size([32]), q_s_a: torch.Size([32, 1]), Dones: (32,)\n",
      "Rewards: torch.Size([32]), Q_s_a_max: torch.Size([32]), q_s_a: torch.Size([32, 1]), Dones: (32,)\n",
      "Rewards: torch.Size([32]), Q_s_a_max: torch.Size([32]), q_s_a: torch.Size([32, 1]), Dones: (32,)\n",
      "Rewards: torch.Size([32]), Q_s_a_max: torch.Size([32]), q_s_a: torch.Size([32, 1]), Dones: (32,)\n",
      "Rewards: torch.Size([32]), Q_s_a_max: torch.Size([32]), q_s_a: torch.Size([32, 1]), Dones: (32,)\n"
     ]
    },
    {
     "name": "stderr",
     "output_type": "stream",
     "text": [
      "/home/raghaveendrawork/Desktop/RaghavendraTrading/TradingBotDeepRL/examples/../train.py:99: UserWarning: Using a target size (torch.Size([32])) that is different to the input size (torch.Size([32, 1])). This will likely lead to incorrect results due to broadcasting. Please ensure they have the same size.\n",
      "  loss = F.smooth_l1_loss(q_s_a, target)\n",
      "/home/raghaveendrawork/Desktop/RaghavendraTrading/TradingBotDeepRL/examples/../train.py:99: UserWarning: Using a target size (torch.Size([32])) that is different to the input size (torch.Size([32, 1])). This will likely lead to incorrect results due to broadcasting. Please ensure they have the same size.\n",
      "  loss = F.smooth_l1_loss(q_s_a, target)\n",
      "/home/raghaveendrawork/Desktop/RaghavendraTrading/TradingBotDeepRL/examples/../train.py:99: UserWarning: Using a target size (torch.Size([32])) that is different to the input size (torch.Size([32, 1])). This will likely lead to incorrect results due to broadcasting. Please ensure they have the same size.\n",
      "  loss = F.smooth_l1_loss(q_s_a, target)\n",
      "/home/raghaveendrawork/Desktop/RaghavendraTrading/TradingBotDeepRL/examples/../train.py:99: UserWarning: Using a target size (torch.Size([32])) that is different to the input size (torch.Size([32, 1])). This will likely lead to incorrect results due to broadcasting. Please ensure they have the same size.\n",
      "  loss = F.smooth_l1_loss(q_s_a, target)\n",
      "/home/raghaveendrawork/Desktop/RaghavendraTrading/TradingBotDeepRL/examples/../train.py:99: UserWarning: Using a target size (torch.Size([32])) that is different to the input size (torch.Size([32, 1])). This will likely lead to incorrect results due to broadcasting. Please ensure they have the same size.\n",
      "  loss = F.smooth_l1_loss(q_s_a, target)\n"
     ]
    },
    {
     "name": "stdout",
     "output_type": "stream",
     "text": [
      "Rewards: torch.Size([32]), Q_s_a_max: torch.Size([32]), q_s_a: torch.Size([32, 1]), Dones: (32,)\n",
      "Rewards: torch.Size([32]), Q_s_a_max: torch.Size([32]), q_s_a: torch.Size([32, 1]), Dones: (32,)\n",
      "Rewards: torch.Size([32]), Q_s_a_max: torch.Size([32]), q_s_a: torch.Size([32, 1]), Dones: (32,)\n",
      "Rewards: torch.Size([32]), Q_s_a_max: torch.Size([32]), q_s_a: torch.Size([32, 1]), Dones: (32,)\n",
      "Rewards: torch.Size([32]), Q_s_a_max: torch.Size([32]), q_s_a: torch.Size([32, 1]), Dones: (32,)\n",
      "Rewards: torch.Size([32]), Q_s_a_max: torch.Size([32]), q_s_a: torch.Size([32, 1]), Dones: (32,)\n"
     ]
    },
    {
     "name": "stderr",
     "output_type": "stream",
     "text": [
      "/home/raghaveendrawork/Desktop/RaghavendraTrading/TradingBotDeepRL/examples/../train.py:99: UserWarning: Using a target size (torch.Size([32])) that is different to the input size (torch.Size([32, 1])). This will likely lead to incorrect results due to broadcasting. Please ensure they have the same size.\n",
      "  loss = F.smooth_l1_loss(q_s_a, target)\n",
      "/home/raghaveendrawork/Desktop/RaghavendraTrading/TradingBotDeepRL/examples/../train.py:99: UserWarning: Using a target size (torch.Size([32])) that is different to the input size (torch.Size([32, 1])). This will likely lead to incorrect results due to broadcasting. Please ensure they have the same size.\n",
      "  loss = F.smooth_l1_loss(q_s_a, target)\n",
      "/home/raghaveendrawork/Desktop/RaghavendraTrading/TradingBotDeepRL/examples/../train.py:99: UserWarning: Using a target size (torch.Size([32])) that is different to the input size (torch.Size([32, 1])). This will likely lead to incorrect results due to broadcasting. Please ensure they have the same size.\n",
      "  loss = F.smooth_l1_loss(q_s_a, target)\n",
      "/home/raghaveendrawork/Desktop/RaghavendraTrading/TradingBotDeepRL/examples/../train.py:99: UserWarning: Using a target size (torch.Size([32])) that is different to the input size (torch.Size([32, 1])). This will likely lead to incorrect results due to broadcasting. Please ensure they have the same size.\n",
      "  loss = F.smooth_l1_loss(q_s_a, target)\n",
      "/home/raghaveendrawork/Desktop/RaghavendraTrading/TradingBotDeepRL/examples/../train.py:99: UserWarning: Using a target size (torch.Size([32])) that is different to the input size (torch.Size([32, 1])). This will likely lead to incorrect results due to broadcasting. Please ensure they have the same size.\n",
      "  loss = F.smooth_l1_loss(q_s_a, target)\n",
      "/home/raghaveendrawork/Desktop/RaghavendraTrading/TradingBotDeepRL/examples/../train.py:99: UserWarning: Using a target size (torch.Size([32])) that is different to the input size (torch.Size([32, 1])). This will likely lead to incorrect results due to broadcasting. Please ensure they have the same size.\n",
      "  loss = F.smooth_l1_loss(q_s_a, target)\n"
     ]
    },
    {
     "name": "stdout",
     "output_type": "stream",
     "text": [
      "Rewards: torch.Size([32]), Q_s_a_max: torch.Size([32]), q_s_a: torch.Size([32, 1]), Dones: (32,)\n",
      "Rewards: torch.Size([32]), Q_s_a_max: torch.Size([32]), q_s_a: torch.Size([32, 1]), Dones: (32,)\n",
      "Rewards: torch.Size([32]), Q_s_a_max: torch.Size([32]), q_s_a: torch.Size([32, 1]), Dones: (32,)\n",
      "Rewards: torch.Size([32]), Q_s_a_max: torch.Size([32]), q_s_a: torch.Size([32, 1]), Dones: (32,)\n",
      "Rewards: torch.Size([32]), Q_s_a_max: torch.Size([32]), q_s_a: torch.Size([32, 1]), Dones: (32,)\n",
      "Rewards: torch.Size([32]), Q_s_a_max: torch.Size([32]), q_s_a: torch.Size([32, 1]), Dones: (32,)\n",
      "Rewards: torch.Size([32]), Q_s_a_max: torch.Size([32]), q_s_a: torch.Size([32, 1]), Dones: (32,)\n"
     ]
    },
    {
     "name": "stderr",
     "output_type": "stream",
     "text": [
      "/home/raghaveendrawork/Desktop/RaghavendraTrading/TradingBotDeepRL/examples/../train.py:99: UserWarning: Using a target size (torch.Size([32])) that is different to the input size (torch.Size([32, 1])). This will likely lead to incorrect results due to broadcasting. Please ensure they have the same size.\n",
      "  loss = F.smooth_l1_loss(q_s_a, target)\n",
      "/home/raghaveendrawork/Desktop/RaghavendraTrading/TradingBotDeepRL/examples/../train.py:99: UserWarning: Using a target size (torch.Size([32])) that is different to the input size (torch.Size([32, 1])). This will likely lead to incorrect results due to broadcasting. Please ensure they have the same size.\n",
      "  loss = F.smooth_l1_loss(q_s_a, target)\n",
      "/home/raghaveendrawork/Desktop/RaghavendraTrading/TradingBotDeepRL/examples/../train.py:99: UserWarning: Using a target size (torch.Size([32])) that is different to the input size (torch.Size([32, 1])). This will likely lead to incorrect results due to broadcasting. Please ensure they have the same size.\n",
      "  loss = F.smooth_l1_loss(q_s_a, target)\n",
      "/home/raghaveendrawork/Desktop/RaghavendraTrading/TradingBotDeepRL/examples/../train.py:99: UserWarning: Using a target size (torch.Size([32])) that is different to the input size (torch.Size([32, 1])). This will likely lead to incorrect results due to broadcasting. Please ensure they have the same size.\n",
      "  loss = F.smooth_l1_loss(q_s_a, target)\n",
      "/home/raghaveendrawork/Desktop/RaghavendraTrading/TradingBotDeepRL/examples/../train.py:99: UserWarning: Using a target size (torch.Size([32])) that is different to the input size (torch.Size([32, 1])). This will likely lead to incorrect results due to broadcasting. Please ensure they have the same size.\n",
      "  loss = F.smooth_l1_loss(q_s_a, target)\n",
      "/home/raghaveendrawork/Desktop/RaghavendraTrading/TradingBotDeepRL/examples/../train.py:99: UserWarning: Using a target size (torch.Size([32])) that is different to the input size (torch.Size([32, 1])). This will likely lead to incorrect results due to broadcasting. Please ensure they have the same size.\n",
      "  loss = F.smooth_l1_loss(q_s_a, target)\n",
      "/home/raghaveendrawork/Desktop/RaghavendraTrading/TradingBotDeepRL/examples/../train.py:99: UserWarning: Using a target size (torch.Size([32])) that is different to the input size (torch.Size([32, 1])). This will likely lead to incorrect results due to broadcasting. Please ensure they have the same size.\n",
      "  loss = F.smooth_l1_loss(q_s_a, target)\n"
     ]
    },
    {
     "name": "stdout",
     "output_type": "stream",
     "text": [
      "Rewards: torch.Size([32]), Q_s_a_max: torch.Size([32]), q_s_a: torch.Size([32, 1]), Dones: (32,)\n",
      "Rewards: torch.Size([32]), Q_s_a_max: torch.Size([32]), q_s_a: torch.Size([32, 1]), Dones: (32,)\n",
      "Rewards: torch.Size([32]), Q_s_a_max: torch.Size([32]), q_s_a: torch.Size([32, 1]), Dones: (32,)\n",
      "Rewards: torch.Size([32]), Q_s_a_max: torch.Size([32]), q_s_a: torch.Size([32, 1]), Dones: (32,)\n",
      "Rewards: torch.Size([32]), Q_s_a_max: torch.Size([32]), q_s_a: torch.Size([32, 1]), Dones: (32,)\n",
      "Rewards: torch.Size([32]), Q_s_a_max: torch.Size([32]), q_s_a: torch.Size([32, 1]), Dones: (32,)\n",
      "Rewards: torch.Size([32]), Q_s_a_max: torch.Size([32]), q_s_a: torch.Size([32, 1]), Dones: (32,)\n"
     ]
    },
    {
     "name": "stderr",
     "output_type": "stream",
     "text": [
      "/home/raghaveendrawork/Desktop/RaghavendraTrading/TradingBotDeepRL/examples/../train.py:99: UserWarning: Using a target size (torch.Size([32])) that is different to the input size (torch.Size([32, 1])). This will likely lead to incorrect results due to broadcasting. Please ensure they have the same size.\n",
      "  loss = F.smooth_l1_loss(q_s_a, target)\n",
      "/home/raghaveendrawork/Desktop/RaghavendraTrading/TradingBotDeepRL/examples/../train.py:99: UserWarning: Using a target size (torch.Size([32])) that is different to the input size (torch.Size([32, 1])). This will likely lead to incorrect results due to broadcasting. Please ensure they have the same size.\n",
      "  loss = F.smooth_l1_loss(q_s_a, target)\n",
      "/home/raghaveendrawork/Desktop/RaghavendraTrading/TradingBotDeepRL/examples/../train.py:99: UserWarning: Using a target size (torch.Size([32])) that is different to the input size (torch.Size([32, 1])). This will likely lead to incorrect results due to broadcasting. Please ensure they have the same size.\n",
      "  loss = F.smooth_l1_loss(q_s_a, target)\n",
      "/home/raghaveendrawork/Desktop/RaghavendraTrading/TradingBotDeepRL/examples/../train.py:99: UserWarning: Using a target size (torch.Size([32])) that is different to the input size (torch.Size([32, 1])). This will likely lead to incorrect results due to broadcasting. Please ensure they have the same size.\n",
      "  loss = F.smooth_l1_loss(q_s_a, target)\n",
      "/home/raghaveendrawork/Desktop/RaghavendraTrading/TradingBotDeepRL/examples/../train.py:99: UserWarning: Using a target size (torch.Size([32])) that is different to the input size (torch.Size([32, 1])). This will likely lead to incorrect results due to broadcasting. Please ensure they have the same size.\n",
      "  loss = F.smooth_l1_loss(q_s_a, target)\n",
      "/home/raghaveendrawork/Desktop/RaghavendraTrading/TradingBotDeepRL/examples/../train.py:99: UserWarning: Using a target size (torch.Size([32])) that is different to the input size (torch.Size([32, 1])). This will likely lead to incorrect results due to broadcasting. Please ensure they have the same size.\n",
      "  loss = F.smooth_l1_loss(q_s_a, target)\n",
      "/home/raghaveendrawork/Desktop/RaghavendraTrading/TradingBotDeepRL/examples/../train.py:99: UserWarning: Using a target size (torch.Size([32])) that is different to the input size (torch.Size([32, 1])). This will likely lead to incorrect results due to broadcasting. Please ensure they have the same size.\n",
      "  loss = F.smooth_l1_loss(q_s_a, target)\n"
     ]
    },
    {
     "name": "stdout",
     "output_type": "stream",
     "text": [
      "Rewards: torch.Size([32]), Q_s_a_max: torch.Size([32]), q_s_a: torch.Size([32, 1]), Dones: (32,)\n",
      "Rewards: torch.Size([32]), Q_s_a_max: torch.Size([32]), q_s_a: torch.Size([32, 1]), Dones: (32,)\n",
      "Rewards: torch.Size([32]), Q_s_a_max: torch.Size([32]), q_s_a: torch.Size([32, 1]), Dones: (32,)\n",
      "Rewards: torch.Size([32]), Q_s_a_max: torch.Size([32]), q_s_a: torch.Size([32, 1]), Dones: (32,)\n",
      "Rewards: torch.Size([32]), Q_s_a_max: torch.Size([32]), q_s_a: torch.Size([32, 1]), Dones: (32,)\n",
      "Rewards: torch.Size([32]), Q_s_a_max: torch.Size([32]), q_s_a: torch.Size([32, 1]), Dones: (32,)\n",
      "Rewards: torch.Size([32]), Q_s_a_max: torch.Size([32]), q_s_a: torch.Size([32, 1]), Dones: (32,)\n"
     ]
    },
    {
     "name": "stderr",
     "output_type": "stream",
     "text": [
      "/home/raghaveendrawork/Desktop/RaghavendraTrading/TradingBotDeepRL/examples/../train.py:99: UserWarning: Using a target size (torch.Size([32])) that is different to the input size (torch.Size([32, 1])). This will likely lead to incorrect results due to broadcasting. Please ensure they have the same size.\n",
      "  loss = F.smooth_l1_loss(q_s_a, target)\n",
      "/home/raghaveendrawork/Desktop/RaghavendraTrading/TradingBotDeepRL/examples/../train.py:99: UserWarning: Using a target size (torch.Size([32])) that is different to the input size (torch.Size([32, 1])). This will likely lead to incorrect results due to broadcasting. Please ensure they have the same size.\n",
      "  loss = F.smooth_l1_loss(q_s_a, target)\n",
      "/home/raghaveendrawork/Desktop/RaghavendraTrading/TradingBotDeepRL/examples/../train.py:99: UserWarning: Using a target size (torch.Size([32])) that is different to the input size (torch.Size([32, 1])). This will likely lead to incorrect results due to broadcasting. Please ensure they have the same size.\n",
      "  loss = F.smooth_l1_loss(q_s_a, target)\n",
      "/home/raghaveendrawork/Desktop/RaghavendraTrading/TradingBotDeepRL/examples/../train.py:99: UserWarning: Using a target size (torch.Size([32])) that is different to the input size (torch.Size([32, 1])). This will likely lead to incorrect results due to broadcasting. Please ensure they have the same size.\n",
      "  loss = F.smooth_l1_loss(q_s_a, target)\n",
      "/home/raghaveendrawork/Desktop/RaghavendraTrading/TradingBotDeepRL/examples/../train.py:99: UserWarning: Using a target size (torch.Size([32])) that is different to the input size (torch.Size([32, 1])). This will likely lead to incorrect results due to broadcasting. Please ensure they have the same size.\n",
      "  loss = F.smooth_l1_loss(q_s_a, target)\n",
      "/home/raghaveendrawork/Desktop/RaghavendraTrading/TradingBotDeepRL/examples/../train.py:99: UserWarning: Using a target size (torch.Size([32])) that is different to the input size (torch.Size([32, 1])). This will likely lead to incorrect results due to broadcasting. Please ensure they have the same size.\n",
      "  loss = F.smooth_l1_loss(q_s_a, target)\n",
      "/home/raghaveendrawork/Desktop/RaghavendraTrading/TradingBotDeepRL/examples/../train.py:99: UserWarning: Using a target size (torch.Size([32])) that is different to the input size (torch.Size([32, 1])). This will likely lead to incorrect results due to broadcasting. Please ensure they have the same size.\n",
      "  loss = F.smooth_l1_loss(q_s_a, target)\n"
     ]
    },
    {
     "name": "stdout",
     "output_type": "stream",
     "text": [
      "Rewards: torch.Size([32]), Q_s_a_max: torch.Size([32]), q_s_a: torch.Size([32, 1]), Dones: (32,)\n",
      "Rewards: torch.Size([32]), Q_s_a_max: torch.Size([32]), q_s_a: torch.Size([32, 1]), Dones: (32,)\n",
      "Rewards: torch.Size([32]), Q_s_a_max: torch.Size([32]), q_s_a: torch.Size([32, 1]), Dones: (32,)\n",
      "Rewards: torch.Size([32]), Q_s_a_max: torch.Size([32]), q_s_a: torch.Size([32, 1]), Dones: (32,)\n",
      "Rewards: torch.Size([32]), Q_s_a_max: torch.Size([32]), q_s_a: torch.Size([32, 1]), Dones: (32,)\n",
      "Rewards: torch.Size([32]), Q_s_a_max: torch.Size([32]), q_s_a: torch.Size([32, 1]), Dones: (32,)\n",
      "Rewards: torch.Size([32]), Q_s_a_max: torch.Size([32]), q_s_a: torch.Size([32, 1]), Dones: (32,)\n"
     ]
    },
    {
     "name": "stderr",
     "output_type": "stream",
     "text": [
      "/home/raghaveendrawork/Desktop/RaghavendraTrading/TradingBotDeepRL/examples/../train.py:99: UserWarning: Using a target size (torch.Size([32])) that is different to the input size (torch.Size([32, 1])). This will likely lead to incorrect results due to broadcasting. Please ensure they have the same size.\n",
      "  loss = F.smooth_l1_loss(q_s_a, target)\n",
      "/home/raghaveendrawork/Desktop/RaghavendraTrading/TradingBotDeepRL/examples/../train.py:99: UserWarning: Using a target size (torch.Size([32])) that is different to the input size (torch.Size([32, 1])). This will likely lead to incorrect results due to broadcasting. Please ensure they have the same size.\n",
      "  loss = F.smooth_l1_loss(q_s_a, target)\n",
      "/home/raghaveendrawork/Desktop/RaghavendraTrading/TradingBotDeepRL/examples/../train.py:99: UserWarning: Using a target size (torch.Size([32])) that is different to the input size (torch.Size([32, 1])). This will likely lead to incorrect results due to broadcasting. Please ensure they have the same size.\n",
      "  loss = F.smooth_l1_loss(q_s_a, target)\n",
      "/home/raghaveendrawork/Desktop/RaghavendraTrading/TradingBotDeepRL/examples/../train.py:99: UserWarning: Using a target size (torch.Size([32])) that is different to the input size (torch.Size([32, 1])). This will likely lead to incorrect results due to broadcasting. Please ensure they have the same size.\n",
      "  loss = F.smooth_l1_loss(q_s_a, target)\n",
      "/home/raghaveendrawork/Desktop/RaghavendraTrading/TradingBotDeepRL/examples/../train.py:99: UserWarning: Using a target size (torch.Size([32])) that is different to the input size (torch.Size([32, 1])). This will likely lead to incorrect results due to broadcasting. Please ensure they have the same size.\n",
      "  loss = F.smooth_l1_loss(q_s_a, target)\n",
      "/home/raghaveendrawork/Desktop/RaghavendraTrading/TradingBotDeepRL/examples/../train.py:99: UserWarning: Using a target size (torch.Size([32])) that is different to the input size (torch.Size([32, 1])). This will likely lead to incorrect results due to broadcasting. Please ensure they have the same size.\n",
      "  loss = F.smooth_l1_loss(q_s_a, target)\n",
      "/home/raghaveendrawork/Desktop/RaghavendraTrading/TradingBotDeepRL/examples/../train.py:99: UserWarning: Using a target size (torch.Size([32])) that is different to the input size (torch.Size([32, 1])). This will likely lead to incorrect results due to broadcasting. Please ensure they have the same size.\n",
      "  loss = F.smooth_l1_loss(q_s_a, target)\n"
     ]
    },
    {
     "name": "stdout",
     "output_type": "stream",
     "text": [
      "Rewards: torch.Size([32]), Q_s_a_max: torch.Size([32]), q_s_a: torch.Size([32, 1]), Dones: (32,)\n",
      "Rewards: torch.Size([32]), Q_s_a_max: torch.Size([32]), q_s_a: torch.Size([32, 1]), Dones: (32,)\n",
      "Rewards: torch.Size([32]), Q_s_a_max: torch.Size([32]), q_s_a: torch.Size([32, 1]), Dones: (32,)\n",
      "Rewards: torch.Size([32]), Q_s_a_max: torch.Size([32]), q_s_a: torch.Size([32, 1]), Dones: (32,)\n",
      "Rewards: torch.Size([32]), Q_s_a_max: torch.Size([32]), q_s_a: torch.Size([32, 1]), Dones: (32,)\n",
      "Rewards: torch.Size([32]), Q_s_a_max: torch.Size([32]), q_s_a: torch.Size([32, 1]), Dones: (32,)\n",
      "Rewards: torch.Size([32]), Q_s_a_max: torch.Size([32]), q_s_a: torch.Size([32, 1]), Dones: (32,)\n"
     ]
    },
    {
     "name": "stderr",
     "output_type": "stream",
     "text": [
      "/home/raghaveendrawork/Desktop/RaghavendraTrading/TradingBotDeepRL/examples/../train.py:99: UserWarning: Using a target size (torch.Size([32])) that is different to the input size (torch.Size([32, 1])). This will likely lead to incorrect results due to broadcasting. Please ensure they have the same size.\n",
      "  loss = F.smooth_l1_loss(q_s_a, target)\n",
      "/home/raghaveendrawork/Desktop/RaghavendraTrading/TradingBotDeepRL/examples/../train.py:99: UserWarning: Using a target size (torch.Size([32])) that is different to the input size (torch.Size([32, 1])). This will likely lead to incorrect results due to broadcasting. Please ensure they have the same size.\n",
      "  loss = F.smooth_l1_loss(q_s_a, target)\n",
      "/home/raghaveendrawork/Desktop/RaghavendraTrading/TradingBotDeepRL/examples/../train.py:99: UserWarning: Using a target size (torch.Size([32])) that is different to the input size (torch.Size([32, 1])). This will likely lead to incorrect results due to broadcasting. Please ensure they have the same size.\n",
      "  loss = F.smooth_l1_loss(q_s_a, target)\n",
      "/home/raghaveendrawork/Desktop/RaghavendraTrading/TradingBotDeepRL/examples/../train.py:99: UserWarning: Using a target size (torch.Size([32])) that is different to the input size (torch.Size([32, 1])). This will likely lead to incorrect results due to broadcasting. Please ensure they have the same size.\n",
      "  loss = F.smooth_l1_loss(q_s_a, target)\n",
      "/home/raghaveendrawork/Desktop/RaghavendraTrading/TradingBotDeepRL/examples/../train.py:99: UserWarning: Using a target size (torch.Size([32])) that is different to the input size (torch.Size([32, 1])). This will likely lead to incorrect results due to broadcasting. Please ensure they have the same size.\n",
      "  loss = F.smooth_l1_loss(q_s_a, target)\n",
      "/home/raghaveendrawork/Desktop/RaghavendraTrading/TradingBotDeepRL/examples/../train.py:99: UserWarning: Using a target size (torch.Size([32])) that is different to the input size (torch.Size([32, 1])). This will likely lead to incorrect results due to broadcasting. Please ensure they have the same size.\n",
      "  loss = F.smooth_l1_loss(q_s_a, target)\n",
      "/home/raghaveendrawork/Desktop/RaghavendraTrading/TradingBotDeepRL/examples/../train.py:99: UserWarning: Using a target size (torch.Size([32])) that is different to the input size (torch.Size([32, 1])). This will likely lead to incorrect results due to broadcasting. Please ensure they have the same size.\n",
      "  loss = F.smooth_l1_loss(q_s_a, target)\n"
     ]
    },
    {
     "name": "stdout",
     "output_type": "stream",
     "text": [
      "Rewards: torch.Size([32]), Q_s_a_max: torch.Size([32]), q_s_a: torch.Size([32, 1]), Dones: (32,)\n",
      "Rewards: torch.Size([32]), Q_s_a_max: torch.Size([32]), q_s_a: torch.Size([32, 1]), Dones: (32,)\n",
      "Rewards: torch.Size([32]), Q_s_a_max: torch.Size([32]), q_s_a: torch.Size([32, 1]), Dones: (32,)\n",
      "Rewards: torch.Size([32]), Q_s_a_max: torch.Size([32]), q_s_a: torch.Size([32, 1]), Dones: (32,)\n",
      "Rewards: torch.Size([32]), Q_s_a_max: torch.Size([32]), q_s_a: torch.Size([32, 1]), Dones: (32,)\n",
      "Rewards: torch.Size([32]), Q_s_a_max: torch.Size([32]), q_s_a: torch.Size([32, 1]), Dones: (32,)\n",
      "Rewards: torch.Size([32]), Q_s_a_max: torch.Size([32]), q_s_a: torch.Size([32, 1]), Dones: (32,)\n"
     ]
    },
    {
     "name": "stderr",
     "output_type": "stream",
     "text": [
      "/home/raghaveendrawork/Desktop/RaghavendraTrading/TradingBotDeepRL/examples/../train.py:99: UserWarning: Using a target size (torch.Size([32])) that is different to the input size (torch.Size([32, 1])). This will likely lead to incorrect results due to broadcasting. Please ensure they have the same size.\n",
      "  loss = F.smooth_l1_loss(q_s_a, target)\n",
      "/home/raghaveendrawork/Desktop/RaghavendraTrading/TradingBotDeepRL/examples/../train.py:99: UserWarning: Using a target size (torch.Size([32])) that is different to the input size (torch.Size([32, 1])). This will likely lead to incorrect results due to broadcasting. Please ensure they have the same size.\n",
      "  loss = F.smooth_l1_loss(q_s_a, target)\n",
      "/home/raghaveendrawork/Desktop/RaghavendraTrading/TradingBotDeepRL/examples/../train.py:99: UserWarning: Using a target size (torch.Size([32])) that is different to the input size (torch.Size([32, 1])). This will likely lead to incorrect results due to broadcasting. Please ensure they have the same size.\n",
      "  loss = F.smooth_l1_loss(q_s_a, target)\n",
      "/home/raghaveendrawork/Desktop/RaghavendraTrading/TradingBotDeepRL/examples/../train.py:99: UserWarning: Using a target size (torch.Size([32])) that is different to the input size (torch.Size([32, 1])). This will likely lead to incorrect results due to broadcasting. Please ensure they have the same size.\n",
      "  loss = F.smooth_l1_loss(q_s_a, target)\n",
      "/home/raghaveendrawork/Desktop/RaghavendraTrading/TradingBotDeepRL/examples/../train.py:99: UserWarning: Using a target size (torch.Size([32])) that is different to the input size (torch.Size([32, 1])). This will likely lead to incorrect results due to broadcasting. Please ensure they have the same size.\n",
      "  loss = F.smooth_l1_loss(q_s_a, target)\n",
      "/home/raghaveendrawork/Desktop/RaghavendraTrading/TradingBotDeepRL/examples/../train.py:99: UserWarning: Using a target size (torch.Size([32])) that is different to the input size (torch.Size([32, 1])). This will likely lead to incorrect results due to broadcasting. Please ensure they have the same size.\n",
      "  loss = F.smooth_l1_loss(q_s_a, target)\n",
      "/home/raghaveendrawork/Desktop/RaghavendraTrading/TradingBotDeepRL/examples/../train.py:99: UserWarning: Using a target size (torch.Size([32])) that is different to the input size (torch.Size([32, 1])). This will likely lead to incorrect results due to broadcasting. Please ensure they have the same size.\n",
      "  loss = F.smooth_l1_loss(q_s_a, target)\n"
     ]
    },
    {
     "name": "stdout",
     "output_type": "stream",
     "text": [
      "Rewards: torch.Size([32]), Q_s_a_max: torch.Size([32]), q_s_a: torch.Size([32, 1]), Dones: (32,)\n",
      "Rewards: torch.Size([32]), Q_s_a_max: torch.Size([32]), q_s_a: torch.Size([32, 1]), Dones: (32,)\n",
      "Rewards: torch.Size([32]), Q_s_a_max: torch.Size([32]), q_s_a: torch.Size([32, 1]), Dones: (32,)\n",
      "Rewards: torch.Size([32]), Q_s_a_max: torch.Size([32]), q_s_a: torch.Size([32, 1]), Dones: (32,)\n",
      "Rewards: torch.Size([32]), Q_s_a_max: torch.Size([32]), q_s_a: torch.Size([32, 1]), Dones: (32,)\n",
      "Rewards: torch.Size([32]), Q_s_a_max: torch.Size([32]), q_s_a: torch.Size([32, 1]), Dones: (32,)\n",
      "Rewards: torch.Size([32]), Q_s_a_max: torch.Size([32]), q_s_a: torch.Size([32, 1]), Dones: (32,)\n"
     ]
    },
    {
     "name": "stderr",
     "output_type": "stream",
     "text": [
      "/home/raghaveendrawork/Desktop/RaghavendraTrading/TradingBotDeepRL/examples/../train.py:99: UserWarning: Using a target size (torch.Size([32])) that is different to the input size (torch.Size([32, 1])). This will likely lead to incorrect results due to broadcasting. Please ensure they have the same size.\n",
      "  loss = F.smooth_l1_loss(q_s_a, target)\n",
      "/home/raghaveendrawork/Desktop/RaghavendraTrading/TradingBotDeepRL/examples/../train.py:99: UserWarning: Using a target size (torch.Size([32])) that is different to the input size (torch.Size([32, 1])). This will likely lead to incorrect results due to broadcasting. Please ensure they have the same size.\n",
      "  loss = F.smooth_l1_loss(q_s_a, target)\n",
      "/home/raghaveendrawork/Desktop/RaghavendraTrading/TradingBotDeepRL/examples/../train.py:99: UserWarning: Using a target size (torch.Size([32])) that is different to the input size (torch.Size([32, 1])). This will likely lead to incorrect results due to broadcasting. Please ensure they have the same size.\n",
      "  loss = F.smooth_l1_loss(q_s_a, target)\n",
      "/home/raghaveendrawork/Desktop/RaghavendraTrading/TradingBotDeepRL/examples/../train.py:99: UserWarning: Using a target size (torch.Size([32])) that is different to the input size (torch.Size([32, 1])). This will likely lead to incorrect results due to broadcasting. Please ensure they have the same size.\n",
      "  loss = F.smooth_l1_loss(q_s_a, target)\n",
      "/home/raghaveendrawork/Desktop/RaghavendraTrading/TradingBotDeepRL/examples/../train.py:99: UserWarning: Using a target size (torch.Size([32])) that is different to the input size (torch.Size([32, 1])). This will likely lead to incorrect results due to broadcasting. Please ensure they have the same size.\n",
      "  loss = F.smooth_l1_loss(q_s_a, target)\n",
      "/home/raghaveendrawork/Desktop/RaghavendraTrading/TradingBotDeepRL/examples/../train.py:99: UserWarning: Using a target size (torch.Size([32])) that is different to the input size (torch.Size([32, 1])). This will likely lead to incorrect results due to broadcasting. Please ensure they have the same size.\n",
      "  loss = F.smooth_l1_loss(q_s_a, target)\n",
      "/home/raghaveendrawork/Desktop/RaghavendraTrading/TradingBotDeepRL/examples/../train.py:99: UserWarning: Using a target size (torch.Size([32])) that is different to the input size (torch.Size([32, 1])). This will likely lead to incorrect results due to broadcasting. Please ensure they have the same size.\n",
      "  loss = F.smooth_l1_loss(q_s_a, target)\n"
     ]
    },
    {
     "name": "stdout",
     "output_type": "stream",
     "text": [
      "Rewards: torch.Size([32]), Q_s_a_max: torch.Size([32]), q_s_a: torch.Size([32, 1]), Dones: (32,)\n",
      "Rewards: torch.Size([32]), Q_s_a_max: torch.Size([32]), q_s_a: torch.Size([32, 1]), Dones: (32,)\n",
      "Rewards: torch.Size([32]), Q_s_a_max: torch.Size([32]), q_s_a: torch.Size([32, 1]), Dones: (32,)\n",
      "Rewards: torch.Size([32]), Q_s_a_max: torch.Size([32]), q_s_a: torch.Size([32, 1]), Dones: (32,)\n",
      "Rewards: torch.Size([32]), Q_s_a_max: torch.Size([32]), q_s_a: torch.Size([32, 1]), Dones: (32,)\n",
      "Rewards: torch.Size([32]), Q_s_a_max: torch.Size([32]), q_s_a: torch.Size([32, 1]), Dones: (32,)\n"
     ]
    },
    {
     "name": "stderr",
     "output_type": "stream",
     "text": [
      "/home/raghaveendrawork/Desktop/RaghavendraTrading/TradingBotDeepRL/examples/../train.py:99: UserWarning: Using a target size (torch.Size([32])) that is different to the input size (torch.Size([32, 1])). This will likely lead to incorrect results due to broadcasting. Please ensure they have the same size.\n",
      "  loss = F.smooth_l1_loss(q_s_a, target)\n",
      "/home/raghaveendrawork/Desktop/RaghavendraTrading/TradingBotDeepRL/examples/../train.py:99: UserWarning: Using a target size (torch.Size([32])) that is different to the input size (torch.Size([32, 1])). This will likely lead to incorrect results due to broadcasting. Please ensure they have the same size.\n",
      "  loss = F.smooth_l1_loss(q_s_a, target)\n",
      "/home/raghaveendrawork/Desktop/RaghavendraTrading/TradingBotDeepRL/examples/../train.py:99: UserWarning: Using a target size (torch.Size([32])) that is different to the input size (torch.Size([32, 1])). This will likely lead to incorrect results due to broadcasting. Please ensure they have the same size.\n",
      "  loss = F.smooth_l1_loss(q_s_a, target)\n",
      "/home/raghaveendrawork/Desktop/RaghavendraTrading/TradingBotDeepRL/examples/../train.py:99: UserWarning: Using a target size (torch.Size([32])) that is different to the input size (torch.Size([32, 1])). This will likely lead to incorrect results due to broadcasting. Please ensure they have the same size.\n",
      "  loss = F.smooth_l1_loss(q_s_a, target)\n",
      "/home/raghaveendrawork/Desktop/RaghavendraTrading/TradingBotDeepRL/examples/../train.py:99: UserWarning: Using a target size (torch.Size([32])) that is different to the input size (torch.Size([32, 1])). This will likely lead to incorrect results due to broadcasting. Please ensure they have the same size.\n",
      "  loss = F.smooth_l1_loss(q_s_a, target)\n",
      "/home/raghaveendrawork/Desktop/RaghavendraTrading/TradingBotDeepRL/examples/../train.py:99: UserWarning: Using a target size (torch.Size([32])) that is different to the input size (torch.Size([32, 1])). This will likely lead to incorrect results due to broadcasting. Please ensure they have the same size.\n",
      "  loss = F.smooth_l1_loss(q_s_a, target)\n"
     ]
    },
    {
     "name": "stdout",
     "output_type": "stream",
     "text": [
      "Rewards: torch.Size([32]), Q_s_a_max: torch.Size([32]), q_s_a: torch.Size([32, 1]), Dones: (32,)\n",
      "Rewards: torch.Size([32]), Q_s_a_max: torch.Size([32]), q_s_a: torch.Size([32, 1]), Dones: (32,)\n",
      "Rewards: torch.Size([32]), Q_s_a_max: torch.Size([32]), q_s_a: torch.Size([32, 1]), Dones: (32,)\n",
      "Rewards: torch.Size([32]), Q_s_a_max: torch.Size([32]), q_s_a: torch.Size([32, 1]), Dones: (32,)\n",
      "Rewards: torch.Size([32]), Q_s_a_max: torch.Size([32]), q_s_a: torch.Size([32, 1]), Dones: (32,)\n",
      "Rewards: torch.Size([32]), Q_s_a_max: torch.Size([32]), q_s_a: torch.Size([32, 1]), Dones: (32,)\n",
      "Rewards: torch.Size([32]), Q_s_a_max: torch.Size([32]), q_s_a: torch.Size([32, 1]), Dones: (32,)\n"
     ]
    },
    {
     "name": "stderr",
     "output_type": "stream",
     "text": [
      "/home/raghaveendrawork/Desktop/RaghavendraTrading/TradingBotDeepRL/examples/../train.py:99: UserWarning: Using a target size (torch.Size([32])) that is different to the input size (torch.Size([32, 1])). This will likely lead to incorrect results due to broadcasting. Please ensure they have the same size.\n",
      "  loss = F.smooth_l1_loss(q_s_a, target)\n",
      "/home/raghaveendrawork/Desktop/RaghavendraTrading/TradingBotDeepRL/examples/../train.py:99: UserWarning: Using a target size (torch.Size([32])) that is different to the input size (torch.Size([32, 1])). This will likely lead to incorrect results due to broadcasting. Please ensure they have the same size.\n",
      "  loss = F.smooth_l1_loss(q_s_a, target)\n",
      "/home/raghaveendrawork/Desktop/RaghavendraTrading/TradingBotDeepRL/examples/../train.py:99: UserWarning: Using a target size (torch.Size([32])) that is different to the input size (torch.Size([32, 1])). This will likely lead to incorrect results due to broadcasting. Please ensure they have the same size.\n",
      "  loss = F.smooth_l1_loss(q_s_a, target)\n",
      "/home/raghaveendrawork/Desktop/RaghavendraTrading/TradingBotDeepRL/examples/../train.py:99: UserWarning: Using a target size (torch.Size([32])) that is different to the input size (torch.Size([32, 1])). This will likely lead to incorrect results due to broadcasting. Please ensure they have the same size.\n",
      "  loss = F.smooth_l1_loss(q_s_a, target)\n",
      "/home/raghaveendrawork/Desktop/RaghavendraTrading/TradingBotDeepRL/examples/../train.py:99: UserWarning: Using a target size (torch.Size([32])) that is different to the input size (torch.Size([32, 1])). This will likely lead to incorrect results due to broadcasting. Please ensure they have the same size.\n",
      "  loss = F.smooth_l1_loss(q_s_a, target)\n",
      "/home/raghaveendrawork/Desktop/RaghavendraTrading/TradingBotDeepRL/examples/../train.py:99: UserWarning: Using a target size (torch.Size([32])) that is different to the input size (torch.Size([32, 1])). This will likely lead to incorrect results due to broadcasting. Please ensure they have the same size.\n",
      "  loss = F.smooth_l1_loss(q_s_a, target)\n",
      "/home/raghaveendrawork/Desktop/RaghavendraTrading/TradingBotDeepRL/examples/../train.py:99: UserWarning: Using a target size (torch.Size([32])) that is different to the input size (torch.Size([32, 1])). This will likely lead to incorrect results due to broadcasting. Please ensure they have the same size.\n",
      "  loss = F.smooth_l1_loss(q_s_a, target)\n"
     ]
    },
    {
     "name": "stdout",
     "output_type": "stream",
     "text": [
      "Rewards: torch.Size([32]), Q_s_a_max: torch.Size([32]), q_s_a: torch.Size([32, 1]), Dones: (32,)\n",
      "Rewards: torch.Size([32]), Q_s_a_max: torch.Size([32]), q_s_a: torch.Size([32, 1]), Dones: (32,)\n",
      "Rewards: torch.Size([32]), Q_s_a_max: torch.Size([32]), q_s_a: torch.Size([32, 1]), Dones: (32,)\n",
      "Rewards: torch.Size([32]), Q_s_a_max: torch.Size([32]), q_s_a: torch.Size([32, 1]), Dones: (32,)\n",
      "Rewards: torch.Size([32]), Q_s_a_max: torch.Size([32]), q_s_a: torch.Size([32, 1]), Dones: (32,)\n"
     ]
    },
    {
     "name": "stderr",
     "output_type": "stream",
     "text": [
      "/home/raghaveendrawork/Desktop/RaghavendraTrading/TradingBotDeepRL/examples/../train.py:99: UserWarning: Using a target size (torch.Size([32])) that is different to the input size (torch.Size([32, 1])). This will likely lead to incorrect results due to broadcasting. Please ensure they have the same size.\n",
      "  loss = F.smooth_l1_loss(q_s_a, target)\n",
      "/home/raghaveendrawork/Desktop/RaghavendraTrading/TradingBotDeepRL/examples/../train.py:99: UserWarning: Using a target size (torch.Size([32])) that is different to the input size (torch.Size([32, 1])). This will likely lead to incorrect results due to broadcasting. Please ensure they have the same size.\n",
      "  loss = F.smooth_l1_loss(q_s_a, target)\n",
      "/home/raghaveendrawork/Desktop/RaghavendraTrading/TradingBotDeepRL/examples/../train.py:99: UserWarning: Using a target size (torch.Size([32])) that is different to the input size (torch.Size([32, 1])). This will likely lead to incorrect results due to broadcasting. Please ensure they have the same size.\n",
      "  loss = F.smooth_l1_loss(q_s_a, target)\n",
      "/home/raghaveendrawork/Desktop/RaghavendraTrading/TradingBotDeepRL/examples/../train.py:99: UserWarning: Using a target size (torch.Size([32])) that is different to the input size (torch.Size([32, 1])). This will likely lead to incorrect results due to broadcasting. Please ensure they have the same size.\n",
      "  loss = F.smooth_l1_loss(q_s_a, target)\n",
      "/home/raghaveendrawork/Desktop/RaghavendraTrading/TradingBotDeepRL/examples/../train.py:99: UserWarning: Using a target size (torch.Size([32])) that is different to the input size (torch.Size([32, 1])). This will likely lead to incorrect results due to broadcasting. Please ensure they have the same size.\n",
      "  loss = F.smooth_l1_loss(q_s_a, target)\n"
     ]
    },
    {
     "name": "stdout",
     "output_type": "stream",
     "text": [
      "Rewards: torch.Size([32]), Q_s_a_max: torch.Size([32]), q_s_a: torch.Size([32, 1]), Dones: (32,)\n",
      "Rewards: torch.Size([32]), Q_s_a_max: torch.Size([32]), q_s_a: torch.Size([32, 1]), Dones: (32,)\n",
      "Rewards: torch.Size([32]), Q_s_a_max: torch.Size([32]), q_s_a: torch.Size([32, 1]), Dones: (32,)\n",
      "Rewards: torch.Size([32]), Q_s_a_max: torch.Size([32]), q_s_a: torch.Size([32, 1]), Dones: (32,)\n",
      "Rewards: torch.Size([32]), Q_s_a_max: torch.Size([32]), q_s_a: torch.Size([32, 1]), Dones: (32,)\n"
     ]
    },
    {
     "name": "stderr",
     "output_type": "stream",
     "text": [
      "/home/raghaveendrawork/Desktop/RaghavendraTrading/TradingBotDeepRL/examples/../train.py:99: UserWarning: Using a target size (torch.Size([32])) that is different to the input size (torch.Size([32, 1])). This will likely lead to incorrect results due to broadcasting. Please ensure they have the same size.\n",
      "  loss = F.smooth_l1_loss(q_s_a, target)\n",
      "/home/raghaveendrawork/Desktop/RaghavendraTrading/TradingBotDeepRL/examples/../train.py:99: UserWarning: Using a target size (torch.Size([32])) that is different to the input size (torch.Size([32, 1])). This will likely lead to incorrect results due to broadcasting. Please ensure they have the same size.\n",
      "  loss = F.smooth_l1_loss(q_s_a, target)\n",
      "/home/raghaveendrawork/Desktop/RaghavendraTrading/TradingBotDeepRL/examples/../train.py:99: UserWarning: Using a target size (torch.Size([32])) that is different to the input size (torch.Size([32, 1])). This will likely lead to incorrect results due to broadcasting. Please ensure they have the same size.\n",
      "  loss = F.smooth_l1_loss(q_s_a, target)\n",
      "/home/raghaveendrawork/Desktop/RaghavendraTrading/TradingBotDeepRL/examples/../train.py:99: UserWarning: Using a target size (torch.Size([32])) that is different to the input size (torch.Size([32, 1])). This will likely lead to incorrect results due to broadcasting. Please ensure they have the same size.\n",
      "  loss = F.smooth_l1_loss(q_s_a, target)\n",
      "/home/raghaveendrawork/Desktop/RaghavendraTrading/TradingBotDeepRL/examples/../train.py:99: UserWarning: Using a target size (torch.Size([32])) that is different to the input size (torch.Size([32, 1])). This will likely lead to incorrect results due to broadcasting. Please ensure they have the same size.\n",
      "  loss = F.smooth_l1_loss(q_s_a, target)\n"
     ]
    },
    {
     "name": "stdout",
     "output_type": "stream",
     "text": [
      "Rewards: torch.Size([32]), Q_s_a_max: torch.Size([32]), q_s_a: torch.Size([32, 1]), Dones: (32,)\n",
      "Rewards: torch.Size([32]), Q_s_a_max: torch.Size([32]), q_s_a: torch.Size([32, 1]), Dones: (32,)\n",
      "Rewards: torch.Size([32]), Q_s_a_max: torch.Size([32]), q_s_a: torch.Size([32, 1]), Dones: (32,)\n",
      "Rewards: torch.Size([32]), Q_s_a_max: torch.Size([32]), q_s_a: torch.Size([32, 1]), Dones: (32,)\n",
      "Rewards: torch.Size([32]), Q_s_a_max: torch.Size([32]), q_s_a: torch.Size([32, 1]), Dones: (32,)\n"
     ]
    },
    {
     "name": "stderr",
     "output_type": "stream",
     "text": [
      "/home/raghaveendrawork/Desktop/RaghavendraTrading/TradingBotDeepRL/examples/../train.py:99: UserWarning: Using a target size (torch.Size([32])) that is different to the input size (torch.Size([32, 1])). This will likely lead to incorrect results due to broadcasting. Please ensure they have the same size.\n",
      "  loss = F.smooth_l1_loss(q_s_a, target)\n",
      "/home/raghaveendrawork/Desktop/RaghavendraTrading/TradingBotDeepRL/examples/../train.py:99: UserWarning: Using a target size (torch.Size([32])) that is different to the input size (torch.Size([32, 1])). This will likely lead to incorrect results due to broadcasting. Please ensure they have the same size.\n",
      "  loss = F.smooth_l1_loss(q_s_a, target)\n",
      "/home/raghaveendrawork/Desktop/RaghavendraTrading/TradingBotDeepRL/examples/../train.py:99: UserWarning: Using a target size (torch.Size([32])) that is different to the input size (torch.Size([32, 1])). This will likely lead to incorrect results due to broadcasting. Please ensure they have the same size.\n",
      "  loss = F.smooth_l1_loss(q_s_a, target)\n",
      "/home/raghaveendrawork/Desktop/RaghavendraTrading/TradingBotDeepRL/examples/../train.py:99: UserWarning: Using a target size (torch.Size([32])) that is different to the input size (torch.Size([32, 1])). This will likely lead to incorrect results due to broadcasting. Please ensure they have the same size.\n",
      "  loss = F.smooth_l1_loss(q_s_a, target)\n",
      "/home/raghaveendrawork/Desktop/RaghavendraTrading/TradingBotDeepRL/examples/../train.py:99: UserWarning: Using a target size (torch.Size([32])) that is different to the input size (torch.Size([32, 1])). This will likely lead to incorrect results due to broadcasting. Please ensure they have the same size.\n",
      "  loss = F.smooth_l1_loss(q_s_a, target)\n"
     ]
    },
    {
     "name": "stdout",
     "output_type": "stream",
     "text": [
      "Rewards: torch.Size([32]), Q_s_a_max: torch.Size([32]), q_s_a: torch.Size([32, 1]), Dones: (32,)\n",
      "Rewards: torch.Size([32]), Q_s_a_max: torch.Size([32]), q_s_a: torch.Size([32, 1]), Dones: (32,)\n",
      "Rewards: torch.Size([32]), Q_s_a_max: torch.Size([32]), q_s_a: torch.Size([32, 1]), Dones: (32,)\n",
      "Rewards: torch.Size([32]), Q_s_a_max: torch.Size([32]), q_s_a: torch.Size([32, 1]), Dones: (32,)\n",
      "Rewards: torch.Size([32]), Q_s_a_max: torch.Size([32]), q_s_a: torch.Size([32, 1]), Dones: (32,)\n",
      "Rewards: torch.Size([32]), Q_s_a_max: torch.Size([32]), q_s_a: torch.Size([32, 1]), Dones: (32,)\n"
     ]
    },
    {
     "name": "stderr",
     "output_type": "stream",
     "text": [
      "/home/raghaveendrawork/Desktop/RaghavendraTrading/TradingBotDeepRL/examples/../train.py:99: UserWarning: Using a target size (torch.Size([32])) that is different to the input size (torch.Size([32, 1])). This will likely lead to incorrect results due to broadcasting. Please ensure they have the same size.\n",
      "  loss = F.smooth_l1_loss(q_s_a, target)\n",
      "/home/raghaveendrawork/Desktop/RaghavendraTrading/TradingBotDeepRL/examples/../train.py:99: UserWarning: Using a target size (torch.Size([32])) that is different to the input size (torch.Size([32, 1])). This will likely lead to incorrect results due to broadcasting. Please ensure they have the same size.\n",
      "  loss = F.smooth_l1_loss(q_s_a, target)\n",
      "/home/raghaveendrawork/Desktop/RaghavendraTrading/TradingBotDeepRL/examples/../train.py:99: UserWarning: Using a target size (torch.Size([32])) that is different to the input size (torch.Size([32, 1])). This will likely lead to incorrect results due to broadcasting. Please ensure they have the same size.\n",
      "  loss = F.smooth_l1_loss(q_s_a, target)\n",
      "/home/raghaveendrawork/Desktop/RaghavendraTrading/TradingBotDeepRL/examples/../train.py:99: UserWarning: Using a target size (torch.Size([32])) that is different to the input size (torch.Size([32, 1])). This will likely lead to incorrect results due to broadcasting. Please ensure they have the same size.\n",
      "  loss = F.smooth_l1_loss(q_s_a, target)\n",
      "/home/raghaveendrawork/Desktop/RaghavendraTrading/TradingBotDeepRL/examples/../train.py:99: UserWarning: Using a target size (torch.Size([32])) that is different to the input size (torch.Size([32, 1])). This will likely lead to incorrect results due to broadcasting. Please ensure they have the same size.\n",
      "  loss = F.smooth_l1_loss(q_s_a, target)\n",
      "/home/raghaveendrawork/Desktop/RaghavendraTrading/TradingBotDeepRL/examples/../train.py:99: UserWarning: Using a target size (torch.Size([32])) that is different to the input size (torch.Size([32, 1])). This will likely lead to incorrect results due to broadcasting. Please ensure they have the same size.\n",
      "  loss = F.smooth_l1_loss(q_s_a, target)\n"
     ]
    },
    {
     "name": "stdout",
     "output_type": "stream",
     "text": [
      "Rewards: torch.Size([32]), Q_s_a_max: torch.Size([32]), q_s_a: torch.Size([32, 1]), Dones: (32,)\n",
      "Rewards: torch.Size([32]), Q_s_a_max: torch.Size([32]), q_s_a: torch.Size([32, 1]), Dones: (32,)\n",
      "Rewards: torch.Size([32]), Q_s_a_max: torch.Size([32]), q_s_a: torch.Size([32, 1]), Dones: (32,)\n",
      "Rewards: torch.Size([32]), Q_s_a_max: torch.Size([32]), q_s_a: torch.Size([32, 1]), Dones: (32,)\n",
      "Rewards: torch.Size([32]), Q_s_a_max: torch.Size([32]), q_s_a: torch.Size([32, 1]), Dones: (32,)\n",
      "Rewards: torch.Size([32]), Q_s_a_max: torch.Size([32]), q_s_a: torch.Size([32, 1]), Dones: (32,)\n"
     ]
    },
    {
     "name": "stderr",
     "output_type": "stream",
     "text": [
      "/home/raghaveendrawork/Desktop/RaghavendraTrading/TradingBotDeepRL/examples/../train.py:99: UserWarning: Using a target size (torch.Size([32])) that is different to the input size (torch.Size([32, 1])). This will likely lead to incorrect results due to broadcasting. Please ensure they have the same size.\n",
      "  loss = F.smooth_l1_loss(q_s_a, target)\n",
      "/home/raghaveendrawork/Desktop/RaghavendraTrading/TradingBotDeepRL/examples/../train.py:99: UserWarning: Using a target size (torch.Size([32])) that is different to the input size (torch.Size([32, 1])). This will likely lead to incorrect results due to broadcasting. Please ensure they have the same size.\n",
      "  loss = F.smooth_l1_loss(q_s_a, target)\n",
      "/home/raghaveendrawork/Desktop/RaghavendraTrading/TradingBotDeepRL/examples/../train.py:99: UserWarning: Using a target size (torch.Size([32])) that is different to the input size (torch.Size([32, 1])). This will likely lead to incorrect results due to broadcasting. Please ensure they have the same size.\n",
      "  loss = F.smooth_l1_loss(q_s_a, target)\n",
      "/home/raghaveendrawork/Desktop/RaghavendraTrading/TradingBotDeepRL/examples/../train.py:99: UserWarning: Using a target size (torch.Size([32])) that is different to the input size (torch.Size([32, 1])). This will likely lead to incorrect results due to broadcasting. Please ensure they have the same size.\n",
      "  loss = F.smooth_l1_loss(q_s_a, target)\n",
      "/home/raghaveendrawork/Desktop/RaghavendraTrading/TradingBotDeepRL/examples/../train.py:99: UserWarning: Using a target size (torch.Size([32])) that is different to the input size (torch.Size([32, 1])). This will likely lead to incorrect results due to broadcasting. Please ensure they have the same size.\n",
      "  loss = F.smooth_l1_loss(q_s_a, target)\n",
      "/home/raghaveendrawork/Desktop/RaghavendraTrading/TradingBotDeepRL/examples/../train.py:99: UserWarning: Using a target size (torch.Size([32])) that is different to the input size (torch.Size([32, 1])). This will likely lead to incorrect results due to broadcasting. Please ensure they have the same size.\n",
      "  loss = F.smooth_l1_loss(q_s_a, target)\n"
     ]
    },
    {
     "name": "stdout",
     "output_type": "stream",
     "text": [
      "Rewards: torch.Size([32]), Q_s_a_max: torch.Size([32]), q_s_a: torch.Size([32, 1]), Dones: (32,)\n",
      "Rewards: torch.Size([32]), Q_s_a_max: torch.Size([32]), q_s_a: torch.Size([32, 1]), Dones: (32,)\n",
      "Rewards: torch.Size([32]), Q_s_a_max: torch.Size([32]), q_s_a: torch.Size([32, 1]), Dones: (32,)\n",
      "Rewards: torch.Size([32]), Q_s_a_max: torch.Size([32]), q_s_a: torch.Size([32, 1]), Dones: (32,)\n",
      "Rewards: torch.Size([32]), Q_s_a_max: torch.Size([32]), q_s_a: torch.Size([32, 1]), Dones: (32,)\n"
     ]
    },
    {
     "name": "stderr",
     "output_type": "stream",
     "text": [
      "/home/raghaveendrawork/Desktop/RaghavendraTrading/TradingBotDeepRL/examples/../train.py:99: UserWarning: Using a target size (torch.Size([32])) that is different to the input size (torch.Size([32, 1])). This will likely lead to incorrect results due to broadcasting. Please ensure they have the same size.\n",
      "  loss = F.smooth_l1_loss(q_s_a, target)\n",
      "/home/raghaveendrawork/Desktop/RaghavendraTrading/TradingBotDeepRL/examples/../train.py:99: UserWarning: Using a target size (torch.Size([32])) that is different to the input size (torch.Size([32, 1])). This will likely lead to incorrect results due to broadcasting. Please ensure they have the same size.\n",
      "  loss = F.smooth_l1_loss(q_s_a, target)\n",
      "/home/raghaveendrawork/Desktop/RaghavendraTrading/TradingBotDeepRL/examples/../train.py:99: UserWarning: Using a target size (torch.Size([32])) that is different to the input size (torch.Size([32, 1])). This will likely lead to incorrect results due to broadcasting. Please ensure they have the same size.\n",
      "  loss = F.smooth_l1_loss(q_s_a, target)\n",
      "/home/raghaveendrawork/Desktop/RaghavendraTrading/TradingBotDeepRL/examples/../train.py:99: UserWarning: Using a target size (torch.Size([32])) that is different to the input size (torch.Size([32, 1])). This will likely lead to incorrect results due to broadcasting. Please ensure they have the same size.\n",
      "  loss = F.smooth_l1_loss(q_s_a, target)\n",
      "/home/raghaveendrawork/Desktop/RaghavendraTrading/TradingBotDeepRL/examples/../train.py:99: UserWarning: Using a target size (torch.Size([32])) that is different to the input size (torch.Size([32, 1])). This will likely lead to incorrect results due to broadcasting. Please ensure they have the same size.\n",
      "  loss = F.smooth_l1_loss(q_s_a, target)\n"
     ]
    },
    {
     "name": "stdout",
     "output_type": "stream",
     "text": [
      "Rewards: torch.Size([32]), Q_s_a_max: torch.Size([32]), q_s_a: torch.Size([32, 1]), Dones: (32,)\n",
      "Rewards: torch.Size([32]), Q_s_a_max: torch.Size([32]), q_s_a: torch.Size([32, 1]), Dones: (32,)\n",
      "Rewards: torch.Size([32]), Q_s_a_max: torch.Size([32]), q_s_a: torch.Size([32, 1]), Dones: (32,)\n",
      "Rewards: torch.Size([32]), Q_s_a_max: torch.Size([32]), q_s_a: torch.Size([32, 1]), Dones: (32,)\n"
     ]
    },
    {
     "name": "stderr",
     "output_type": "stream",
     "text": [
      "/home/raghaveendrawork/Desktop/RaghavendraTrading/TradingBotDeepRL/examples/../train.py:99: UserWarning: Using a target size (torch.Size([32])) that is different to the input size (torch.Size([32, 1])). This will likely lead to incorrect results due to broadcasting. Please ensure they have the same size.\n",
      "  loss = F.smooth_l1_loss(q_s_a, target)\n",
      "/home/raghaveendrawork/Desktop/RaghavendraTrading/TradingBotDeepRL/examples/../train.py:99: UserWarning: Using a target size (torch.Size([32])) that is different to the input size (torch.Size([32, 1])). This will likely lead to incorrect results due to broadcasting. Please ensure they have the same size.\n",
      "  loss = F.smooth_l1_loss(q_s_a, target)\n",
      "/home/raghaveendrawork/Desktop/RaghavendraTrading/TradingBotDeepRL/examples/../train.py:99: UserWarning: Using a target size (torch.Size([32])) that is different to the input size (torch.Size([32, 1])). This will likely lead to incorrect results due to broadcasting. Please ensure they have the same size.\n",
      "  loss = F.smooth_l1_loss(q_s_a, target)\n",
      "/home/raghaveendrawork/Desktop/RaghavendraTrading/TradingBotDeepRL/examples/../train.py:99: UserWarning: Using a target size (torch.Size([32])) that is different to the input size (torch.Size([32, 1])). This will likely lead to incorrect results due to broadcasting. Please ensure they have the same size.\n",
      "  loss = F.smooth_l1_loss(q_s_a, target)\n"
     ]
    },
    {
     "name": "stdout",
     "output_type": "stream",
     "text": [
      "Rewards: torch.Size([32]), Q_s_a_max: torch.Size([32]), q_s_a: torch.Size([32, 1]), Dones: (32,)\n",
      "Rewards: torch.Size([32]), Q_s_a_max: torch.Size([32]), q_s_a: torch.Size([32, 1]), Dones: (32,)\n",
      "Rewards: torch.Size([32]), Q_s_a_max: torch.Size([32]), q_s_a: torch.Size([32, 1]), Dones: (32,)\n",
      "Rewards: torch.Size([32]), Q_s_a_max: torch.Size([32]), q_s_a: torch.Size([32, 1]), Dones: (32,)\n",
      "Rewards: torch.Size([32]), Q_s_a_max: torch.Size([32]), q_s_a: torch.Size([32, 1]), Dones: (32,)\n",
      "Rewards: torch.Size([32]), Q_s_a_max: torch.Size([32]), q_s_a: torch.Size([32, 1]), Dones: (32,)\n"
     ]
    },
    {
     "name": "stderr",
     "output_type": "stream",
     "text": [
      "/home/raghaveendrawork/Desktop/RaghavendraTrading/TradingBotDeepRL/examples/../train.py:99: UserWarning: Using a target size (torch.Size([32])) that is different to the input size (torch.Size([32, 1])). This will likely lead to incorrect results due to broadcasting. Please ensure they have the same size.\n",
      "  loss = F.smooth_l1_loss(q_s_a, target)\n",
      "/home/raghaveendrawork/Desktop/RaghavendraTrading/TradingBotDeepRL/examples/../train.py:99: UserWarning: Using a target size (torch.Size([32])) that is different to the input size (torch.Size([32, 1])). This will likely lead to incorrect results due to broadcasting. Please ensure they have the same size.\n",
      "  loss = F.smooth_l1_loss(q_s_a, target)\n",
      "/home/raghaveendrawork/Desktop/RaghavendraTrading/TradingBotDeepRL/examples/../train.py:99: UserWarning: Using a target size (torch.Size([32])) that is different to the input size (torch.Size([32, 1])). This will likely lead to incorrect results due to broadcasting. Please ensure they have the same size.\n",
      "  loss = F.smooth_l1_loss(q_s_a, target)\n",
      "/home/raghaveendrawork/Desktop/RaghavendraTrading/TradingBotDeepRL/examples/../train.py:99: UserWarning: Using a target size (torch.Size([32])) that is different to the input size (torch.Size([32, 1])). This will likely lead to incorrect results due to broadcasting. Please ensure they have the same size.\n",
      "  loss = F.smooth_l1_loss(q_s_a, target)\n",
      "/home/raghaveendrawork/Desktop/RaghavendraTrading/TradingBotDeepRL/examples/../train.py:99: UserWarning: Using a target size (torch.Size([32])) that is different to the input size (torch.Size([32, 1])). This will likely lead to incorrect results due to broadcasting. Please ensure they have the same size.\n",
      "  loss = F.smooth_l1_loss(q_s_a, target)\n",
      "/home/raghaveendrawork/Desktop/RaghavendraTrading/TradingBotDeepRL/examples/../train.py:99: UserWarning: Using a target size (torch.Size([32])) that is different to the input size (torch.Size([32, 1])). This will likely lead to incorrect results due to broadcasting. Please ensure they have the same size.\n",
      "  loss = F.smooth_l1_loss(q_s_a, target)\n"
     ]
    },
    {
     "name": "stdout",
     "output_type": "stream",
     "text": [
      "Rewards: torch.Size([32]), Q_s_a_max: torch.Size([32]), q_s_a: torch.Size([32, 1]), Dones: (32,)\n",
      "Rewards: torch.Size([32]), Q_s_a_max: torch.Size([32]), q_s_a: torch.Size([32, 1]), Dones: (32,)\n",
      "Rewards: torch.Size([32]), Q_s_a_max: torch.Size([32]), q_s_a: torch.Size([32, 1]), Dones: (32,)\n",
      "Rewards: torch.Size([32]), Q_s_a_max: torch.Size([32]), q_s_a: torch.Size([32, 1]), Dones: (32,)\n",
      "Rewards: torch.Size([32]), Q_s_a_max: torch.Size([32]), q_s_a: torch.Size([32, 1]), Dones: (32,)\n"
     ]
    },
    {
     "name": "stderr",
     "output_type": "stream",
     "text": [
      "/home/raghaveendrawork/Desktop/RaghavendraTrading/TradingBotDeepRL/examples/../train.py:99: UserWarning: Using a target size (torch.Size([32])) that is different to the input size (torch.Size([32, 1])). This will likely lead to incorrect results due to broadcasting. Please ensure they have the same size.\n",
      "  loss = F.smooth_l1_loss(q_s_a, target)\n",
      "/home/raghaveendrawork/Desktop/RaghavendraTrading/TradingBotDeepRL/examples/../train.py:99: UserWarning: Using a target size (torch.Size([32])) that is different to the input size (torch.Size([32, 1])). This will likely lead to incorrect results due to broadcasting. Please ensure they have the same size.\n",
      "  loss = F.smooth_l1_loss(q_s_a, target)\n",
      "/home/raghaveendrawork/Desktop/RaghavendraTrading/TradingBotDeepRL/examples/../train.py:99: UserWarning: Using a target size (torch.Size([32])) that is different to the input size (torch.Size([32, 1])). This will likely lead to incorrect results due to broadcasting. Please ensure they have the same size.\n",
      "  loss = F.smooth_l1_loss(q_s_a, target)\n",
      "/home/raghaveendrawork/Desktop/RaghavendraTrading/TradingBotDeepRL/examples/../train.py:99: UserWarning: Using a target size (torch.Size([32])) that is different to the input size (torch.Size([32, 1])). This will likely lead to incorrect results due to broadcasting. Please ensure they have the same size.\n",
      "  loss = F.smooth_l1_loss(q_s_a, target)\n",
      "/home/raghaveendrawork/Desktop/RaghavendraTrading/TradingBotDeepRL/examples/../train.py:99: UserWarning: Using a target size (torch.Size([32])) that is different to the input size (torch.Size([32, 1])). This will likely lead to incorrect results due to broadcasting. Please ensure they have the same size.\n",
      "  loss = F.smooth_l1_loss(q_s_a, target)\n"
     ]
    },
    {
     "name": "stdout",
     "output_type": "stream",
     "text": [
      "Rewards: torch.Size([32]), Q_s_a_max: torch.Size([32]), q_s_a: torch.Size([32, 1]), Dones: (32,)\n",
      "Rewards: torch.Size([32]), Q_s_a_max: torch.Size([32]), q_s_a: torch.Size([32, 1]), Dones: (32,)\n",
      "Rewards: torch.Size([32]), Q_s_a_max: torch.Size([32]), q_s_a: torch.Size([32, 1]), Dones: (32,)\n",
      "Rewards: torch.Size([32]), Q_s_a_max: torch.Size([32]), q_s_a: torch.Size([32, 1]), Dones: (32,)\n",
      "Rewards: torch.Size([32]), Q_s_a_max: torch.Size([32]), q_s_a: torch.Size([32, 1]), Dones: (32,)\n",
      "Rewards: torch.Size([32]), Q_s_a_max: torch.Size([32]), q_s_a: torch.Size([32, 1]), Dones: (32,)\n"
     ]
    },
    {
     "name": "stderr",
     "output_type": "stream",
     "text": [
      "/home/raghaveendrawork/Desktop/RaghavendraTrading/TradingBotDeepRL/examples/../train.py:99: UserWarning: Using a target size (torch.Size([32])) that is different to the input size (torch.Size([32, 1])). This will likely lead to incorrect results due to broadcasting. Please ensure they have the same size.\n",
      "  loss = F.smooth_l1_loss(q_s_a, target)\n",
      "/home/raghaveendrawork/Desktop/RaghavendraTrading/TradingBotDeepRL/examples/../train.py:99: UserWarning: Using a target size (torch.Size([32])) that is different to the input size (torch.Size([32, 1])). This will likely lead to incorrect results due to broadcasting. Please ensure they have the same size.\n",
      "  loss = F.smooth_l1_loss(q_s_a, target)\n",
      "/home/raghaveendrawork/Desktop/RaghavendraTrading/TradingBotDeepRL/examples/../train.py:99: UserWarning: Using a target size (torch.Size([32])) that is different to the input size (torch.Size([32, 1])). This will likely lead to incorrect results due to broadcasting. Please ensure they have the same size.\n",
      "  loss = F.smooth_l1_loss(q_s_a, target)\n",
      "/home/raghaveendrawork/Desktop/RaghavendraTrading/TradingBotDeepRL/examples/../train.py:99: UserWarning: Using a target size (torch.Size([32])) that is different to the input size (torch.Size([32, 1])). This will likely lead to incorrect results due to broadcasting. Please ensure they have the same size.\n",
      "  loss = F.smooth_l1_loss(q_s_a, target)\n",
      "/home/raghaveendrawork/Desktop/RaghavendraTrading/TradingBotDeepRL/examples/../train.py:99: UserWarning: Using a target size (torch.Size([32])) that is different to the input size (torch.Size([32, 1])). This will likely lead to incorrect results due to broadcasting. Please ensure they have the same size.\n",
      "  loss = F.smooth_l1_loss(q_s_a, target)\n",
      "/home/raghaveendrawork/Desktop/RaghavendraTrading/TradingBotDeepRL/examples/../train.py:99: UserWarning: Using a target size (torch.Size([32])) that is different to the input size (torch.Size([32, 1])). This will likely lead to incorrect results due to broadcasting. Please ensure they have the same size.\n",
      "  loss = F.smooth_l1_loss(q_s_a, target)\n"
     ]
    },
    {
     "name": "stdout",
     "output_type": "stream",
     "text": [
      "Rewards: torch.Size([32]), Q_s_a_max: torch.Size([32]), q_s_a: torch.Size([32, 1]), Dones: (32,)\n",
      "Rewards: torch.Size([32]), Q_s_a_max: torch.Size([32]), q_s_a: torch.Size([32, 1]), Dones: (32,)\n",
      "Rewards: torch.Size([32]), Q_s_a_max: torch.Size([32]), q_s_a: torch.Size([32, 1]), Dones: (32,)\n",
      "Rewards: torch.Size([32]), Q_s_a_max: torch.Size([32]), q_s_a: torch.Size([32, 1]), Dones: (32,)\n",
      "Rewards: torch.Size([32]), Q_s_a_max: torch.Size([32]), q_s_a: torch.Size([32, 1]), Dones: (32,)\n",
      "Rewards: torch.Size([32]), Q_s_a_max: torch.Size([32]), q_s_a: torch.Size([32, 1]), Dones: (32,)\n",
      "Rewards: torch.Size([32]), Q_s_a_max: torch.Size([32]), q_s_a: torch.Size([32, 1]), Dones: (32,)\n"
     ]
    },
    {
     "name": "stderr",
     "output_type": "stream",
     "text": [
      "/home/raghaveendrawork/Desktop/RaghavendraTrading/TradingBotDeepRL/examples/../train.py:99: UserWarning: Using a target size (torch.Size([32])) that is different to the input size (torch.Size([32, 1])). This will likely lead to incorrect results due to broadcasting. Please ensure they have the same size.\n",
      "  loss = F.smooth_l1_loss(q_s_a, target)\n",
      "/home/raghaveendrawork/Desktop/RaghavendraTrading/TradingBotDeepRL/examples/../train.py:99: UserWarning: Using a target size (torch.Size([32])) that is different to the input size (torch.Size([32, 1])). This will likely lead to incorrect results due to broadcasting. Please ensure they have the same size.\n",
      "  loss = F.smooth_l1_loss(q_s_a, target)\n",
      "/home/raghaveendrawork/Desktop/RaghavendraTrading/TradingBotDeepRL/examples/../train.py:99: UserWarning: Using a target size (torch.Size([32])) that is different to the input size (torch.Size([32, 1])). This will likely lead to incorrect results due to broadcasting. Please ensure they have the same size.\n",
      "  loss = F.smooth_l1_loss(q_s_a, target)\n",
      "/home/raghaveendrawork/Desktop/RaghavendraTrading/TradingBotDeepRL/examples/../train.py:99: UserWarning: Using a target size (torch.Size([32])) that is different to the input size (torch.Size([32, 1])). This will likely lead to incorrect results due to broadcasting. Please ensure they have the same size.\n",
      "  loss = F.smooth_l1_loss(q_s_a, target)\n",
      "/home/raghaveendrawork/Desktop/RaghavendraTrading/TradingBotDeepRL/examples/../train.py:99: UserWarning: Using a target size (torch.Size([32])) that is different to the input size (torch.Size([32, 1])). This will likely lead to incorrect results due to broadcasting. Please ensure they have the same size.\n",
      "  loss = F.smooth_l1_loss(q_s_a, target)\n",
      "/home/raghaveendrawork/Desktop/RaghavendraTrading/TradingBotDeepRL/examples/../train.py:99: UserWarning: Using a target size (torch.Size([32])) that is different to the input size (torch.Size([32, 1])). This will likely lead to incorrect results due to broadcasting. Please ensure they have the same size.\n",
      "  loss = F.smooth_l1_loss(q_s_a, target)\n",
      "/home/raghaveendrawork/Desktop/RaghavendraTrading/TradingBotDeepRL/examples/../train.py:99: UserWarning: Using a target size (torch.Size([32])) that is different to the input size (torch.Size([32, 1])). This will likely lead to incorrect results due to broadcasting. Please ensure they have the same size.\n",
      "  loss = F.smooth_l1_loss(q_s_a, target)\n"
     ]
    },
    {
     "name": "stdout",
     "output_type": "stream",
     "text": [
      "Rewards: torch.Size([32]), Q_s_a_max: torch.Size([32]), q_s_a: torch.Size([32, 1]), Dones: (32,)\n",
      "Rewards: torch.Size([32]), Q_s_a_max: torch.Size([32]), q_s_a: torch.Size([32, 1]), Dones: (32,)\n",
      "Rewards: torch.Size([32]), Q_s_a_max: torch.Size([32]), q_s_a: torch.Size([32, 1]), Dones: (32,)\n",
      "Rewards: torch.Size([32]), Q_s_a_max: torch.Size([32]), q_s_a: torch.Size([32, 1]), Dones: (32,)\n",
      "Rewards: torch.Size([32]), Q_s_a_max: torch.Size([32]), q_s_a: torch.Size([32, 1]), Dones: (32,)\n",
      "Rewards: torch.Size([32]), Q_s_a_max: torch.Size([32]), q_s_a: torch.Size([32, 1]), Dones: (32,)\n",
      "Rewards: torch.Size([32]), Q_s_a_max: torch.Size([32]), q_s_a: torch.Size([32, 1]), Dones: (32,)\n"
     ]
    },
    {
     "name": "stderr",
     "output_type": "stream",
     "text": [
      "/home/raghaveendrawork/Desktop/RaghavendraTrading/TradingBotDeepRL/examples/../train.py:99: UserWarning: Using a target size (torch.Size([32])) that is different to the input size (torch.Size([32, 1])). This will likely lead to incorrect results due to broadcasting. Please ensure they have the same size.\n",
      "  loss = F.smooth_l1_loss(q_s_a, target)\n",
      "/home/raghaveendrawork/Desktop/RaghavendraTrading/TradingBotDeepRL/examples/../train.py:99: UserWarning: Using a target size (torch.Size([32])) that is different to the input size (torch.Size([32, 1])). This will likely lead to incorrect results due to broadcasting. Please ensure they have the same size.\n",
      "  loss = F.smooth_l1_loss(q_s_a, target)\n",
      "/home/raghaveendrawork/Desktop/RaghavendraTrading/TradingBotDeepRL/examples/../train.py:99: UserWarning: Using a target size (torch.Size([32])) that is different to the input size (torch.Size([32, 1])). This will likely lead to incorrect results due to broadcasting. Please ensure they have the same size.\n",
      "  loss = F.smooth_l1_loss(q_s_a, target)\n",
      "/home/raghaveendrawork/Desktop/RaghavendraTrading/TradingBotDeepRL/examples/../train.py:99: UserWarning: Using a target size (torch.Size([32])) that is different to the input size (torch.Size([32, 1])). This will likely lead to incorrect results due to broadcasting. Please ensure they have the same size.\n",
      "  loss = F.smooth_l1_loss(q_s_a, target)\n",
      "/home/raghaveendrawork/Desktop/RaghavendraTrading/TradingBotDeepRL/examples/../train.py:99: UserWarning: Using a target size (torch.Size([32])) that is different to the input size (torch.Size([32, 1])). This will likely lead to incorrect results due to broadcasting. Please ensure they have the same size.\n",
      "  loss = F.smooth_l1_loss(q_s_a, target)\n",
      "/home/raghaveendrawork/Desktop/RaghavendraTrading/TradingBotDeepRL/examples/../train.py:99: UserWarning: Using a target size (torch.Size([32])) that is different to the input size (torch.Size([32, 1])). This will likely lead to incorrect results due to broadcasting. Please ensure they have the same size.\n",
      "  loss = F.smooth_l1_loss(q_s_a, target)\n",
      "/home/raghaveendrawork/Desktop/RaghavendraTrading/TradingBotDeepRL/examples/../train.py:99: UserWarning: Using a target size (torch.Size([32])) that is different to the input size (torch.Size([32, 1])). This will likely lead to incorrect results due to broadcasting. Please ensure they have the same size.\n",
      "  loss = F.smooth_l1_loss(q_s_a, target)\n"
     ]
    },
    {
     "name": "stdout",
     "output_type": "stream",
     "text": [
      "Rewards: torch.Size([32]), Q_s_a_max: torch.Size([32]), q_s_a: torch.Size([32, 1]), Dones: (32,)\n",
      "Rewards: torch.Size([32]), Q_s_a_max: torch.Size([32]), q_s_a: torch.Size([32, 1]), Dones: (32,)\n",
      "Rewards: torch.Size([32]), Q_s_a_max: torch.Size([32]), q_s_a: torch.Size([32, 1]), Dones: (32,)\n",
      "Rewards: torch.Size([32]), Q_s_a_max: torch.Size([32]), q_s_a: torch.Size([32, 1]), Dones: (32,)\n",
      "Rewards: torch.Size([32]), Q_s_a_max: torch.Size([32]), q_s_a: torch.Size([32, 1]), Dones: (32,)\n",
      "Rewards: torch.Size([32]), Q_s_a_max: torch.Size([32]), q_s_a: torch.Size([32, 1]), Dones: (32,)\n"
     ]
    },
    {
     "name": "stderr",
     "output_type": "stream",
     "text": [
      "/home/raghaveendrawork/Desktop/RaghavendraTrading/TradingBotDeepRL/examples/../train.py:99: UserWarning: Using a target size (torch.Size([32])) that is different to the input size (torch.Size([32, 1])). This will likely lead to incorrect results due to broadcasting. Please ensure they have the same size.\n",
      "  loss = F.smooth_l1_loss(q_s_a, target)\n",
      "/home/raghaveendrawork/Desktop/RaghavendraTrading/TradingBotDeepRL/examples/../train.py:99: UserWarning: Using a target size (torch.Size([32])) that is different to the input size (torch.Size([32, 1])). This will likely lead to incorrect results due to broadcasting. Please ensure they have the same size.\n",
      "  loss = F.smooth_l1_loss(q_s_a, target)\n",
      "/home/raghaveendrawork/Desktop/RaghavendraTrading/TradingBotDeepRL/examples/../train.py:99: UserWarning: Using a target size (torch.Size([32])) that is different to the input size (torch.Size([32, 1])). This will likely lead to incorrect results due to broadcasting. Please ensure they have the same size.\n",
      "  loss = F.smooth_l1_loss(q_s_a, target)\n",
      "/home/raghaveendrawork/Desktop/RaghavendraTrading/TradingBotDeepRL/examples/../train.py:99: UserWarning: Using a target size (torch.Size([32])) that is different to the input size (torch.Size([32, 1])). This will likely lead to incorrect results due to broadcasting. Please ensure they have the same size.\n",
      "  loss = F.smooth_l1_loss(q_s_a, target)\n",
      "/home/raghaveendrawork/Desktop/RaghavendraTrading/TradingBotDeepRL/examples/../train.py:99: UserWarning: Using a target size (torch.Size([32])) that is different to the input size (torch.Size([32, 1])). This will likely lead to incorrect results due to broadcasting. Please ensure they have the same size.\n",
      "  loss = F.smooth_l1_loss(q_s_a, target)\n",
      "/home/raghaveendrawork/Desktop/RaghavendraTrading/TradingBotDeepRL/examples/../train.py:99: UserWarning: Using a target size (torch.Size([32])) that is different to the input size (torch.Size([32, 1])). This will likely lead to incorrect results due to broadcasting. Please ensure they have the same size.\n",
      "  loss = F.smooth_l1_loss(q_s_a, target)\n"
     ]
    },
    {
     "name": "stdout",
     "output_type": "stream",
     "text": [
      "Rewards: torch.Size([32]), Q_s_a_max: torch.Size([32]), q_s_a: torch.Size([32, 1]), Dones: (32,)\n",
      "Rewards: torch.Size([32]), Q_s_a_max: torch.Size([32]), q_s_a: torch.Size([32, 1]), Dones: (32,)\n",
      "Rewards: torch.Size([32]), Q_s_a_max: torch.Size([32]), q_s_a: torch.Size([32, 1]), Dones: (32,)\n",
      "Rewards: torch.Size([32]), Q_s_a_max: torch.Size([32]), q_s_a: torch.Size([32, 1]), Dones: (32,)\n",
      "Rewards: torch.Size([32]), Q_s_a_max: torch.Size([32]), q_s_a: torch.Size([32, 1]), Dones: (32,)\n"
     ]
    },
    {
     "name": "stderr",
     "output_type": "stream",
     "text": [
      "/home/raghaveendrawork/Desktop/RaghavendraTrading/TradingBotDeepRL/examples/../train.py:99: UserWarning: Using a target size (torch.Size([32])) that is different to the input size (torch.Size([32, 1])). This will likely lead to incorrect results due to broadcasting. Please ensure they have the same size.\n",
      "  loss = F.smooth_l1_loss(q_s_a, target)\n",
      "/home/raghaveendrawork/Desktop/RaghavendraTrading/TradingBotDeepRL/examples/../train.py:99: UserWarning: Using a target size (torch.Size([32])) that is different to the input size (torch.Size([32, 1])). This will likely lead to incorrect results due to broadcasting. Please ensure they have the same size.\n",
      "  loss = F.smooth_l1_loss(q_s_a, target)\n",
      "/home/raghaveendrawork/Desktop/RaghavendraTrading/TradingBotDeepRL/examples/../train.py:99: UserWarning: Using a target size (torch.Size([32])) that is different to the input size (torch.Size([32, 1])). This will likely lead to incorrect results due to broadcasting. Please ensure they have the same size.\n",
      "  loss = F.smooth_l1_loss(q_s_a, target)\n",
      "/home/raghaveendrawork/Desktop/RaghavendraTrading/TradingBotDeepRL/examples/../train.py:99: UserWarning: Using a target size (torch.Size([32])) that is different to the input size (torch.Size([32, 1])). This will likely lead to incorrect results due to broadcasting. Please ensure they have the same size.\n",
      "  loss = F.smooth_l1_loss(q_s_a, target)\n",
      "/home/raghaveendrawork/Desktop/RaghavendraTrading/TradingBotDeepRL/examples/../train.py:99: UserWarning: Using a target size (torch.Size([32])) that is different to the input size (torch.Size([32, 1])). This will likely lead to incorrect results due to broadcasting. Please ensure they have the same size.\n",
      "  loss = F.smooth_l1_loss(q_s_a, target)\n"
     ]
    },
    {
     "name": "stdout",
     "output_type": "stream",
     "text": [
      "Rewards: torch.Size([32]), Q_s_a_max: torch.Size([32]), q_s_a: torch.Size([32, 1]), Dones: (32,)\n",
      "Rewards: torch.Size([32]), Q_s_a_max: torch.Size([32]), q_s_a: torch.Size([32, 1]), Dones: (32,)\n",
      "Rewards: torch.Size([32]), Q_s_a_max: torch.Size([32]), q_s_a: torch.Size([32, 1]), Dones: (32,)\n",
      "Rewards: torch.Size([32]), Q_s_a_max: torch.Size([32]), q_s_a: torch.Size([32, 1]), Dones: (32,)\n",
      "Rewards: torch.Size([32]), Q_s_a_max: torch.Size([32]), q_s_a: torch.Size([32, 1]), Dones: (32,)\n",
      "Rewards: torch.Size([32]), Q_s_a_max: torch.Size([32]), q_s_a: torch.Size([32, 1]), Dones: (32,)\n",
      "Rewards: torch.Size([32]), Q_s_a_max: torch.Size([32]), q_s_a: torch.Size([32, 1]), Dones: (32,)\n"
     ]
    },
    {
     "name": "stderr",
     "output_type": "stream",
     "text": [
      "/home/raghaveendrawork/Desktop/RaghavendraTrading/TradingBotDeepRL/examples/../train.py:99: UserWarning: Using a target size (torch.Size([32])) that is different to the input size (torch.Size([32, 1])). This will likely lead to incorrect results due to broadcasting. Please ensure they have the same size.\n",
      "  loss = F.smooth_l1_loss(q_s_a, target)\n",
      "/home/raghaveendrawork/Desktop/RaghavendraTrading/TradingBotDeepRL/examples/../train.py:99: UserWarning: Using a target size (torch.Size([32])) that is different to the input size (torch.Size([32, 1])). This will likely lead to incorrect results due to broadcasting. Please ensure they have the same size.\n",
      "  loss = F.smooth_l1_loss(q_s_a, target)\n",
      "/home/raghaveendrawork/Desktop/RaghavendraTrading/TradingBotDeepRL/examples/../train.py:99: UserWarning: Using a target size (torch.Size([32])) that is different to the input size (torch.Size([32, 1])). This will likely lead to incorrect results due to broadcasting. Please ensure they have the same size.\n",
      "  loss = F.smooth_l1_loss(q_s_a, target)\n",
      "/home/raghaveendrawork/Desktop/RaghavendraTrading/TradingBotDeepRL/examples/../train.py:99: UserWarning: Using a target size (torch.Size([32])) that is different to the input size (torch.Size([32, 1])). This will likely lead to incorrect results due to broadcasting. Please ensure they have the same size.\n",
      "  loss = F.smooth_l1_loss(q_s_a, target)\n",
      "/home/raghaveendrawork/Desktop/RaghavendraTrading/TradingBotDeepRL/examples/../train.py:99: UserWarning: Using a target size (torch.Size([32])) that is different to the input size (torch.Size([32, 1])). This will likely lead to incorrect results due to broadcasting. Please ensure they have the same size.\n",
      "  loss = F.smooth_l1_loss(q_s_a, target)\n",
      "/home/raghaveendrawork/Desktop/RaghavendraTrading/TradingBotDeepRL/examples/../train.py:99: UserWarning: Using a target size (torch.Size([32])) that is different to the input size (torch.Size([32, 1])). This will likely lead to incorrect results due to broadcasting. Please ensure they have the same size.\n",
      "  loss = F.smooth_l1_loss(q_s_a, target)\n",
      "/home/raghaveendrawork/Desktop/RaghavendraTrading/TradingBotDeepRL/examples/../train.py:99: UserWarning: Using a target size (torch.Size([32])) that is different to the input size (torch.Size([32, 1])). This will likely lead to incorrect results due to broadcasting. Please ensure they have the same size.\n",
      "  loss = F.smooth_l1_loss(q_s_a, target)\n"
     ]
    },
    {
     "name": "stdout",
     "output_type": "stream",
     "text": [
      "Rewards: torch.Size([32]), Q_s_a_max: torch.Size([32]), q_s_a: torch.Size([32, 1]), Dones: (32,)\n",
      "Rewards: torch.Size([32]), Q_s_a_max: torch.Size([32]), q_s_a: torch.Size([32, 1]), Dones: (32,)\n",
      "Rewards: torch.Size([32]), Q_s_a_max: torch.Size([32]), q_s_a: torch.Size([32, 1]), Dones: (32,)\n",
      "Rewards: torch.Size([32]), Q_s_a_max: torch.Size([32]), q_s_a: torch.Size([32, 1]), Dones: (32,)\n",
      "Rewards: torch.Size([32]), Q_s_a_max: torch.Size([32]), q_s_a: torch.Size([32, 1]), Dones: (32,)\n",
      "Rewards: torch.Size([32]), Q_s_a_max: torch.Size([32]), q_s_a: torch.Size([32, 1]), Dones: (32,)\n",
      "Rewards: torch.Size([32]), Q_s_a_max: torch.Size([32]), q_s_a: torch.Size([32, 1]), Dones: (32,)\n"
     ]
    },
    {
     "name": "stderr",
     "output_type": "stream",
     "text": [
      "/home/raghaveendrawork/Desktop/RaghavendraTrading/TradingBotDeepRL/examples/../train.py:99: UserWarning: Using a target size (torch.Size([32])) that is different to the input size (torch.Size([32, 1])). This will likely lead to incorrect results due to broadcasting. Please ensure they have the same size.\n",
      "  loss = F.smooth_l1_loss(q_s_a, target)\n",
      "/home/raghaveendrawork/Desktop/RaghavendraTrading/TradingBotDeepRL/examples/../train.py:99: UserWarning: Using a target size (torch.Size([32])) that is different to the input size (torch.Size([32, 1])). This will likely lead to incorrect results due to broadcasting. Please ensure they have the same size.\n",
      "  loss = F.smooth_l1_loss(q_s_a, target)\n",
      "/home/raghaveendrawork/Desktop/RaghavendraTrading/TradingBotDeepRL/examples/../train.py:99: UserWarning: Using a target size (torch.Size([32])) that is different to the input size (torch.Size([32, 1])). This will likely lead to incorrect results due to broadcasting. Please ensure they have the same size.\n",
      "  loss = F.smooth_l1_loss(q_s_a, target)\n",
      "/home/raghaveendrawork/Desktop/RaghavendraTrading/TradingBotDeepRL/examples/../train.py:99: UserWarning: Using a target size (torch.Size([32])) that is different to the input size (torch.Size([32, 1])). This will likely lead to incorrect results due to broadcasting. Please ensure they have the same size.\n",
      "  loss = F.smooth_l1_loss(q_s_a, target)\n",
      "/home/raghaveendrawork/Desktop/RaghavendraTrading/TradingBotDeepRL/examples/../train.py:99: UserWarning: Using a target size (torch.Size([32])) that is different to the input size (torch.Size([32, 1])). This will likely lead to incorrect results due to broadcasting. Please ensure they have the same size.\n",
      "  loss = F.smooth_l1_loss(q_s_a, target)\n",
      "/home/raghaveendrawork/Desktop/RaghavendraTrading/TradingBotDeepRL/examples/../train.py:99: UserWarning: Using a target size (torch.Size([32])) that is different to the input size (torch.Size([32, 1])). This will likely lead to incorrect results due to broadcasting. Please ensure they have the same size.\n",
      "  loss = F.smooth_l1_loss(q_s_a, target)\n",
      "/home/raghaveendrawork/Desktop/RaghavendraTrading/TradingBotDeepRL/examples/../train.py:99: UserWarning: Using a target size (torch.Size([32])) that is different to the input size (torch.Size([32, 1])). This will likely lead to incorrect results due to broadcasting. Please ensure they have the same size.\n",
      "  loss = F.smooth_l1_loss(q_s_a, target)\n"
     ]
    },
    {
     "name": "stdout",
     "output_type": "stream",
     "text": [
      "Rewards: torch.Size([32]), Q_s_a_max: torch.Size([32]), q_s_a: torch.Size([32, 1]), Dones: (32,)\n",
      "Rewards: torch.Size([32]), Q_s_a_max: torch.Size([32]), q_s_a: torch.Size([32, 1]), Dones: (32,)\n",
      "Rewards: torch.Size([32]), Q_s_a_max: torch.Size([32]), q_s_a: torch.Size([32, 1]), Dones: (32,)\n",
      "Rewards: torch.Size([32]), Q_s_a_max: torch.Size([32]), q_s_a: torch.Size([32, 1]), Dones: (32,)\n",
      "Rewards: torch.Size([32]), Q_s_a_max: torch.Size([32]), q_s_a: torch.Size([32, 1]), Dones: (32,)\n",
      "Rewards: torch.Size([32]), Q_s_a_max: torch.Size([32]), q_s_a: torch.Size([32, 1]), Dones: (32,)\n",
      "Rewards: torch.Size([32]), Q_s_a_max: torch.Size([32]), q_s_a: torch.Size([32, 1]), Dones: (32,)\n"
     ]
    },
    {
     "name": "stderr",
     "output_type": "stream",
     "text": [
      "/home/raghaveendrawork/Desktop/RaghavendraTrading/TradingBotDeepRL/examples/../train.py:99: UserWarning: Using a target size (torch.Size([32])) that is different to the input size (torch.Size([32, 1])). This will likely lead to incorrect results due to broadcasting. Please ensure they have the same size.\n",
      "  loss = F.smooth_l1_loss(q_s_a, target)\n",
      "/home/raghaveendrawork/Desktop/RaghavendraTrading/TradingBotDeepRL/examples/../train.py:99: UserWarning: Using a target size (torch.Size([32])) that is different to the input size (torch.Size([32, 1])). This will likely lead to incorrect results due to broadcasting. Please ensure they have the same size.\n",
      "  loss = F.smooth_l1_loss(q_s_a, target)\n",
      "/home/raghaveendrawork/Desktop/RaghavendraTrading/TradingBotDeepRL/examples/../train.py:99: UserWarning: Using a target size (torch.Size([32])) that is different to the input size (torch.Size([32, 1])). This will likely lead to incorrect results due to broadcasting. Please ensure they have the same size.\n",
      "  loss = F.smooth_l1_loss(q_s_a, target)\n",
      "/home/raghaveendrawork/Desktop/RaghavendraTrading/TradingBotDeepRL/examples/../train.py:99: UserWarning: Using a target size (torch.Size([32])) that is different to the input size (torch.Size([32, 1])). This will likely lead to incorrect results due to broadcasting. Please ensure they have the same size.\n",
      "  loss = F.smooth_l1_loss(q_s_a, target)\n",
      "/home/raghaveendrawork/Desktop/RaghavendraTrading/TradingBotDeepRL/examples/../train.py:99: UserWarning: Using a target size (torch.Size([32])) that is different to the input size (torch.Size([32, 1])). This will likely lead to incorrect results due to broadcasting. Please ensure they have the same size.\n",
      "  loss = F.smooth_l1_loss(q_s_a, target)\n",
      "/home/raghaveendrawork/Desktop/RaghavendraTrading/TradingBotDeepRL/examples/../train.py:99: UserWarning: Using a target size (torch.Size([32])) that is different to the input size (torch.Size([32, 1])). This will likely lead to incorrect results due to broadcasting. Please ensure they have the same size.\n",
      "  loss = F.smooth_l1_loss(q_s_a, target)\n",
      "/home/raghaveendrawork/Desktop/RaghavendraTrading/TradingBotDeepRL/examples/../train.py:99: UserWarning: Using a target size (torch.Size([32])) that is different to the input size (torch.Size([32, 1])). This will likely lead to incorrect results due to broadcasting. Please ensure they have the same size.\n",
      "  loss = F.smooth_l1_loss(q_s_a, target)\n"
     ]
    },
    {
     "name": "stdout",
     "output_type": "stream",
     "text": [
      "Rewards: torch.Size([32]), Q_s_a_max: torch.Size([32]), q_s_a: torch.Size([32, 1]), Dones: (32,)\n",
      "Rewards: torch.Size([32]), Q_s_a_max: torch.Size([32]), q_s_a: torch.Size([32, 1]), Dones: (32,)\n",
      "Rewards: torch.Size([32]), Q_s_a_max: torch.Size([32]), q_s_a: torch.Size([32, 1]), Dones: (32,)\n",
      "Rewards: torch.Size([32]), Q_s_a_max: torch.Size([32]), q_s_a: torch.Size([32, 1]), Dones: (32,)\n",
      "Rewards: torch.Size([32]), Q_s_a_max: torch.Size([32]), q_s_a: torch.Size([32, 1]), Dones: (32,)\n",
      "Rewards: torch.Size([32]), Q_s_a_max: torch.Size([32]), q_s_a: torch.Size([32, 1]), Dones: (32,)\n"
     ]
    },
    {
     "name": "stderr",
     "output_type": "stream",
     "text": [
      "/home/raghaveendrawork/Desktop/RaghavendraTrading/TradingBotDeepRL/examples/../train.py:99: UserWarning: Using a target size (torch.Size([32])) that is different to the input size (torch.Size([32, 1])). This will likely lead to incorrect results due to broadcasting. Please ensure they have the same size.\n",
      "  loss = F.smooth_l1_loss(q_s_a, target)\n",
      "/home/raghaveendrawork/Desktop/RaghavendraTrading/TradingBotDeepRL/examples/../train.py:99: UserWarning: Using a target size (torch.Size([32])) that is different to the input size (torch.Size([32, 1])). This will likely lead to incorrect results due to broadcasting. Please ensure they have the same size.\n",
      "  loss = F.smooth_l1_loss(q_s_a, target)\n",
      "/home/raghaveendrawork/Desktop/RaghavendraTrading/TradingBotDeepRL/examples/../train.py:99: UserWarning: Using a target size (torch.Size([32])) that is different to the input size (torch.Size([32, 1])). This will likely lead to incorrect results due to broadcasting. Please ensure they have the same size.\n",
      "  loss = F.smooth_l1_loss(q_s_a, target)\n",
      "/home/raghaveendrawork/Desktop/RaghavendraTrading/TradingBotDeepRL/examples/../train.py:99: UserWarning: Using a target size (torch.Size([32])) that is different to the input size (torch.Size([32, 1])). This will likely lead to incorrect results due to broadcasting. Please ensure they have the same size.\n",
      "  loss = F.smooth_l1_loss(q_s_a, target)\n",
      "/home/raghaveendrawork/Desktop/RaghavendraTrading/TradingBotDeepRL/examples/../train.py:99: UserWarning: Using a target size (torch.Size([32])) that is different to the input size (torch.Size([32, 1])). This will likely lead to incorrect results due to broadcasting. Please ensure they have the same size.\n",
      "  loss = F.smooth_l1_loss(q_s_a, target)\n",
      "/home/raghaveendrawork/Desktop/RaghavendraTrading/TradingBotDeepRL/examples/../train.py:99: UserWarning: Using a target size (torch.Size([32])) that is different to the input size (torch.Size([32, 1])). This will likely lead to incorrect results due to broadcasting. Please ensure they have the same size.\n",
      "  loss = F.smooth_l1_loss(q_s_a, target)\n"
     ]
    },
    {
     "name": "stdout",
     "output_type": "stream",
     "text": [
      "Rewards: torch.Size([32]), Q_s_a_max: torch.Size([32]), q_s_a: torch.Size([32, 1]), Dones: (32,)\n",
      "Rewards: torch.Size([32]), Q_s_a_max: torch.Size([32]), q_s_a: torch.Size([32, 1]), Dones: (32,)\n",
      "Rewards: torch.Size([32]), Q_s_a_max: torch.Size([32]), q_s_a: torch.Size([32, 1]), Dones: (32,)\n",
      "Rewards: torch.Size([32]), Q_s_a_max: torch.Size([32]), q_s_a: torch.Size([32, 1]), Dones: (32,)\n",
      "Rewards: torch.Size([32]), Q_s_a_max: torch.Size([32]), q_s_a: torch.Size([32, 1]), Dones: (32,)\n"
     ]
    },
    {
     "name": "stderr",
     "output_type": "stream",
     "text": [
      "/home/raghaveendrawork/Desktop/RaghavendraTrading/TradingBotDeepRL/examples/../train.py:99: UserWarning: Using a target size (torch.Size([32])) that is different to the input size (torch.Size([32, 1])). This will likely lead to incorrect results due to broadcasting. Please ensure they have the same size.\n",
      "  loss = F.smooth_l1_loss(q_s_a, target)\n",
      "/home/raghaveendrawork/Desktop/RaghavendraTrading/TradingBotDeepRL/examples/../train.py:99: UserWarning: Using a target size (torch.Size([32])) that is different to the input size (torch.Size([32, 1])). This will likely lead to incorrect results due to broadcasting. Please ensure they have the same size.\n",
      "  loss = F.smooth_l1_loss(q_s_a, target)\n",
      "/home/raghaveendrawork/Desktop/RaghavendraTrading/TradingBotDeepRL/examples/../train.py:99: UserWarning: Using a target size (torch.Size([32])) that is different to the input size (torch.Size([32, 1])). This will likely lead to incorrect results due to broadcasting. Please ensure they have the same size.\n",
      "  loss = F.smooth_l1_loss(q_s_a, target)\n",
      "/home/raghaveendrawork/Desktop/RaghavendraTrading/TradingBotDeepRL/examples/../train.py:99: UserWarning: Using a target size (torch.Size([32])) that is different to the input size (torch.Size([32, 1])). This will likely lead to incorrect results due to broadcasting. Please ensure they have the same size.\n",
      "  loss = F.smooth_l1_loss(q_s_a, target)\n",
      "/home/raghaveendrawork/Desktop/RaghavendraTrading/TradingBotDeepRL/examples/../train.py:99: UserWarning: Using a target size (torch.Size([32])) that is different to the input size (torch.Size([32, 1])). This will likely lead to incorrect results due to broadcasting. Please ensure they have the same size.\n",
      "  loss = F.smooth_l1_loss(q_s_a, target)\n"
     ]
    },
    {
     "name": "stdout",
     "output_type": "stream",
     "text": [
      "Rewards: torch.Size([32]), Q_s_a_max: torch.Size([32]), q_s_a: torch.Size([32, 1]), Dones: (32,)\n",
      "Rewards: torch.Size([32]), Q_s_a_max: torch.Size([32]), q_s_a: torch.Size([32, 1]), Dones: (32,)\n",
      "Rewards: torch.Size([32]), Q_s_a_max: torch.Size([32]), q_s_a: torch.Size([32, 1]), Dones: (32,)\n",
      "Rewards: torch.Size([32]), Q_s_a_max: torch.Size([32]), q_s_a: torch.Size([32, 1]), Dones: (32,)\n",
      "Rewards: torch.Size([32]), Q_s_a_max: torch.Size([32]), q_s_a: torch.Size([32, 1]), Dones: (32,)\n",
      "Rewards: torch.Size([32]), Q_s_a_max: torch.Size([32]), q_s_a: torch.Size([32, 1]), Dones: (32,)\n"
     ]
    },
    {
     "name": "stderr",
     "output_type": "stream",
     "text": [
      "/home/raghaveendrawork/Desktop/RaghavendraTrading/TradingBotDeepRL/examples/../train.py:99: UserWarning: Using a target size (torch.Size([32])) that is different to the input size (torch.Size([32, 1])). This will likely lead to incorrect results due to broadcasting. Please ensure they have the same size.\n",
      "  loss = F.smooth_l1_loss(q_s_a, target)\n",
      "/home/raghaveendrawork/Desktop/RaghavendraTrading/TradingBotDeepRL/examples/../train.py:99: UserWarning: Using a target size (torch.Size([32])) that is different to the input size (torch.Size([32, 1])). This will likely lead to incorrect results due to broadcasting. Please ensure they have the same size.\n",
      "  loss = F.smooth_l1_loss(q_s_a, target)\n",
      "/home/raghaveendrawork/Desktop/RaghavendraTrading/TradingBotDeepRL/examples/../train.py:99: UserWarning: Using a target size (torch.Size([32])) that is different to the input size (torch.Size([32, 1])). This will likely lead to incorrect results due to broadcasting. Please ensure they have the same size.\n",
      "  loss = F.smooth_l1_loss(q_s_a, target)\n",
      "/home/raghaveendrawork/Desktop/RaghavendraTrading/TradingBotDeepRL/examples/../train.py:99: UserWarning: Using a target size (torch.Size([32])) that is different to the input size (torch.Size([32, 1])). This will likely lead to incorrect results due to broadcasting. Please ensure they have the same size.\n",
      "  loss = F.smooth_l1_loss(q_s_a, target)\n",
      "/home/raghaveendrawork/Desktop/RaghavendraTrading/TradingBotDeepRL/examples/../train.py:99: UserWarning: Using a target size (torch.Size([32])) that is different to the input size (torch.Size([32, 1])). This will likely lead to incorrect results due to broadcasting. Please ensure they have the same size.\n",
      "  loss = F.smooth_l1_loss(q_s_a, target)\n",
      "/home/raghaveendrawork/Desktop/RaghavendraTrading/TradingBotDeepRL/examples/../train.py:99: UserWarning: Using a target size (torch.Size([32])) that is different to the input size (torch.Size([32, 1])). This will likely lead to incorrect results due to broadcasting. Please ensure they have the same size.\n",
      "  loss = F.smooth_l1_loss(q_s_a, target)\n"
     ]
    },
    {
     "name": "stdout",
     "output_type": "stream",
     "text": [
      "Rewards: torch.Size([32]), Q_s_a_max: torch.Size([32]), q_s_a: torch.Size([32, 1]), Dones: (32,)\n",
      "Rewards: torch.Size([32]), Q_s_a_max: torch.Size([32]), q_s_a: torch.Size([32, 1]), Dones: (32,)\n",
      "Rewards: torch.Size([32]), Q_s_a_max: torch.Size([32]), q_s_a: torch.Size([32, 1]), Dones: (32,)\n",
      "Rewards: torch.Size([32]), Q_s_a_max: torch.Size([32]), q_s_a: torch.Size([32, 1]), Dones: (32,)\n",
      "Rewards: torch.Size([32]), Q_s_a_max: torch.Size([32]), q_s_a: torch.Size([32, 1]), Dones: (32,)\n",
      "Rewards: torch.Size([32]), Q_s_a_max: torch.Size([32]), q_s_a: torch.Size([32, 1]), Dones: (32,)\n",
      "Rewards: torch.Size([32]), Q_s_a_max: torch.Size([32]), q_s_a: torch.Size([32, 1]), Dones: (32,)\n"
     ]
    },
    {
     "name": "stderr",
     "output_type": "stream",
     "text": [
      "/home/raghaveendrawork/Desktop/RaghavendraTrading/TradingBotDeepRL/examples/../train.py:99: UserWarning: Using a target size (torch.Size([32])) that is different to the input size (torch.Size([32, 1])). This will likely lead to incorrect results due to broadcasting. Please ensure they have the same size.\n",
      "  loss = F.smooth_l1_loss(q_s_a, target)\n",
      "/home/raghaveendrawork/Desktop/RaghavendraTrading/TradingBotDeepRL/examples/../train.py:99: UserWarning: Using a target size (torch.Size([32])) that is different to the input size (torch.Size([32, 1])). This will likely lead to incorrect results due to broadcasting. Please ensure they have the same size.\n",
      "  loss = F.smooth_l1_loss(q_s_a, target)\n",
      "/home/raghaveendrawork/Desktop/RaghavendraTrading/TradingBotDeepRL/examples/../train.py:99: UserWarning: Using a target size (torch.Size([32])) that is different to the input size (torch.Size([32, 1])). This will likely lead to incorrect results due to broadcasting. Please ensure they have the same size.\n",
      "  loss = F.smooth_l1_loss(q_s_a, target)\n",
      "/home/raghaveendrawork/Desktop/RaghavendraTrading/TradingBotDeepRL/examples/../train.py:99: UserWarning: Using a target size (torch.Size([32])) that is different to the input size (torch.Size([32, 1])). This will likely lead to incorrect results due to broadcasting. Please ensure they have the same size.\n",
      "  loss = F.smooth_l1_loss(q_s_a, target)\n",
      "/home/raghaveendrawork/Desktop/RaghavendraTrading/TradingBotDeepRL/examples/../train.py:99: UserWarning: Using a target size (torch.Size([32])) that is different to the input size (torch.Size([32, 1])). This will likely lead to incorrect results due to broadcasting. Please ensure they have the same size.\n",
      "  loss = F.smooth_l1_loss(q_s_a, target)\n",
      "/home/raghaveendrawork/Desktop/RaghavendraTrading/TradingBotDeepRL/examples/../train.py:99: UserWarning: Using a target size (torch.Size([32])) that is different to the input size (torch.Size([32, 1])). This will likely lead to incorrect results due to broadcasting. Please ensure they have the same size.\n",
      "  loss = F.smooth_l1_loss(q_s_a, target)\n",
      "/home/raghaveendrawork/Desktop/RaghavendraTrading/TradingBotDeepRL/examples/../train.py:99: UserWarning: Using a target size (torch.Size([32])) that is different to the input size (torch.Size([32, 1])). This will likely lead to incorrect results due to broadcasting. Please ensure they have the same size.\n",
      "  loss = F.smooth_l1_loss(q_s_a, target)\n"
     ]
    },
    {
     "name": "stdout",
     "output_type": "stream",
     "text": [
      "Rewards: torch.Size([32]), Q_s_a_max: torch.Size([32]), q_s_a: torch.Size([32, 1]), Dones: (32,)\n",
      "Rewards: torch.Size([32]), Q_s_a_max: torch.Size([32]), q_s_a: torch.Size([32, 1]), Dones: (32,)\n",
      "Rewards: torch.Size([32]), Q_s_a_max: torch.Size([32]), q_s_a: torch.Size([32, 1]), Dones: (32,)\n",
      "Rewards: torch.Size([32]), Q_s_a_max: torch.Size([32]), q_s_a: torch.Size([32, 1]), Dones: (32,)\n",
      "Rewards: torch.Size([32]), Q_s_a_max: torch.Size([32]), q_s_a: torch.Size([32, 1]), Dones: (32,)\n",
      "Rewards: torch.Size([32]), Q_s_a_max: torch.Size([32]), q_s_a: torch.Size([32, 1]), Dones: (32,)\n",
      "Rewards: torch.Size([32]), Q_s_a_max: torch.Size([32]), q_s_a: torch.Size([32, 1]), Dones: (32,)\n"
     ]
    },
    {
     "name": "stderr",
     "output_type": "stream",
     "text": [
      "/home/raghaveendrawork/Desktop/RaghavendraTrading/TradingBotDeepRL/examples/../train.py:99: UserWarning: Using a target size (torch.Size([32])) that is different to the input size (torch.Size([32, 1])). This will likely lead to incorrect results due to broadcasting. Please ensure they have the same size.\n",
      "  loss = F.smooth_l1_loss(q_s_a, target)\n",
      "/home/raghaveendrawork/Desktop/RaghavendraTrading/TradingBotDeepRL/examples/../train.py:99: UserWarning: Using a target size (torch.Size([32])) that is different to the input size (torch.Size([32, 1])). This will likely lead to incorrect results due to broadcasting. Please ensure they have the same size.\n",
      "  loss = F.smooth_l1_loss(q_s_a, target)\n",
      "/home/raghaveendrawork/Desktop/RaghavendraTrading/TradingBotDeepRL/examples/../train.py:99: UserWarning: Using a target size (torch.Size([32])) that is different to the input size (torch.Size([32, 1])). This will likely lead to incorrect results due to broadcasting. Please ensure they have the same size.\n",
      "  loss = F.smooth_l1_loss(q_s_a, target)\n",
      "/home/raghaveendrawork/Desktop/RaghavendraTrading/TradingBotDeepRL/examples/../train.py:99: UserWarning: Using a target size (torch.Size([32])) that is different to the input size (torch.Size([32, 1])). This will likely lead to incorrect results due to broadcasting. Please ensure they have the same size.\n",
      "  loss = F.smooth_l1_loss(q_s_a, target)\n",
      "/home/raghaveendrawork/Desktop/RaghavendraTrading/TradingBotDeepRL/examples/../train.py:99: UserWarning: Using a target size (torch.Size([32])) that is different to the input size (torch.Size([32, 1])). This will likely lead to incorrect results due to broadcasting. Please ensure they have the same size.\n",
      "  loss = F.smooth_l1_loss(q_s_a, target)\n",
      "/home/raghaveendrawork/Desktop/RaghavendraTrading/TradingBotDeepRL/examples/../train.py:99: UserWarning: Using a target size (torch.Size([32])) that is different to the input size (torch.Size([32, 1])). This will likely lead to incorrect results due to broadcasting. Please ensure they have the same size.\n",
      "  loss = F.smooth_l1_loss(q_s_a, target)\n",
      "/home/raghaveendrawork/Desktop/RaghavendraTrading/TradingBotDeepRL/examples/../train.py:99: UserWarning: Using a target size (torch.Size([32])) that is different to the input size (torch.Size([32, 1])). This will likely lead to incorrect results due to broadcasting. Please ensure they have the same size.\n",
      "  loss = F.smooth_l1_loss(q_s_a, target)\n"
     ]
    },
    {
     "name": "stdout",
     "output_type": "stream",
     "text": [
      "Rewards: torch.Size([32]), Q_s_a_max: torch.Size([32]), q_s_a: torch.Size([32, 1]), Dones: (32,)\n",
      "Rewards: torch.Size([32]), Q_s_a_max: torch.Size([32]), q_s_a: torch.Size([32, 1]), Dones: (32,)\n",
      "Rewards: torch.Size([32]), Q_s_a_max: torch.Size([32]), q_s_a: torch.Size([32, 1]), Dones: (32,)\n",
      "Rewards: torch.Size([32]), Q_s_a_max: torch.Size([32]), q_s_a: torch.Size([32, 1]), Dones: (32,)\n",
      "Rewards: torch.Size([32]), Q_s_a_max: torch.Size([32]), q_s_a: torch.Size([32, 1]), Dones: (32,)\n",
      "Rewards: torch.Size([32]), Q_s_a_max: torch.Size([32]), q_s_a: torch.Size([32, 1]), Dones: (32,)\n",
      "Rewards: torch.Size([32]), Q_s_a_max: torch.Size([32]), q_s_a: torch.Size([32, 1]), Dones: (32,)\n"
     ]
    },
    {
     "name": "stderr",
     "output_type": "stream",
     "text": [
      "/home/raghaveendrawork/Desktop/RaghavendraTrading/TradingBotDeepRL/examples/../train.py:99: UserWarning: Using a target size (torch.Size([32])) that is different to the input size (torch.Size([32, 1])). This will likely lead to incorrect results due to broadcasting. Please ensure they have the same size.\n",
      "  loss = F.smooth_l1_loss(q_s_a, target)\n",
      "/home/raghaveendrawork/Desktop/RaghavendraTrading/TradingBotDeepRL/examples/../train.py:99: UserWarning: Using a target size (torch.Size([32])) that is different to the input size (torch.Size([32, 1])). This will likely lead to incorrect results due to broadcasting. Please ensure they have the same size.\n",
      "  loss = F.smooth_l1_loss(q_s_a, target)\n",
      "/home/raghaveendrawork/Desktop/RaghavendraTrading/TradingBotDeepRL/examples/../train.py:99: UserWarning: Using a target size (torch.Size([32])) that is different to the input size (torch.Size([32, 1])). This will likely lead to incorrect results due to broadcasting. Please ensure they have the same size.\n",
      "  loss = F.smooth_l1_loss(q_s_a, target)\n",
      "/home/raghaveendrawork/Desktop/RaghavendraTrading/TradingBotDeepRL/examples/../train.py:99: UserWarning: Using a target size (torch.Size([32])) that is different to the input size (torch.Size([32, 1])). This will likely lead to incorrect results due to broadcasting. Please ensure they have the same size.\n",
      "  loss = F.smooth_l1_loss(q_s_a, target)\n",
      "/home/raghaveendrawork/Desktop/RaghavendraTrading/TradingBotDeepRL/examples/../train.py:99: UserWarning: Using a target size (torch.Size([32])) that is different to the input size (torch.Size([32, 1])). This will likely lead to incorrect results due to broadcasting. Please ensure they have the same size.\n",
      "  loss = F.smooth_l1_loss(q_s_a, target)\n",
      "/home/raghaveendrawork/Desktop/RaghavendraTrading/TradingBotDeepRL/examples/../train.py:99: UserWarning: Using a target size (torch.Size([32])) that is different to the input size (torch.Size([32, 1])). This will likely lead to incorrect results due to broadcasting. Please ensure they have the same size.\n",
      "  loss = F.smooth_l1_loss(q_s_a, target)\n",
      "/home/raghaveendrawork/Desktop/RaghavendraTrading/TradingBotDeepRL/examples/../train.py:99: UserWarning: Using a target size (torch.Size([32])) that is different to the input size (torch.Size([32, 1])). This will likely lead to incorrect results due to broadcasting. Please ensure they have the same size.\n",
      "  loss = F.smooth_l1_loss(q_s_a, target)\n"
     ]
    },
    {
     "name": "stdout",
     "output_type": "stream",
     "text": [
      "Rewards: torch.Size([32]), Q_s_a_max: torch.Size([32]), q_s_a: torch.Size([32, 1]), Dones: (32,)\n",
      "Rewards: torch.Size([32]), Q_s_a_max: torch.Size([32]), q_s_a: torch.Size([32, 1]), Dones: (32,)\n",
      "Rewards: torch.Size([32]), Q_s_a_max: torch.Size([32]), q_s_a: torch.Size([32, 1]), Dones: (32,)\n",
      "Rewards: torch.Size([32]), Q_s_a_max: torch.Size([32]), q_s_a: torch.Size([32, 1]), Dones: (32,)\n",
      "Rewards: torch.Size([32]), Q_s_a_max: torch.Size([32]), q_s_a: torch.Size([32, 1]), Dones: (32,)\n",
      "Rewards: torch.Size([32]), Q_s_a_max: torch.Size([32]), q_s_a: torch.Size([32, 1]), Dones: (32,)\n"
     ]
    },
    {
     "name": "stderr",
     "output_type": "stream",
     "text": [
      "/home/raghaveendrawork/Desktop/RaghavendraTrading/TradingBotDeepRL/examples/../train.py:99: UserWarning: Using a target size (torch.Size([32])) that is different to the input size (torch.Size([32, 1])). This will likely lead to incorrect results due to broadcasting. Please ensure they have the same size.\n",
      "  loss = F.smooth_l1_loss(q_s_a, target)\n",
      "/home/raghaveendrawork/Desktop/RaghavendraTrading/TradingBotDeepRL/examples/../train.py:99: UserWarning: Using a target size (torch.Size([32])) that is different to the input size (torch.Size([32, 1])). This will likely lead to incorrect results due to broadcasting. Please ensure they have the same size.\n",
      "  loss = F.smooth_l1_loss(q_s_a, target)\n",
      "/home/raghaveendrawork/Desktop/RaghavendraTrading/TradingBotDeepRL/examples/../train.py:99: UserWarning: Using a target size (torch.Size([32])) that is different to the input size (torch.Size([32, 1])). This will likely lead to incorrect results due to broadcasting. Please ensure they have the same size.\n",
      "  loss = F.smooth_l1_loss(q_s_a, target)\n",
      "/home/raghaveendrawork/Desktop/RaghavendraTrading/TradingBotDeepRL/examples/../train.py:99: UserWarning: Using a target size (torch.Size([32])) that is different to the input size (torch.Size([32, 1])). This will likely lead to incorrect results due to broadcasting. Please ensure they have the same size.\n",
      "  loss = F.smooth_l1_loss(q_s_a, target)\n",
      "/home/raghaveendrawork/Desktop/RaghavendraTrading/TradingBotDeepRL/examples/../train.py:99: UserWarning: Using a target size (torch.Size([32])) that is different to the input size (torch.Size([32, 1])). This will likely lead to incorrect results due to broadcasting. Please ensure they have the same size.\n",
      "  loss = F.smooth_l1_loss(q_s_a, target)\n",
      "/home/raghaveendrawork/Desktop/RaghavendraTrading/TradingBotDeepRL/examples/../train.py:99: UserWarning: Using a target size (torch.Size([32])) that is different to the input size (torch.Size([32, 1])). This will likely lead to incorrect results due to broadcasting. Please ensure they have the same size.\n",
      "  loss = F.smooth_l1_loss(q_s_a, target)\n"
     ]
    },
    {
     "name": "stdout",
     "output_type": "stream",
     "text": [
      "Rewards: torch.Size([32]), Q_s_a_max: torch.Size([32]), q_s_a: torch.Size([32, 1]), Dones: (32,)\n",
      "Rewards: torch.Size([32]), Q_s_a_max: torch.Size([32]), q_s_a: torch.Size([32, 1]), Dones: (32,)\n",
      "Rewards: torch.Size([32]), Q_s_a_max: torch.Size([32]), q_s_a: torch.Size([32, 1]), Dones: (32,)\n",
      "Rewards: torch.Size([32]), Q_s_a_max: torch.Size([32]), q_s_a: torch.Size([32, 1]), Dones: (32,)\n",
      "Rewards: torch.Size([32]), Q_s_a_max: torch.Size([32]), q_s_a: torch.Size([32, 1]), Dones: (32,)\n"
     ]
    },
    {
     "name": "stderr",
     "output_type": "stream",
     "text": [
      "/home/raghaveendrawork/Desktop/RaghavendraTrading/TradingBotDeepRL/examples/../train.py:99: UserWarning: Using a target size (torch.Size([32])) that is different to the input size (torch.Size([32, 1])). This will likely lead to incorrect results due to broadcasting. Please ensure they have the same size.\n",
      "  loss = F.smooth_l1_loss(q_s_a, target)\n",
      "/home/raghaveendrawork/Desktop/RaghavendraTrading/TradingBotDeepRL/examples/../train.py:99: UserWarning: Using a target size (torch.Size([32])) that is different to the input size (torch.Size([32, 1])). This will likely lead to incorrect results due to broadcasting. Please ensure they have the same size.\n",
      "  loss = F.smooth_l1_loss(q_s_a, target)\n",
      "/home/raghaveendrawork/Desktop/RaghavendraTrading/TradingBotDeepRL/examples/../train.py:99: UserWarning: Using a target size (torch.Size([32])) that is different to the input size (torch.Size([32, 1])). This will likely lead to incorrect results due to broadcasting. Please ensure they have the same size.\n",
      "  loss = F.smooth_l1_loss(q_s_a, target)\n",
      "/home/raghaveendrawork/Desktop/RaghavendraTrading/TradingBotDeepRL/examples/../train.py:99: UserWarning: Using a target size (torch.Size([32])) that is different to the input size (torch.Size([32, 1])). This will likely lead to incorrect results due to broadcasting. Please ensure they have the same size.\n",
      "  loss = F.smooth_l1_loss(q_s_a, target)\n",
      "/home/raghaveendrawork/Desktop/RaghavendraTrading/TradingBotDeepRL/examples/../train.py:99: UserWarning: Using a target size (torch.Size([32])) that is different to the input size (torch.Size([32, 1])). This will likely lead to incorrect results due to broadcasting. Please ensure they have the same size.\n",
      "  loss = F.smooth_l1_loss(q_s_a, target)\n"
     ]
    },
    {
     "name": "stdout",
     "output_type": "stream",
     "text": [
      "Rewards: torch.Size([32]), Q_s_a_max: torch.Size([32]), q_s_a: torch.Size([32, 1]), Dones: (32,)\n",
      "Rewards: torch.Size([32]), Q_s_a_max: torch.Size([32]), q_s_a: torch.Size([32, 1]), Dones: (32,)\n",
      "Rewards: torch.Size([32]), Q_s_a_max: torch.Size([32]), q_s_a: torch.Size([32, 1]), Dones: (32,)\n",
      "Rewards: torch.Size([32]), Q_s_a_max: torch.Size([32]), q_s_a: torch.Size([32, 1]), Dones: (32,)\n",
      "Rewards: torch.Size([32]), Q_s_a_max: torch.Size([32]), q_s_a: torch.Size([32, 1]), Dones: (32,)\n",
      "Rewards: torch.Size([32]), Q_s_a_max: torch.Size([32]), q_s_a: torch.Size([32, 1]), Dones: (32,)\n",
      "Rewards: torch.Size([32]), Q_s_a_max: torch.Size([32]), q_s_a: torch.Size([32, 1]), Dones: (32,)\n"
     ]
    },
    {
     "name": "stderr",
     "output_type": "stream",
     "text": [
      "/home/raghaveendrawork/Desktop/RaghavendraTrading/TradingBotDeepRL/examples/../train.py:99: UserWarning: Using a target size (torch.Size([32])) that is different to the input size (torch.Size([32, 1])). This will likely lead to incorrect results due to broadcasting. Please ensure they have the same size.\n",
      "  loss = F.smooth_l1_loss(q_s_a, target)\n",
      "/home/raghaveendrawork/Desktop/RaghavendraTrading/TradingBotDeepRL/examples/../train.py:99: UserWarning: Using a target size (torch.Size([32])) that is different to the input size (torch.Size([32, 1])). This will likely lead to incorrect results due to broadcasting. Please ensure they have the same size.\n",
      "  loss = F.smooth_l1_loss(q_s_a, target)\n",
      "/home/raghaveendrawork/Desktop/RaghavendraTrading/TradingBotDeepRL/examples/../train.py:99: UserWarning: Using a target size (torch.Size([32])) that is different to the input size (torch.Size([32, 1])). This will likely lead to incorrect results due to broadcasting. Please ensure they have the same size.\n",
      "  loss = F.smooth_l1_loss(q_s_a, target)\n",
      "/home/raghaveendrawork/Desktop/RaghavendraTrading/TradingBotDeepRL/examples/../train.py:99: UserWarning: Using a target size (torch.Size([32])) that is different to the input size (torch.Size([32, 1])). This will likely lead to incorrect results due to broadcasting. Please ensure they have the same size.\n",
      "  loss = F.smooth_l1_loss(q_s_a, target)\n",
      "/home/raghaveendrawork/Desktop/RaghavendraTrading/TradingBotDeepRL/examples/../train.py:99: UserWarning: Using a target size (torch.Size([32])) that is different to the input size (torch.Size([32, 1])). This will likely lead to incorrect results due to broadcasting. Please ensure they have the same size.\n",
      "  loss = F.smooth_l1_loss(q_s_a, target)\n",
      "/home/raghaveendrawork/Desktop/RaghavendraTrading/TradingBotDeepRL/examples/../train.py:99: UserWarning: Using a target size (torch.Size([32])) that is different to the input size (torch.Size([32, 1])). This will likely lead to incorrect results due to broadcasting. Please ensure they have the same size.\n",
      "  loss = F.smooth_l1_loss(q_s_a, target)\n",
      "/home/raghaveendrawork/Desktop/RaghavendraTrading/TradingBotDeepRL/examples/../train.py:99: UserWarning: Using a target size (torch.Size([32])) that is different to the input size (torch.Size([32, 1])). This will likely lead to incorrect results due to broadcasting. Please ensure they have the same size.\n",
      "  loss = F.smooth_l1_loss(q_s_a, target)\n"
     ]
    },
    {
     "name": "stdout",
     "output_type": "stream",
     "text": [
      "Rewards: torch.Size([32]), Q_s_a_max: torch.Size([32]), q_s_a: torch.Size([32, 1]), Dones: (32,)\n",
      "Rewards: torch.Size([32]), Q_s_a_max: torch.Size([32]), q_s_a: torch.Size([32, 1]), Dones: (32,)\n",
      "Rewards: torch.Size([32]), Q_s_a_max: torch.Size([32]), q_s_a: torch.Size([32, 1]), Dones: (32,)\n",
      "Rewards: torch.Size([32]), Q_s_a_max: torch.Size([32]), q_s_a: torch.Size([32, 1]), Dones: (32,)\n",
      "Rewards: torch.Size([32]), Q_s_a_max: torch.Size([32]), q_s_a: torch.Size([32, 1]), Dones: (32,)\n",
      "Rewards: torch.Size([32]), Q_s_a_max: torch.Size([32]), q_s_a: torch.Size([32, 1]), Dones: (32,)\n",
      "Rewards: torch.Size([32]), Q_s_a_max: torch.Size([32]), q_s_a: torch.Size([32, 1]), Dones: (32,)\n"
     ]
    },
    {
     "name": "stderr",
     "output_type": "stream",
     "text": [
      "/home/raghaveendrawork/Desktop/RaghavendraTrading/TradingBotDeepRL/examples/../train.py:99: UserWarning: Using a target size (torch.Size([32])) that is different to the input size (torch.Size([32, 1])). This will likely lead to incorrect results due to broadcasting. Please ensure they have the same size.\n",
      "  loss = F.smooth_l1_loss(q_s_a, target)\n",
      "/home/raghaveendrawork/Desktop/RaghavendraTrading/TradingBotDeepRL/examples/../train.py:99: UserWarning: Using a target size (torch.Size([32])) that is different to the input size (torch.Size([32, 1])). This will likely lead to incorrect results due to broadcasting. Please ensure they have the same size.\n",
      "  loss = F.smooth_l1_loss(q_s_a, target)\n",
      "/home/raghaveendrawork/Desktop/RaghavendraTrading/TradingBotDeepRL/examples/../train.py:99: UserWarning: Using a target size (torch.Size([32])) that is different to the input size (torch.Size([32, 1])). This will likely lead to incorrect results due to broadcasting. Please ensure they have the same size.\n",
      "  loss = F.smooth_l1_loss(q_s_a, target)\n",
      "/home/raghaveendrawork/Desktop/RaghavendraTrading/TradingBotDeepRL/examples/../train.py:99: UserWarning: Using a target size (torch.Size([32])) that is different to the input size (torch.Size([32, 1])). This will likely lead to incorrect results due to broadcasting. Please ensure they have the same size.\n",
      "  loss = F.smooth_l1_loss(q_s_a, target)\n",
      "/home/raghaveendrawork/Desktop/RaghavendraTrading/TradingBotDeepRL/examples/../train.py:99: UserWarning: Using a target size (torch.Size([32])) that is different to the input size (torch.Size([32, 1])). This will likely lead to incorrect results due to broadcasting. Please ensure they have the same size.\n",
      "  loss = F.smooth_l1_loss(q_s_a, target)\n",
      "/home/raghaveendrawork/Desktop/RaghavendraTrading/TradingBotDeepRL/examples/../train.py:99: UserWarning: Using a target size (torch.Size([32])) that is different to the input size (torch.Size([32, 1])). This will likely lead to incorrect results due to broadcasting. Please ensure they have the same size.\n",
      "  loss = F.smooth_l1_loss(q_s_a, target)\n",
      "/home/raghaveendrawork/Desktop/RaghavendraTrading/TradingBotDeepRL/examples/../train.py:99: UserWarning: Using a target size (torch.Size([32])) that is different to the input size (torch.Size([32, 1])). This will likely lead to incorrect results due to broadcasting. Please ensure they have the same size.\n",
      "  loss = F.smooth_l1_loss(q_s_a, target)\n"
     ]
    },
    {
     "name": "stdout",
     "output_type": "stream",
     "text": [
      "Rewards: torch.Size([32]), Q_s_a_max: torch.Size([32]), q_s_a: torch.Size([32, 1]), Dones: (32,)\n",
      "Rewards: torch.Size([32]), Q_s_a_max: torch.Size([32]), q_s_a: torch.Size([32, 1]), Dones: (32,)\n",
      "Rewards: torch.Size([32]), Q_s_a_max: torch.Size([32]), q_s_a: torch.Size([32, 1]), Dones: (32,)\n",
      "Rewards: torch.Size([32]), Q_s_a_max: torch.Size([32]), q_s_a: torch.Size([32, 1]), Dones: (32,)\n",
      "Rewards: torch.Size([32]), Q_s_a_max: torch.Size([32]), q_s_a: torch.Size([32, 1]), Dones: (32,)\n",
      "Rewards: torch.Size([32]), Q_s_a_max: torch.Size([32]), q_s_a: torch.Size([32, 1]), Dones: (32,)\n",
      "Rewards: torch.Size([32]), Q_s_a_max: torch.Size([32]), q_s_a: torch.Size([32, 1]), Dones: (32,)\n"
     ]
    },
    {
     "name": "stderr",
     "output_type": "stream",
     "text": [
      "/home/raghaveendrawork/Desktop/RaghavendraTrading/TradingBotDeepRL/examples/../train.py:99: UserWarning: Using a target size (torch.Size([32])) that is different to the input size (torch.Size([32, 1])). This will likely lead to incorrect results due to broadcasting. Please ensure they have the same size.\n",
      "  loss = F.smooth_l1_loss(q_s_a, target)\n",
      "/home/raghaveendrawork/Desktop/RaghavendraTrading/TradingBotDeepRL/examples/../train.py:99: UserWarning: Using a target size (torch.Size([32])) that is different to the input size (torch.Size([32, 1])). This will likely lead to incorrect results due to broadcasting. Please ensure they have the same size.\n",
      "  loss = F.smooth_l1_loss(q_s_a, target)\n",
      "/home/raghaveendrawork/Desktop/RaghavendraTrading/TradingBotDeepRL/examples/../train.py:99: UserWarning: Using a target size (torch.Size([32])) that is different to the input size (torch.Size([32, 1])). This will likely lead to incorrect results due to broadcasting. Please ensure they have the same size.\n",
      "  loss = F.smooth_l1_loss(q_s_a, target)\n",
      "/home/raghaveendrawork/Desktop/RaghavendraTrading/TradingBotDeepRL/examples/../train.py:99: UserWarning: Using a target size (torch.Size([32])) that is different to the input size (torch.Size([32, 1])). This will likely lead to incorrect results due to broadcasting. Please ensure they have the same size.\n",
      "  loss = F.smooth_l1_loss(q_s_a, target)\n",
      "/home/raghaveendrawork/Desktop/RaghavendraTrading/TradingBotDeepRL/examples/../train.py:99: UserWarning: Using a target size (torch.Size([32])) that is different to the input size (torch.Size([32, 1])). This will likely lead to incorrect results due to broadcasting. Please ensure they have the same size.\n",
      "  loss = F.smooth_l1_loss(q_s_a, target)\n",
      "/home/raghaveendrawork/Desktop/RaghavendraTrading/TradingBotDeepRL/examples/../train.py:99: UserWarning: Using a target size (torch.Size([32])) that is different to the input size (torch.Size([32, 1])). This will likely lead to incorrect results due to broadcasting. Please ensure they have the same size.\n",
      "  loss = F.smooth_l1_loss(q_s_a, target)\n",
      "/home/raghaveendrawork/Desktop/RaghavendraTrading/TradingBotDeepRL/examples/../train.py:99: UserWarning: Using a target size (torch.Size([32])) that is different to the input size (torch.Size([32, 1])). This will likely lead to incorrect results due to broadcasting. Please ensure they have the same size.\n",
      "  loss = F.smooth_l1_loss(q_s_a, target)\n"
     ]
    },
    {
     "name": "stdout",
     "output_type": "stream",
     "text": [
      "Rewards: torch.Size([32]), Q_s_a_max: torch.Size([32]), q_s_a: torch.Size([32, 1]), Dones: (32,)\n",
      "Rewards: torch.Size([32]), Q_s_a_max: torch.Size([32]), q_s_a: torch.Size([32, 1]), Dones: (32,)\n",
      "Rewards: torch.Size([32]), Q_s_a_max: torch.Size([32]), q_s_a: torch.Size([32, 1]), Dones: (32,)\n",
      "Rewards: torch.Size([32]), Q_s_a_max: torch.Size([32]), q_s_a: torch.Size([32, 1]), Dones: (32,)\n",
      "Rewards: torch.Size([32]), Q_s_a_max: torch.Size([32]), q_s_a: torch.Size([32, 1]), Dones: (32,)\n",
      "Rewards: torch.Size([32]), Q_s_a_max: torch.Size([32]), q_s_a: torch.Size([32, 1]), Dones: (32,)\n"
     ]
    },
    {
     "name": "stderr",
     "output_type": "stream",
     "text": [
      "/home/raghaveendrawork/Desktop/RaghavendraTrading/TradingBotDeepRL/examples/../train.py:99: UserWarning: Using a target size (torch.Size([32])) that is different to the input size (torch.Size([32, 1])). This will likely lead to incorrect results due to broadcasting. Please ensure they have the same size.\n",
      "  loss = F.smooth_l1_loss(q_s_a, target)\n",
      "/home/raghaveendrawork/Desktop/RaghavendraTrading/TradingBotDeepRL/examples/../train.py:99: UserWarning: Using a target size (torch.Size([32])) that is different to the input size (torch.Size([32, 1])). This will likely lead to incorrect results due to broadcasting. Please ensure they have the same size.\n",
      "  loss = F.smooth_l1_loss(q_s_a, target)\n",
      "/home/raghaveendrawork/Desktop/RaghavendraTrading/TradingBotDeepRL/examples/../train.py:99: UserWarning: Using a target size (torch.Size([32])) that is different to the input size (torch.Size([32, 1])). This will likely lead to incorrect results due to broadcasting. Please ensure they have the same size.\n",
      "  loss = F.smooth_l1_loss(q_s_a, target)\n",
      "/home/raghaveendrawork/Desktop/RaghavendraTrading/TradingBotDeepRL/examples/../train.py:99: UserWarning: Using a target size (torch.Size([32])) that is different to the input size (torch.Size([32, 1])). This will likely lead to incorrect results due to broadcasting. Please ensure they have the same size.\n",
      "  loss = F.smooth_l1_loss(q_s_a, target)\n",
      "/home/raghaveendrawork/Desktop/RaghavendraTrading/TradingBotDeepRL/examples/../train.py:99: UserWarning: Using a target size (torch.Size([32])) that is different to the input size (torch.Size([32, 1])). This will likely lead to incorrect results due to broadcasting. Please ensure they have the same size.\n",
      "  loss = F.smooth_l1_loss(q_s_a, target)\n",
      "/home/raghaveendrawork/Desktop/RaghavendraTrading/TradingBotDeepRL/examples/../train.py:99: UserWarning: Using a target size (torch.Size([32])) that is different to the input size (torch.Size([32, 1])). This will likely lead to incorrect results due to broadcasting. Please ensure they have the same size.\n",
      "  loss = F.smooth_l1_loss(q_s_a, target)\n"
     ]
    },
    {
     "name": "stdout",
     "output_type": "stream",
     "text": [
      "Rewards: torch.Size([32]), Q_s_a_max: torch.Size([32]), q_s_a: torch.Size([32, 1]), Dones: (32,)\n",
      "Rewards: torch.Size([32]), Q_s_a_max: torch.Size([32]), q_s_a: torch.Size([32, 1]), Dones: (32,)\n",
      "Rewards: torch.Size([32]), Q_s_a_max: torch.Size([32]), q_s_a: torch.Size([32, 1]), Dones: (32,)\n",
      "Rewards: torch.Size([32]), Q_s_a_max: torch.Size([32]), q_s_a: torch.Size([32, 1]), Dones: (32,)\n",
      "Rewards: torch.Size([32]), Q_s_a_max: torch.Size([32]), q_s_a: torch.Size([32, 1]), Dones: (32,)\n",
      "Rewards: torch.Size([32]), Q_s_a_max: torch.Size([32]), q_s_a: torch.Size([32, 1]), Dones: (32,)\n",
      "Rewards: torch.Size([32]), Q_s_a_max: torch.Size([32]), q_s_a: torch.Size([32, 1]), Dones: (32,)\n"
     ]
    },
    {
     "name": "stderr",
     "output_type": "stream",
     "text": [
      "/home/raghaveendrawork/Desktop/RaghavendraTrading/TradingBotDeepRL/examples/../train.py:99: UserWarning: Using a target size (torch.Size([32])) that is different to the input size (torch.Size([32, 1])). This will likely lead to incorrect results due to broadcasting. Please ensure they have the same size.\n",
      "  loss = F.smooth_l1_loss(q_s_a, target)\n",
      "/home/raghaveendrawork/Desktop/RaghavendraTrading/TradingBotDeepRL/examples/../train.py:99: UserWarning: Using a target size (torch.Size([32])) that is different to the input size (torch.Size([32, 1])). This will likely lead to incorrect results due to broadcasting. Please ensure they have the same size.\n",
      "  loss = F.smooth_l1_loss(q_s_a, target)\n",
      "/home/raghaveendrawork/Desktop/RaghavendraTrading/TradingBotDeepRL/examples/../train.py:99: UserWarning: Using a target size (torch.Size([32])) that is different to the input size (torch.Size([32, 1])). This will likely lead to incorrect results due to broadcasting. Please ensure they have the same size.\n",
      "  loss = F.smooth_l1_loss(q_s_a, target)\n",
      "/home/raghaveendrawork/Desktop/RaghavendraTrading/TradingBotDeepRL/examples/../train.py:99: UserWarning: Using a target size (torch.Size([32])) that is different to the input size (torch.Size([32, 1])). This will likely lead to incorrect results due to broadcasting. Please ensure they have the same size.\n",
      "  loss = F.smooth_l1_loss(q_s_a, target)\n",
      "/home/raghaveendrawork/Desktop/RaghavendraTrading/TradingBotDeepRL/examples/../train.py:99: UserWarning: Using a target size (torch.Size([32])) that is different to the input size (torch.Size([32, 1])). This will likely lead to incorrect results due to broadcasting. Please ensure they have the same size.\n",
      "  loss = F.smooth_l1_loss(q_s_a, target)\n",
      "/home/raghaveendrawork/Desktop/RaghavendraTrading/TradingBotDeepRL/examples/../train.py:99: UserWarning: Using a target size (torch.Size([32])) that is different to the input size (torch.Size([32, 1])). This will likely lead to incorrect results due to broadcasting. Please ensure they have the same size.\n",
      "  loss = F.smooth_l1_loss(q_s_a, target)\n",
      "/home/raghaveendrawork/Desktop/RaghavendraTrading/TradingBotDeepRL/examples/../train.py:99: UserWarning: Using a target size (torch.Size([32])) that is different to the input size (torch.Size([32, 1])). This will likely lead to incorrect results due to broadcasting. Please ensure they have the same size.\n",
      "  loss = F.smooth_l1_loss(q_s_a, target)\n"
     ]
    },
    {
     "name": "stdout",
     "output_type": "stream",
     "text": [
      "Rewards: torch.Size([32]), Q_s_a_max: torch.Size([32]), q_s_a: torch.Size([32, 1]), Dones: (32,)\n",
      "Rewards: torch.Size([32]), Q_s_a_max: torch.Size([32]), q_s_a: torch.Size([32, 1]), Dones: (32,)\n",
      "Rewards: torch.Size([32]), Q_s_a_max: torch.Size([32]), q_s_a: torch.Size([32, 1]), Dones: (32,)\n",
      "Rewards: torch.Size([32]), Q_s_a_max: torch.Size([32]), q_s_a: torch.Size([32, 1]), Dones: (32,)\n",
      "Rewards: torch.Size([32]), Q_s_a_max: torch.Size([32]), q_s_a: torch.Size([32, 1]), Dones: (32,)\n",
      "Rewards: torch.Size([32]), Q_s_a_max: torch.Size([32]), q_s_a: torch.Size([32, 1]), Dones: (32,)\n",
      "Rewards: torch.Size([32]), Q_s_a_max: torch.Size([32]), q_s_a: torch.Size([32, 1]), Dones: (32,)\n"
     ]
    },
    {
     "name": "stderr",
     "output_type": "stream",
     "text": [
      "/home/raghaveendrawork/Desktop/RaghavendraTrading/TradingBotDeepRL/examples/../train.py:99: UserWarning: Using a target size (torch.Size([32])) that is different to the input size (torch.Size([32, 1])). This will likely lead to incorrect results due to broadcasting. Please ensure they have the same size.\n",
      "  loss = F.smooth_l1_loss(q_s_a, target)\n",
      "/home/raghaveendrawork/Desktop/RaghavendraTrading/TradingBotDeepRL/examples/../train.py:99: UserWarning: Using a target size (torch.Size([32])) that is different to the input size (torch.Size([32, 1])). This will likely lead to incorrect results due to broadcasting. Please ensure they have the same size.\n",
      "  loss = F.smooth_l1_loss(q_s_a, target)\n",
      "/home/raghaveendrawork/Desktop/RaghavendraTrading/TradingBotDeepRL/examples/../train.py:99: UserWarning: Using a target size (torch.Size([32])) that is different to the input size (torch.Size([32, 1])). This will likely lead to incorrect results due to broadcasting. Please ensure they have the same size.\n",
      "  loss = F.smooth_l1_loss(q_s_a, target)\n",
      "/home/raghaveendrawork/Desktop/RaghavendraTrading/TradingBotDeepRL/examples/../train.py:99: UserWarning: Using a target size (torch.Size([32])) that is different to the input size (torch.Size([32, 1])). This will likely lead to incorrect results due to broadcasting. Please ensure they have the same size.\n",
      "  loss = F.smooth_l1_loss(q_s_a, target)\n",
      "/home/raghaveendrawork/Desktop/RaghavendraTrading/TradingBotDeepRL/examples/../train.py:99: UserWarning: Using a target size (torch.Size([32])) that is different to the input size (torch.Size([32, 1])). This will likely lead to incorrect results due to broadcasting. Please ensure they have the same size.\n",
      "  loss = F.smooth_l1_loss(q_s_a, target)\n",
      "/home/raghaveendrawork/Desktop/RaghavendraTrading/TradingBotDeepRL/examples/../train.py:99: UserWarning: Using a target size (torch.Size([32])) that is different to the input size (torch.Size([32, 1])). This will likely lead to incorrect results due to broadcasting. Please ensure they have the same size.\n",
      "  loss = F.smooth_l1_loss(q_s_a, target)\n",
      "/home/raghaveendrawork/Desktop/RaghavendraTrading/TradingBotDeepRL/examples/../train.py:99: UserWarning: Using a target size (torch.Size([32])) that is different to the input size (torch.Size([32, 1])). This will likely lead to incorrect results due to broadcasting. Please ensure they have the same size.\n",
      "  loss = F.smooth_l1_loss(q_s_a, target)\n"
     ]
    },
    {
     "name": "stdout",
     "output_type": "stream",
     "text": [
      "Rewards: torch.Size([32]), Q_s_a_max: torch.Size([32]), q_s_a: torch.Size([32, 1]), Dones: (32,)\n",
      "Rewards: torch.Size([32]), Q_s_a_max: torch.Size([32]), q_s_a: torch.Size([32, 1]), Dones: (32,)\n",
      "Rewards: torch.Size([32]), Q_s_a_max: torch.Size([32]), q_s_a: torch.Size([32, 1]), Dones: (32,)\n",
      "Rewards: torch.Size([32]), Q_s_a_max: torch.Size([32]), q_s_a: torch.Size([32, 1]), Dones: (32,)\n",
      "Rewards: torch.Size([32]), Q_s_a_max: torch.Size([32]), q_s_a: torch.Size([32, 1]), Dones: (32,)\n",
      "Rewards: torch.Size([32]), Q_s_a_max: torch.Size([32]), q_s_a: torch.Size([32, 1]), Dones: (32,)\n",
      "Rewards: torch.Size([32]), Q_s_a_max: torch.Size([32]), q_s_a: torch.Size([32, 1]), Dones: (32,)\n"
     ]
    },
    {
     "name": "stderr",
     "output_type": "stream",
     "text": [
      "/home/raghaveendrawork/Desktop/RaghavendraTrading/TradingBotDeepRL/examples/../train.py:99: UserWarning: Using a target size (torch.Size([32])) that is different to the input size (torch.Size([32, 1])). This will likely lead to incorrect results due to broadcasting. Please ensure they have the same size.\n",
      "  loss = F.smooth_l1_loss(q_s_a, target)\n",
      "/home/raghaveendrawork/Desktop/RaghavendraTrading/TradingBotDeepRL/examples/../train.py:99: UserWarning: Using a target size (torch.Size([32])) that is different to the input size (torch.Size([32, 1])). This will likely lead to incorrect results due to broadcasting. Please ensure they have the same size.\n",
      "  loss = F.smooth_l1_loss(q_s_a, target)\n",
      "/home/raghaveendrawork/Desktop/RaghavendraTrading/TradingBotDeepRL/examples/../train.py:99: UserWarning: Using a target size (torch.Size([32])) that is different to the input size (torch.Size([32, 1])). This will likely lead to incorrect results due to broadcasting. Please ensure they have the same size.\n",
      "  loss = F.smooth_l1_loss(q_s_a, target)\n",
      "/home/raghaveendrawork/Desktop/RaghavendraTrading/TradingBotDeepRL/examples/../train.py:99: UserWarning: Using a target size (torch.Size([32])) that is different to the input size (torch.Size([32, 1])). This will likely lead to incorrect results due to broadcasting. Please ensure they have the same size.\n",
      "  loss = F.smooth_l1_loss(q_s_a, target)\n",
      "/home/raghaveendrawork/Desktop/RaghavendraTrading/TradingBotDeepRL/examples/../train.py:99: UserWarning: Using a target size (torch.Size([32])) that is different to the input size (torch.Size([32, 1])). This will likely lead to incorrect results due to broadcasting. Please ensure they have the same size.\n",
      "  loss = F.smooth_l1_loss(q_s_a, target)\n",
      "/home/raghaveendrawork/Desktop/RaghavendraTrading/TradingBotDeepRL/examples/../train.py:99: UserWarning: Using a target size (torch.Size([32])) that is different to the input size (torch.Size([32, 1])). This will likely lead to incorrect results due to broadcasting. Please ensure they have the same size.\n",
      "  loss = F.smooth_l1_loss(q_s_a, target)\n",
      "/home/raghaveendrawork/Desktop/RaghavendraTrading/TradingBotDeepRL/examples/../train.py:99: UserWarning: Using a target size (torch.Size([32])) that is different to the input size (torch.Size([32, 1])). This will likely lead to incorrect results due to broadcasting. Please ensure they have the same size.\n",
      "  loss = F.smooth_l1_loss(q_s_a, target)\n"
     ]
    },
    {
     "name": "stdout",
     "output_type": "stream",
     "text": [
      "Rewards: torch.Size([32]), Q_s_a_max: torch.Size([32]), q_s_a: torch.Size([32, 1]), Dones: (32,)\n",
      "Rewards: torch.Size([32]), Q_s_a_max: torch.Size([32]), q_s_a: torch.Size([32, 1]), Dones: (32,)\n",
      "Rewards: torch.Size([32]), Q_s_a_max: torch.Size([32]), q_s_a: torch.Size([32, 1]), Dones: (32,)\n",
      "Rewards: torch.Size([32]), Q_s_a_max: torch.Size([32]), q_s_a: torch.Size([32, 1]), Dones: (32,)\n",
      "Rewards: torch.Size([32]), Q_s_a_max: torch.Size([32]), q_s_a: torch.Size([32, 1]), Dones: (32,)\n",
      "Rewards: torch.Size([32]), Q_s_a_max: torch.Size([32]), q_s_a: torch.Size([32, 1]), Dones: (32,)\n",
      "Rewards: torch.Size([32]), Q_s_a_max: torch.Size([32]), q_s_a: torch.Size([32, 1]), Dones: (32,)\n"
     ]
    },
    {
     "name": "stderr",
     "output_type": "stream",
     "text": [
      "/home/raghaveendrawork/Desktop/RaghavendraTrading/TradingBotDeepRL/examples/../train.py:99: UserWarning: Using a target size (torch.Size([32])) that is different to the input size (torch.Size([32, 1])). This will likely lead to incorrect results due to broadcasting. Please ensure they have the same size.\n",
      "  loss = F.smooth_l1_loss(q_s_a, target)\n",
      "/home/raghaveendrawork/Desktop/RaghavendraTrading/TradingBotDeepRL/examples/../train.py:99: UserWarning: Using a target size (torch.Size([32])) that is different to the input size (torch.Size([32, 1])). This will likely lead to incorrect results due to broadcasting. Please ensure they have the same size.\n",
      "  loss = F.smooth_l1_loss(q_s_a, target)\n",
      "/home/raghaveendrawork/Desktop/RaghavendraTrading/TradingBotDeepRL/examples/../train.py:99: UserWarning: Using a target size (torch.Size([32])) that is different to the input size (torch.Size([32, 1])). This will likely lead to incorrect results due to broadcasting. Please ensure they have the same size.\n",
      "  loss = F.smooth_l1_loss(q_s_a, target)\n",
      "/home/raghaveendrawork/Desktop/RaghavendraTrading/TradingBotDeepRL/examples/../train.py:99: UserWarning: Using a target size (torch.Size([32])) that is different to the input size (torch.Size([32, 1])). This will likely lead to incorrect results due to broadcasting. Please ensure they have the same size.\n",
      "  loss = F.smooth_l1_loss(q_s_a, target)\n",
      "/home/raghaveendrawork/Desktop/RaghavendraTrading/TradingBotDeepRL/examples/../train.py:99: UserWarning: Using a target size (torch.Size([32])) that is different to the input size (torch.Size([32, 1])). This will likely lead to incorrect results due to broadcasting. Please ensure they have the same size.\n",
      "  loss = F.smooth_l1_loss(q_s_a, target)\n",
      "/home/raghaveendrawork/Desktop/RaghavendraTrading/TradingBotDeepRL/examples/../train.py:99: UserWarning: Using a target size (torch.Size([32])) that is different to the input size (torch.Size([32, 1])). This will likely lead to incorrect results due to broadcasting. Please ensure they have the same size.\n",
      "  loss = F.smooth_l1_loss(q_s_a, target)\n",
      "/home/raghaveendrawork/Desktop/RaghavendraTrading/TradingBotDeepRL/examples/../train.py:99: UserWarning: Using a target size (torch.Size([32])) that is different to the input size (torch.Size([32, 1])). This will likely lead to incorrect results due to broadcasting. Please ensure they have the same size.\n",
      "  loss = F.smooth_l1_loss(q_s_a, target)\n"
     ]
    },
    {
     "name": "stdout",
     "output_type": "stream",
     "text": [
      "Rewards: torch.Size([32]), Q_s_a_max: torch.Size([32]), q_s_a: torch.Size([32, 1]), Dones: (32,)\n",
      "Rewards: torch.Size([32]), Q_s_a_max: torch.Size([32]), q_s_a: torch.Size([32, 1]), Dones: (32,)\n",
      "Rewards: torch.Size([32]), Q_s_a_max: torch.Size([32]), q_s_a: torch.Size([32, 1]), Dones: (32,)\n",
      "Rewards: torch.Size([32]), Q_s_a_max: torch.Size([32]), q_s_a: torch.Size([32, 1]), Dones: (32,)\n",
      "Rewards: torch.Size([32]), Q_s_a_max: torch.Size([32]), q_s_a: torch.Size([32, 1]), Dones: (32,)\n",
      "Rewards: torch.Size([32]), Q_s_a_max: torch.Size([32]), q_s_a: torch.Size([32, 1]), Dones: (32,)\n"
     ]
    },
    {
     "name": "stderr",
     "output_type": "stream",
     "text": [
      "/home/raghaveendrawork/Desktop/RaghavendraTrading/TradingBotDeepRL/examples/../train.py:99: UserWarning: Using a target size (torch.Size([32])) that is different to the input size (torch.Size([32, 1])). This will likely lead to incorrect results due to broadcasting. Please ensure they have the same size.\n",
      "  loss = F.smooth_l1_loss(q_s_a, target)\n",
      "/home/raghaveendrawork/Desktop/RaghavendraTrading/TradingBotDeepRL/examples/../train.py:99: UserWarning: Using a target size (torch.Size([32])) that is different to the input size (torch.Size([32, 1])). This will likely lead to incorrect results due to broadcasting. Please ensure they have the same size.\n",
      "  loss = F.smooth_l1_loss(q_s_a, target)\n",
      "/home/raghaveendrawork/Desktop/RaghavendraTrading/TradingBotDeepRL/examples/../train.py:99: UserWarning: Using a target size (torch.Size([32])) that is different to the input size (torch.Size([32, 1])). This will likely lead to incorrect results due to broadcasting. Please ensure they have the same size.\n",
      "  loss = F.smooth_l1_loss(q_s_a, target)\n",
      "/home/raghaveendrawork/Desktop/RaghavendraTrading/TradingBotDeepRL/examples/../train.py:99: UserWarning: Using a target size (torch.Size([32])) that is different to the input size (torch.Size([32, 1])). This will likely lead to incorrect results due to broadcasting. Please ensure they have the same size.\n",
      "  loss = F.smooth_l1_loss(q_s_a, target)\n",
      "/home/raghaveendrawork/Desktop/RaghavendraTrading/TradingBotDeepRL/examples/../train.py:99: UserWarning: Using a target size (torch.Size([32])) that is different to the input size (torch.Size([32, 1])). This will likely lead to incorrect results due to broadcasting. Please ensure they have the same size.\n",
      "  loss = F.smooth_l1_loss(q_s_a, target)\n",
      "/home/raghaveendrawork/Desktop/RaghavendraTrading/TradingBotDeepRL/examples/../train.py:99: UserWarning: Using a target size (torch.Size([32])) that is different to the input size (torch.Size([32, 1])). This will likely lead to incorrect results due to broadcasting. Please ensure they have the same size.\n",
      "  loss = F.smooth_l1_loss(q_s_a, target)\n"
     ]
    },
    {
     "name": "stdout",
     "output_type": "stream",
     "text": [
      "Rewards: torch.Size([32]), Q_s_a_max: torch.Size([32]), q_s_a: torch.Size([32, 1]), Dones: (32,)\n",
      "Rewards: torch.Size([32]), Q_s_a_max: torch.Size([32]), q_s_a: torch.Size([32, 1]), Dones: (32,)\n",
      "Rewards: torch.Size([32]), Q_s_a_max: torch.Size([32]), q_s_a: torch.Size([32, 1]), Dones: (32,)\n",
      "Rewards: torch.Size([32]), Q_s_a_max: torch.Size([32]), q_s_a: torch.Size([32, 1]), Dones: (32,)\n",
      "Rewards: torch.Size([32]), Q_s_a_max: torch.Size([32]), q_s_a: torch.Size([32, 1]), Dones: (32,)\n",
      "Rewards: torch.Size([32]), Q_s_a_max: torch.Size([32]), q_s_a: torch.Size([32, 1]), Dones: (32,)\n",
      "Rewards: torch.Size([32]), Q_s_a_max: torch.Size([32]), q_s_a: torch.Size([32, 1]), Dones: (32,)\n"
     ]
    },
    {
     "name": "stderr",
     "output_type": "stream",
     "text": [
      "/home/raghaveendrawork/Desktop/RaghavendraTrading/TradingBotDeepRL/examples/../train.py:99: UserWarning: Using a target size (torch.Size([32])) that is different to the input size (torch.Size([32, 1])). This will likely lead to incorrect results due to broadcasting. Please ensure they have the same size.\n",
      "  loss = F.smooth_l1_loss(q_s_a, target)\n",
      "/home/raghaveendrawork/Desktop/RaghavendraTrading/TradingBotDeepRL/examples/../train.py:99: UserWarning: Using a target size (torch.Size([32])) that is different to the input size (torch.Size([32, 1])). This will likely lead to incorrect results due to broadcasting. Please ensure they have the same size.\n",
      "  loss = F.smooth_l1_loss(q_s_a, target)\n",
      "/home/raghaveendrawork/Desktop/RaghavendraTrading/TradingBotDeepRL/examples/../train.py:99: UserWarning: Using a target size (torch.Size([32])) that is different to the input size (torch.Size([32, 1])). This will likely lead to incorrect results due to broadcasting. Please ensure they have the same size.\n",
      "  loss = F.smooth_l1_loss(q_s_a, target)\n",
      "/home/raghaveendrawork/Desktop/RaghavendraTrading/TradingBotDeepRL/examples/../train.py:99: UserWarning: Using a target size (torch.Size([32])) that is different to the input size (torch.Size([32, 1])). This will likely lead to incorrect results due to broadcasting. Please ensure they have the same size.\n",
      "  loss = F.smooth_l1_loss(q_s_a, target)\n",
      "/home/raghaveendrawork/Desktop/RaghavendraTrading/TradingBotDeepRL/examples/../train.py:99: UserWarning: Using a target size (torch.Size([32])) that is different to the input size (torch.Size([32, 1])). This will likely lead to incorrect results due to broadcasting. Please ensure they have the same size.\n",
      "  loss = F.smooth_l1_loss(q_s_a, target)\n",
      "/home/raghaveendrawork/Desktop/RaghavendraTrading/TradingBotDeepRL/examples/../train.py:99: UserWarning: Using a target size (torch.Size([32])) that is different to the input size (torch.Size([32, 1])). This will likely lead to incorrect results due to broadcasting. Please ensure they have the same size.\n",
      "  loss = F.smooth_l1_loss(q_s_a, target)\n",
      "/home/raghaveendrawork/Desktop/RaghavendraTrading/TradingBotDeepRL/examples/../train.py:99: UserWarning: Using a target size (torch.Size([32])) that is different to the input size (torch.Size([32, 1])). This will likely lead to incorrect results due to broadcasting. Please ensure they have the same size.\n",
      "  loss = F.smooth_l1_loss(q_s_a, target)\n"
     ]
    },
    {
     "name": "stdout",
     "output_type": "stream",
     "text": [
      "Rewards: torch.Size([32]), Q_s_a_max: torch.Size([32]), q_s_a: torch.Size([32, 1]), Dones: (32,)\n",
      "Rewards: torch.Size([32]), Q_s_a_max: torch.Size([32]), q_s_a: torch.Size([32, 1]), Dones: (32,)\n",
      "Rewards: torch.Size([32]), Q_s_a_max: torch.Size([32]), q_s_a: torch.Size([32, 1]), Dones: (32,)\n",
      "Rewards: torch.Size([32]), Q_s_a_max: torch.Size([32]), q_s_a: torch.Size([32, 1]), Dones: (32,)\n",
      "Rewards: torch.Size([32]), Q_s_a_max: torch.Size([32]), q_s_a: torch.Size([32, 1]), Dones: (32,)\n",
      "Rewards: torch.Size([32]), Q_s_a_max: torch.Size([32]), q_s_a: torch.Size([32, 1]), Dones: (32,)\n"
     ]
    },
    {
     "name": "stderr",
     "output_type": "stream",
     "text": [
      "/home/raghaveendrawork/Desktop/RaghavendraTrading/TradingBotDeepRL/examples/../train.py:99: UserWarning: Using a target size (torch.Size([32])) that is different to the input size (torch.Size([32, 1])). This will likely lead to incorrect results due to broadcasting. Please ensure they have the same size.\n",
      "  loss = F.smooth_l1_loss(q_s_a, target)\n",
      "/home/raghaveendrawork/Desktop/RaghavendraTrading/TradingBotDeepRL/examples/../train.py:99: UserWarning: Using a target size (torch.Size([32])) that is different to the input size (torch.Size([32, 1])). This will likely lead to incorrect results due to broadcasting. Please ensure they have the same size.\n",
      "  loss = F.smooth_l1_loss(q_s_a, target)\n",
      "/home/raghaveendrawork/Desktop/RaghavendraTrading/TradingBotDeepRL/examples/../train.py:99: UserWarning: Using a target size (torch.Size([32])) that is different to the input size (torch.Size([32, 1])). This will likely lead to incorrect results due to broadcasting. Please ensure they have the same size.\n",
      "  loss = F.smooth_l1_loss(q_s_a, target)\n",
      "/home/raghaveendrawork/Desktop/RaghavendraTrading/TradingBotDeepRL/examples/../train.py:99: UserWarning: Using a target size (torch.Size([32])) that is different to the input size (torch.Size([32, 1])). This will likely lead to incorrect results due to broadcasting. Please ensure they have the same size.\n",
      "  loss = F.smooth_l1_loss(q_s_a, target)\n",
      "/home/raghaveendrawork/Desktop/RaghavendraTrading/TradingBotDeepRL/examples/../train.py:99: UserWarning: Using a target size (torch.Size([32])) that is different to the input size (torch.Size([32, 1])). This will likely lead to incorrect results due to broadcasting. Please ensure they have the same size.\n",
      "  loss = F.smooth_l1_loss(q_s_a, target)\n",
      "/home/raghaveendrawork/Desktop/RaghavendraTrading/TradingBotDeepRL/examples/../train.py:99: UserWarning: Using a target size (torch.Size([32])) that is different to the input size (torch.Size([32, 1])). This will likely lead to incorrect results due to broadcasting. Please ensure they have the same size.\n",
      "  loss = F.smooth_l1_loss(q_s_a, target)\n"
     ]
    },
    {
     "name": "stdout",
     "output_type": "stream",
     "text": [
      "Rewards: torch.Size([32]), Q_s_a_max: torch.Size([32]), q_s_a: torch.Size([32, 1]), Dones: (32,)\n",
      "Rewards: torch.Size([32]), Q_s_a_max: torch.Size([32]), q_s_a: torch.Size([32, 1]), Dones: (32,)\n",
      "Rewards: torch.Size([32]), Q_s_a_max: torch.Size([32]), q_s_a: torch.Size([32, 1]), Dones: (32,)\n",
      "Rewards: torch.Size([32]), Q_s_a_max: torch.Size([32]), q_s_a: torch.Size([32, 1]), Dones: (32,)\n",
      "Rewards: torch.Size([32]), Q_s_a_max: torch.Size([32]), q_s_a: torch.Size([32, 1]), Dones: (32,)\n",
      "Rewards: torch.Size([32]), Q_s_a_max: torch.Size([32]), q_s_a: torch.Size([32, 1]), Dones: (32,)\n"
     ]
    },
    {
     "name": "stderr",
     "output_type": "stream",
     "text": [
      "/home/raghaveendrawork/Desktop/RaghavendraTrading/TradingBotDeepRL/examples/../train.py:99: UserWarning: Using a target size (torch.Size([32])) that is different to the input size (torch.Size([32, 1])). This will likely lead to incorrect results due to broadcasting. Please ensure they have the same size.\n",
      "  loss = F.smooth_l1_loss(q_s_a, target)\n",
      "/home/raghaveendrawork/Desktop/RaghavendraTrading/TradingBotDeepRL/examples/../train.py:99: UserWarning: Using a target size (torch.Size([32])) that is different to the input size (torch.Size([32, 1])). This will likely lead to incorrect results due to broadcasting. Please ensure they have the same size.\n",
      "  loss = F.smooth_l1_loss(q_s_a, target)\n",
      "/home/raghaveendrawork/Desktop/RaghavendraTrading/TradingBotDeepRL/examples/../train.py:99: UserWarning: Using a target size (torch.Size([32])) that is different to the input size (torch.Size([32, 1])). This will likely lead to incorrect results due to broadcasting. Please ensure they have the same size.\n",
      "  loss = F.smooth_l1_loss(q_s_a, target)\n",
      "/home/raghaveendrawork/Desktop/RaghavendraTrading/TradingBotDeepRL/examples/../train.py:99: UserWarning: Using a target size (torch.Size([32])) that is different to the input size (torch.Size([32, 1])). This will likely lead to incorrect results due to broadcasting. Please ensure they have the same size.\n",
      "  loss = F.smooth_l1_loss(q_s_a, target)\n",
      "/home/raghaveendrawork/Desktop/RaghavendraTrading/TradingBotDeepRL/examples/../train.py:99: UserWarning: Using a target size (torch.Size([32])) that is different to the input size (torch.Size([32, 1])). This will likely lead to incorrect results due to broadcasting. Please ensure they have the same size.\n",
      "  loss = F.smooth_l1_loss(q_s_a, target)\n",
      "/home/raghaveendrawork/Desktop/RaghavendraTrading/TradingBotDeepRL/examples/../train.py:99: UserWarning: Using a target size (torch.Size([32])) that is different to the input size (torch.Size([32, 1])). This will likely lead to incorrect results due to broadcasting. Please ensure they have the same size.\n",
      "  loss = F.smooth_l1_loss(q_s_a, target)\n"
     ]
    },
    {
     "name": "stdout",
     "output_type": "stream",
     "text": [
      "Rewards: torch.Size([32]), Q_s_a_max: torch.Size([32]), q_s_a: torch.Size([32, 1]), Dones: (32,)\n",
      "Rewards: torch.Size([32]), Q_s_a_max: torch.Size([32]), q_s_a: torch.Size([32, 1]), Dones: (32,)\n",
      "Rewards: torch.Size([32]), Q_s_a_max: torch.Size([32]), q_s_a: torch.Size([32, 1]), Dones: (32,)\n",
      "Rewards: torch.Size([32]), Q_s_a_max: torch.Size([32]), q_s_a: torch.Size([32, 1]), Dones: (32,)\n",
      "Rewards: torch.Size([32]), Q_s_a_max: torch.Size([32]), q_s_a: torch.Size([32, 1]), Dones: (32,)\n"
     ]
    },
    {
     "name": "stderr",
     "output_type": "stream",
     "text": [
      "/home/raghaveendrawork/Desktop/RaghavendraTrading/TradingBotDeepRL/examples/../train.py:99: UserWarning: Using a target size (torch.Size([32])) that is different to the input size (torch.Size([32, 1])). This will likely lead to incorrect results due to broadcasting. Please ensure they have the same size.\n",
      "  loss = F.smooth_l1_loss(q_s_a, target)\n",
      "/home/raghaveendrawork/Desktop/RaghavendraTrading/TradingBotDeepRL/examples/../train.py:99: UserWarning: Using a target size (torch.Size([32])) that is different to the input size (torch.Size([32, 1])). This will likely lead to incorrect results due to broadcasting. Please ensure they have the same size.\n",
      "  loss = F.smooth_l1_loss(q_s_a, target)\n",
      "/home/raghaveendrawork/Desktop/RaghavendraTrading/TradingBotDeepRL/examples/../train.py:99: UserWarning: Using a target size (torch.Size([32])) that is different to the input size (torch.Size([32, 1])). This will likely lead to incorrect results due to broadcasting. Please ensure they have the same size.\n",
      "  loss = F.smooth_l1_loss(q_s_a, target)\n",
      "/home/raghaveendrawork/Desktop/RaghavendraTrading/TradingBotDeepRL/examples/../train.py:99: UserWarning: Using a target size (torch.Size([32])) that is different to the input size (torch.Size([32, 1])). This will likely lead to incorrect results due to broadcasting. Please ensure they have the same size.\n",
      "  loss = F.smooth_l1_loss(q_s_a, target)\n",
      "/home/raghaveendrawork/Desktop/RaghavendraTrading/TradingBotDeepRL/examples/../train.py:99: UserWarning: Using a target size (torch.Size([32])) that is different to the input size (torch.Size([32, 1])). This will likely lead to incorrect results due to broadcasting. Please ensure they have the same size.\n",
      "  loss = F.smooth_l1_loss(q_s_a, target)\n"
     ]
    },
    {
     "name": "stdout",
     "output_type": "stream",
     "text": [
      "Rewards: torch.Size([32]), Q_s_a_max: torch.Size([32]), q_s_a: torch.Size([32, 1]), Dones: (32,)\n",
      "Rewards: torch.Size([32]), Q_s_a_max: torch.Size([32]), q_s_a: torch.Size([32, 1]), Dones: (32,)\n",
      "Rewards: torch.Size([32]), Q_s_a_max: torch.Size([32]), q_s_a: torch.Size([32, 1]), Dones: (32,)\n",
      "Rewards: torch.Size([32]), Q_s_a_max: torch.Size([32]), q_s_a: torch.Size([32, 1]), Dones: (32,)\n",
      "Rewards: torch.Size([32]), Q_s_a_max: torch.Size([32]), q_s_a: torch.Size([32, 1]), Dones: (32,)\n",
      "Rewards: torch.Size([32]), Q_s_a_max: torch.Size([32]), q_s_a: torch.Size([32, 1]), Dones: (32,)\n"
     ]
    },
    {
     "name": "stderr",
     "output_type": "stream",
     "text": [
      "/home/raghaveendrawork/Desktop/RaghavendraTrading/TradingBotDeepRL/examples/../train.py:99: UserWarning: Using a target size (torch.Size([32])) that is different to the input size (torch.Size([32, 1])). This will likely lead to incorrect results due to broadcasting. Please ensure they have the same size.\n",
      "  loss = F.smooth_l1_loss(q_s_a, target)\n",
      "/home/raghaveendrawork/Desktop/RaghavendraTrading/TradingBotDeepRL/examples/../train.py:99: UserWarning: Using a target size (torch.Size([32])) that is different to the input size (torch.Size([32, 1])). This will likely lead to incorrect results due to broadcasting. Please ensure they have the same size.\n",
      "  loss = F.smooth_l1_loss(q_s_a, target)\n",
      "/home/raghaveendrawork/Desktop/RaghavendraTrading/TradingBotDeepRL/examples/../train.py:99: UserWarning: Using a target size (torch.Size([32])) that is different to the input size (torch.Size([32, 1])). This will likely lead to incorrect results due to broadcasting. Please ensure they have the same size.\n",
      "  loss = F.smooth_l1_loss(q_s_a, target)\n",
      "/home/raghaveendrawork/Desktop/RaghavendraTrading/TradingBotDeepRL/examples/../train.py:99: UserWarning: Using a target size (torch.Size([32])) that is different to the input size (torch.Size([32, 1])). This will likely lead to incorrect results due to broadcasting. Please ensure they have the same size.\n",
      "  loss = F.smooth_l1_loss(q_s_a, target)\n",
      "/home/raghaveendrawork/Desktop/RaghavendraTrading/TradingBotDeepRL/examples/../train.py:99: UserWarning: Using a target size (torch.Size([32])) that is different to the input size (torch.Size([32, 1])). This will likely lead to incorrect results due to broadcasting. Please ensure they have the same size.\n",
      "  loss = F.smooth_l1_loss(q_s_a, target)\n",
      "/home/raghaveendrawork/Desktop/RaghavendraTrading/TradingBotDeepRL/examples/../train.py:99: UserWarning: Using a target size (torch.Size([32])) that is different to the input size (torch.Size([32, 1])). This will likely lead to incorrect results due to broadcasting. Please ensure they have the same size.\n",
      "  loss = F.smooth_l1_loss(q_s_a, target)\n"
     ]
    },
    {
     "name": "stdout",
     "output_type": "stream",
     "text": [
      "Rewards: torch.Size([32]), Q_s_a_max: torch.Size([32]), q_s_a: torch.Size([32, 1]), Dones: (32,)\n",
      "Rewards: torch.Size([32]), Q_s_a_max: torch.Size([32]), q_s_a: torch.Size([32, 1]), Dones: (32,)\n",
      "Rewards: torch.Size([32]), Q_s_a_max: torch.Size([32]), q_s_a: torch.Size([32, 1]), Dones: (32,)\n",
      "Rewards: torch.Size([32]), Q_s_a_max: torch.Size([32]), q_s_a: torch.Size([32, 1]), Dones: (32,)\n",
      "Rewards: torch.Size([32]), Q_s_a_max: torch.Size([32]), q_s_a: torch.Size([32, 1]), Dones: (32,)\n",
      "Rewards: torch.Size([32]), Q_s_a_max: torch.Size([32]), q_s_a: torch.Size([32, 1]), Dones: (32,)\n",
      "Rewards: torch.Size([32]), Q_s_a_max: torch.Size([32]), q_s_a: torch.Size([32, 1]), Dones: (32,)\n"
     ]
    },
    {
     "name": "stderr",
     "output_type": "stream",
     "text": [
      "/home/raghaveendrawork/Desktop/RaghavendraTrading/TradingBotDeepRL/examples/../train.py:99: UserWarning: Using a target size (torch.Size([32])) that is different to the input size (torch.Size([32, 1])). This will likely lead to incorrect results due to broadcasting. Please ensure they have the same size.\n",
      "  loss = F.smooth_l1_loss(q_s_a, target)\n",
      "/home/raghaveendrawork/Desktop/RaghavendraTrading/TradingBotDeepRL/examples/../train.py:99: UserWarning: Using a target size (torch.Size([32])) that is different to the input size (torch.Size([32, 1])). This will likely lead to incorrect results due to broadcasting. Please ensure they have the same size.\n",
      "  loss = F.smooth_l1_loss(q_s_a, target)\n",
      "/home/raghaveendrawork/Desktop/RaghavendraTrading/TradingBotDeepRL/examples/../train.py:99: UserWarning: Using a target size (torch.Size([32])) that is different to the input size (torch.Size([32, 1])). This will likely lead to incorrect results due to broadcasting. Please ensure they have the same size.\n",
      "  loss = F.smooth_l1_loss(q_s_a, target)\n",
      "/home/raghaveendrawork/Desktop/RaghavendraTrading/TradingBotDeepRL/examples/../train.py:99: UserWarning: Using a target size (torch.Size([32])) that is different to the input size (torch.Size([32, 1])). This will likely lead to incorrect results due to broadcasting. Please ensure they have the same size.\n",
      "  loss = F.smooth_l1_loss(q_s_a, target)\n",
      "/home/raghaveendrawork/Desktop/RaghavendraTrading/TradingBotDeepRL/examples/../train.py:99: UserWarning: Using a target size (torch.Size([32])) that is different to the input size (torch.Size([32, 1])). This will likely lead to incorrect results due to broadcasting. Please ensure they have the same size.\n",
      "  loss = F.smooth_l1_loss(q_s_a, target)\n",
      "/home/raghaveendrawork/Desktop/RaghavendraTrading/TradingBotDeepRL/examples/../train.py:99: UserWarning: Using a target size (torch.Size([32])) that is different to the input size (torch.Size([32, 1])). This will likely lead to incorrect results due to broadcasting. Please ensure they have the same size.\n",
      "  loss = F.smooth_l1_loss(q_s_a, target)\n",
      "/home/raghaveendrawork/Desktop/RaghavendraTrading/TradingBotDeepRL/examples/../train.py:99: UserWarning: Using a target size (torch.Size([32])) that is different to the input size (torch.Size([32, 1])). This will likely lead to incorrect results due to broadcasting. Please ensure they have the same size.\n",
      "  loss = F.smooth_l1_loss(q_s_a, target)\n"
     ]
    },
    {
     "name": "stdout",
     "output_type": "stream",
     "text": [
      "Rewards: torch.Size([32]), Q_s_a_max: torch.Size([32]), q_s_a: torch.Size([32, 1]), Dones: (32,)\n",
      "Rewards: torch.Size([32]), Q_s_a_max: torch.Size([32]), q_s_a: torch.Size([32, 1]), Dones: (32,)\n",
      "Rewards: torch.Size([32]), Q_s_a_max: torch.Size([32]), q_s_a: torch.Size([32, 1]), Dones: (32,)\n",
      "Rewards: torch.Size([32]), Q_s_a_max: torch.Size([32]), q_s_a: torch.Size([32, 1]), Dones: (32,)\n",
      "Rewards: torch.Size([32]), Q_s_a_max: torch.Size([32]), q_s_a: torch.Size([32, 1]), Dones: (32,)\n",
      "Rewards: torch.Size([32]), Q_s_a_max: torch.Size([32]), q_s_a: torch.Size([32, 1]), Dones: (32,)\n",
      "Rewards: torch.Size([32]), Q_s_a_max: torch.Size([32]), q_s_a: torch.Size([32, 1]), Dones: (32,)\n"
     ]
    },
    {
     "name": "stderr",
     "output_type": "stream",
     "text": [
      "/home/raghaveendrawork/Desktop/RaghavendraTrading/TradingBotDeepRL/examples/../train.py:99: UserWarning: Using a target size (torch.Size([32])) that is different to the input size (torch.Size([32, 1])). This will likely lead to incorrect results due to broadcasting. Please ensure they have the same size.\n",
      "  loss = F.smooth_l1_loss(q_s_a, target)\n",
      "/home/raghaveendrawork/Desktop/RaghavendraTrading/TradingBotDeepRL/examples/../train.py:99: UserWarning: Using a target size (torch.Size([32])) that is different to the input size (torch.Size([32, 1])). This will likely lead to incorrect results due to broadcasting. Please ensure they have the same size.\n",
      "  loss = F.smooth_l1_loss(q_s_a, target)\n",
      "/home/raghaveendrawork/Desktop/RaghavendraTrading/TradingBotDeepRL/examples/../train.py:99: UserWarning: Using a target size (torch.Size([32])) that is different to the input size (torch.Size([32, 1])). This will likely lead to incorrect results due to broadcasting. Please ensure they have the same size.\n",
      "  loss = F.smooth_l1_loss(q_s_a, target)\n",
      "/home/raghaveendrawork/Desktop/RaghavendraTrading/TradingBotDeepRL/examples/../train.py:99: UserWarning: Using a target size (torch.Size([32])) that is different to the input size (torch.Size([32, 1])). This will likely lead to incorrect results due to broadcasting. Please ensure they have the same size.\n",
      "  loss = F.smooth_l1_loss(q_s_a, target)\n",
      "/home/raghaveendrawork/Desktop/RaghavendraTrading/TradingBotDeepRL/examples/../train.py:99: UserWarning: Using a target size (torch.Size([32])) that is different to the input size (torch.Size([32, 1])). This will likely lead to incorrect results due to broadcasting. Please ensure they have the same size.\n",
      "  loss = F.smooth_l1_loss(q_s_a, target)\n",
      "/home/raghaveendrawork/Desktop/RaghavendraTrading/TradingBotDeepRL/examples/../train.py:99: UserWarning: Using a target size (torch.Size([32])) that is different to the input size (torch.Size([32, 1])). This will likely lead to incorrect results due to broadcasting. Please ensure they have the same size.\n",
      "  loss = F.smooth_l1_loss(q_s_a, target)\n",
      "/home/raghaveendrawork/Desktop/RaghavendraTrading/TradingBotDeepRL/examples/../train.py:99: UserWarning: Using a target size (torch.Size([32])) that is different to the input size (torch.Size([32, 1])). This will likely lead to incorrect results due to broadcasting. Please ensure they have the same size.\n",
      "  loss = F.smooth_l1_loss(q_s_a, target)\n"
     ]
    },
    {
     "name": "stdout",
     "output_type": "stream",
     "text": [
      "Rewards: torch.Size([32]), Q_s_a_max: torch.Size([32]), q_s_a: torch.Size([32, 1]), Dones: (32,)\n",
      "Rewards: torch.Size([32]), Q_s_a_max: torch.Size([32]), q_s_a: torch.Size([32, 1]), Dones: (32,)\n",
      "Rewards: torch.Size([32]), Q_s_a_max: torch.Size([32]), q_s_a: torch.Size([32, 1]), Dones: (32,)\n",
      "Rewards: torch.Size([32]), Q_s_a_max: torch.Size([32]), q_s_a: torch.Size([32, 1]), Dones: (32,)\n",
      "Rewards: torch.Size([32]), Q_s_a_max: torch.Size([32]), q_s_a: torch.Size([32, 1]), Dones: (32,)\n",
      "Rewards: torch.Size([32]), Q_s_a_max: torch.Size([32]), q_s_a: torch.Size([32, 1]), Dones: (32,)\n",
      "Rewards: torch.Size([32]), Q_s_a_max: torch.Size([32]), q_s_a: torch.Size([32, 1]), Dones: (32,)\n"
     ]
    },
    {
     "name": "stderr",
     "output_type": "stream",
     "text": [
      "/home/raghaveendrawork/Desktop/RaghavendraTrading/TradingBotDeepRL/examples/../train.py:99: UserWarning: Using a target size (torch.Size([32])) that is different to the input size (torch.Size([32, 1])). This will likely lead to incorrect results due to broadcasting. Please ensure they have the same size.\n",
      "  loss = F.smooth_l1_loss(q_s_a, target)\n",
      "/home/raghaveendrawork/Desktop/RaghavendraTrading/TradingBotDeepRL/examples/../train.py:99: UserWarning: Using a target size (torch.Size([32])) that is different to the input size (torch.Size([32, 1])). This will likely lead to incorrect results due to broadcasting. Please ensure they have the same size.\n",
      "  loss = F.smooth_l1_loss(q_s_a, target)\n",
      "/home/raghaveendrawork/Desktop/RaghavendraTrading/TradingBotDeepRL/examples/../train.py:99: UserWarning: Using a target size (torch.Size([32])) that is different to the input size (torch.Size([32, 1])). This will likely lead to incorrect results due to broadcasting. Please ensure they have the same size.\n",
      "  loss = F.smooth_l1_loss(q_s_a, target)\n",
      "/home/raghaveendrawork/Desktop/RaghavendraTrading/TradingBotDeepRL/examples/../train.py:99: UserWarning: Using a target size (torch.Size([32])) that is different to the input size (torch.Size([32, 1])). This will likely lead to incorrect results due to broadcasting. Please ensure they have the same size.\n",
      "  loss = F.smooth_l1_loss(q_s_a, target)\n",
      "/home/raghaveendrawork/Desktop/RaghavendraTrading/TradingBotDeepRL/examples/../train.py:99: UserWarning: Using a target size (torch.Size([32])) that is different to the input size (torch.Size([32, 1])). This will likely lead to incorrect results due to broadcasting. Please ensure they have the same size.\n",
      "  loss = F.smooth_l1_loss(q_s_a, target)\n",
      "/home/raghaveendrawork/Desktop/RaghavendraTrading/TradingBotDeepRL/examples/../train.py:99: UserWarning: Using a target size (torch.Size([32])) that is different to the input size (torch.Size([32, 1])). This will likely lead to incorrect results due to broadcasting. Please ensure they have the same size.\n",
      "  loss = F.smooth_l1_loss(q_s_a, target)\n",
      "/home/raghaveendrawork/Desktop/RaghavendraTrading/TradingBotDeepRL/examples/../train.py:99: UserWarning: Using a target size (torch.Size([32])) that is different to the input size (torch.Size([32, 1])). This will likely lead to incorrect results due to broadcasting. Please ensure they have the same size.\n",
      "  loss = F.smooth_l1_loss(q_s_a, target)\n"
     ]
    },
    {
     "name": "stdout",
     "output_type": "stream",
     "text": [
      "Rewards: torch.Size([32]), Q_s_a_max: torch.Size([32]), q_s_a: torch.Size([32, 1]), Dones: (32,)\n",
      "Rewards: torch.Size([32]), Q_s_a_max: torch.Size([32]), q_s_a: torch.Size([32, 1]), Dones: (32,)\n",
      "Rewards: torch.Size([32]), Q_s_a_max: torch.Size([32]), q_s_a: torch.Size([32, 1]), Dones: (32,)\n",
      "Rewards: torch.Size([32]), Q_s_a_max: torch.Size([32]), q_s_a: torch.Size([32, 1]), Dones: (32,)\n",
      "Rewards: torch.Size([32]), Q_s_a_max: torch.Size([32]), q_s_a: torch.Size([32, 1]), Dones: (32,)\n",
      "Rewards: torch.Size([32]), Q_s_a_max: torch.Size([32]), q_s_a: torch.Size([32, 1]), Dones: (32,)\n",
      "Rewards: torch.Size([32]), Q_s_a_max: torch.Size([32]), q_s_a: torch.Size([32, 1]), Dones: (32,)\n"
     ]
    },
    {
     "name": "stderr",
     "output_type": "stream",
     "text": [
      "/home/raghaveendrawork/Desktop/RaghavendraTrading/TradingBotDeepRL/examples/../train.py:99: UserWarning: Using a target size (torch.Size([32])) that is different to the input size (torch.Size([32, 1])). This will likely lead to incorrect results due to broadcasting. Please ensure they have the same size.\n",
      "  loss = F.smooth_l1_loss(q_s_a, target)\n",
      "/home/raghaveendrawork/Desktop/RaghavendraTrading/TradingBotDeepRL/examples/../train.py:99: UserWarning: Using a target size (torch.Size([32])) that is different to the input size (torch.Size([32, 1])). This will likely lead to incorrect results due to broadcasting. Please ensure they have the same size.\n",
      "  loss = F.smooth_l1_loss(q_s_a, target)\n",
      "/home/raghaveendrawork/Desktop/RaghavendraTrading/TradingBotDeepRL/examples/../train.py:99: UserWarning: Using a target size (torch.Size([32])) that is different to the input size (torch.Size([32, 1])). This will likely lead to incorrect results due to broadcasting. Please ensure they have the same size.\n",
      "  loss = F.smooth_l1_loss(q_s_a, target)\n",
      "/home/raghaveendrawork/Desktop/RaghavendraTrading/TradingBotDeepRL/examples/../train.py:99: UserWarning: Using a target size (torch.Size([32])) that is different to the input size (torch.Size([32, 1])). This will likely lead to incorrect results due to broadcasting. Please ensure they have the same size.\n",
      "  loss = F.smooth_l1_loss(q_s_a, target)\n",
      "/home/raghaveendrawork/Desktop/RaghavendraTrading/TradingBotDeepRL/examples/../train.py:99: UserWarning: Using a target size (torch.Size([32])) that is different to the input size (torch.Size([32, 1])). This will likely lead to incorrect results due to broadcasting. Please ensure they have the same size.\n",
      "  loss = F.smooth_l1_loss(q_s_a, target)\n",
      "/home/raghaveendrawork/Desktop/RaghavendraTrading/TradingBotDeepRL/examples/../train.py:99: UserWarning: Using a target size (torch.Size([32])) that is different to the input size (torch.Size([32, 1])). This will likely lead to incorrect results due to broadcasting. Please ensure they have the same size.\n",
      "  loss = F.smooth_l1_loss(q_s_a, target)\n",
      "/home/raghaveendrawork/Desktop/RaghavendraTrading/TradingBotDeepRL/examples/../train.py:99: UserWarning: Using a target size (torch.Size([32])) that is different to the input size (torch.Size([32, 1])). This will likely lead to incorrect results due to broadcasting. Please ensure they have the same size.\n",
      "  loss = F.smooth_l1_loss(q_s_a, target)\n"
     ]
    },
    {
     "name": "stdout",
     "output_type": "stream",
     "text": [
      "Rewards: torch.Size([32]), Q_s_a_max: torch.Size([32]), q_s_a: torch.Size([32, 1]), Dones: (32,)\n",
      "Rewards: torch.Size([32]), Q_s_a_max: torch.Size([32]), q_s_a: torch.Size([32, 1]), Dones: (32,)\n",
      "Rewards: torch.Size([32]), Q_s_a_max: torch.Size([32]), q_s_a: torch.Size([32, 1]), Dones: (32,)\n",
      "Rewards: torch.Size([32]), Q_s_a_max: torch.Size([32]), q_s_a: torch.Size([32, 1]), Dones: (32,)\n",
      "Rewards: torch.Size([32]), Q_s_a_max: torch.Size([32]), q_s_a: torch.Size([32, 1]), Dones: (32,)\n",
      "Rewards: torch.Size([32]), Q_s_a_max: torch.Size([32]), q_s_a: torch.Size([32, 1]), Dones: (32,)\n",
      "Rewards: torch.Size([32]), Q_s_a_max: torch.Size([32]), q_s_a: torch.Size([32, 1]), Dones: (32,)\n"
     ]
    },
    {
     "name": "stderr",
     "output_type": "stream",
     "text": [
      "/home/raghaveendrawork/Desktop/RaghavendraTrading/TradingBotDeepRL/examples/../train.py:99: UserWarning: Using a target size (torch.Size([32])) that is different to the input size (torch.Size([32, 1])). This will likely lead to incorrect results due to broadcasting. Please ensure they have the same size.\n",
      "  loss = F.smooth_l1_loss(q_s_a, target)\n",
      "/home/raghaveendrawork/Desktop/RaghavendraTrading/TradingBotDeepRL/examples/../train.py:99: UserWarning: Using a target size (torch.Size([32])) that is different to the input size (torch.Size([32, 1])). This will likely lead to incorrect results due to broadcasting. Please ensure they have the same size.\n",
      "  loss = F.smooth_l1_loss(q_s_a, target)\n",
      "/home/raghaveendrawork/Desktop/RaghavendraTrading/TradingBotDeepRL/examples/../train.py:99: UserWarning: Using a target size (torch.Size([32])) that is different to the input size (torch.Size([32, 1])). This will likely lead to incorrect results due to broadcasting. Please ensure they have the same size.\n",
      "  loss = F.smooth_l1_loss(q_s_a, target)\n",
      "/home/raghaveendrawork/Desktop/RaghavendraTrading/TradingBotDeepRL/examples/../train.py:99: UserWarning: Using a target size (torch.Size([32])) that is different to the input size (torch.Size([32, 1])). This will likely lead to incorrect results due to broadcasting. Please ensure they have the same size.\n",
      "  loss = F.smooth_l1_loss(q_s_a, target)\n",
      "/home/raghaveendrawork/Desktop/RaghavendraTrading/TradingBotDeepRL/examples/../train.py:99: UserWarning: Using a target size (torch.Size([32])) that is different to the input size (torch.Size([32, 1])). This will likely lead to incorrect results due to broadcasting. Please ensure they have the same size.\n",
      "  loss = F.smooth_l1_loss(q_s_a, target)\n",
      "/home/raghaveendrawork/Desktop/RaghavendraTrading/TradingBotDeepRL/examples/../train.py:99: UserWarning: Using a target size (torch.Size([32])) that is different to the input size (torch.Size([32, 1])). This will likely lead to incorrect results due to broadcasting. Please ensure they have the same size.\n",
      "  loss = F.smooth_l1_loss(q_s_a, target)\n",
      "/home/raghaveendrawork/Desktop/RaghavendraTrading/TradingBotDeepRL/examples/../train.py:99: UserWarning: Using a target size (torch.Size([32])) that is different to the input size (torch.Size([32, 1])). This will likely lead to incorrect results due to broadcasting. Please ensure they have the same size.\n",
      "  loss = F.smooth_l1_loss(q_s_a, target)\n"
     ]
    },
    {
     "name": "stdout",
     "output_type": "stream",
     "text": [
      "Rewards: torch.Size([32]), Q_s_a_max: torch.Size([32]), q_s_a: torch.Size([32, 1]), Dones: (32,)\n",
      "Rewards: torch.Size([32]), Q_s_a_max: torch.Size([32]), q_s_a: torch.Size([32, 1]), Dones: (32,)\n",
      "Rewards: torch.Size([32]), Q_s_a_max: torch.Size([32]), q_s_a: torch.Size([32, 1]), Dones: (32,)\n",
      "Rewards: torch.Size([32]), Q_s_a_max: torch.Size([32]), q_s_a: torch.Size([32, 1]), Dones: (32,)\n",
      "Rewards: torch.Size([32]), Q_s_a_max: torch.Size([32]), q_s_a: torch.Size([32, 1]), Dones: (32,)\n",
      "Rewards: torch.Size([32]), Q_s_a_max: torch.Size([32]), q_s_a: torch.Size([32, 1]), Dones: (32,)\n",
      "Rewards: torch.Size([32]), Q_s_a_max: torch.Size([32]), q_s_a: torch.Size([32, 1]), Dones: (32,)\n"
     ]
    },
    {
     "name": "stderr",
     "output_type": "stream",
     "text": [
      "/home/raghaveendrawork/Desktop/RaghavendraTrading/TradingBotDeepRL/examples/../train.py:99: UserWarning: Using a target size (torch.Size([32])) that is different to the input size (torch.Size([32, 1])). This will likely lead to incorrect results due to broadcasting. Please ensure they have the same size.\n",
      "  loss = F.smooth_l1_loss(q_s_a, target)\n",
      "/home/raghaveendrawork/Desktop/RaghavendraTrading/TradingBotDeepRL/examples/../train.py:99: UserWarning: Using a target size (torch.Size([32])) that is different to the input size (torch.Size([32, 1])). This will likely lead to incorrect results due to broadcasting. Please ensure they have the same size.\n",
      "  loss = F.smooth_l1_loss(q_s_a, target)\n",
      "/home/raghaveendrawork/Desktop/RaghavendraTrading/TradingBotDeepRL/examples/../train.py:99: UserWarning: Using a target size (torch.Size([32])) that is different to the input size (torch.Size([32, 1])). This will likely lead to incorrect results due to broadcasting. Please ensure they have the same size.\n",
      "  loss = F.smooth_l1_loss(q_s_a, target)\n",
      "/home/raghaveendrawork/Desktop/RaghavendraTrading/TradingBotDeepRL/examples/../train.py:99: UserWarning: Using a target size (torch.Size([32])) that is different to the input size (torch.Size([32, 1])). This will likely lead to incorrect results due to broadcasting. Please ensure they have the same size.\n",
      "  loss = F.smooth_l1_loss(q_s_a, target)\n",
      "/home/raghaveendrawork/Desktop/RaghavendraTrading/TradingBotDeepRL/examples/../train.py:99: UserWarning: Using a target size (torch.Size([32])) that is different to the input size (torch.Size([32, 1])). This will likely lead to incorrect results due to broadcasting. Please ensure they have the same size.\n",
      "  loss = F.smooth_l1_loss(q_s_a, target)\n",
      "/home/raghaveendrawork/Desktop/RaghavendraTrading/TradingBotDeepRL/examples/../train.py:99: UserWarning: Using a target size (torch.Size([32])) that is different to the input size (torch.Size([32, 1])). This will likely lead to incorrect results due to broadcasting. Please ensure they have the same size.\n",
      "  loss = F.smooth_l1_loss(q_s_a, target)\n",
      "/home/raghaveendrawork/Desktop/RaghavendraTrading/TradingBotDeepRL/examples/../train.py:99: UserWarning: Using a target size (torch.Size([32])) that is different to the input size (torch.Size([32, 1])). This will likely lead to incorrect results due to broadcasting. Please ensure they have the same size.\n",
      "  loss = F.smooth_l1_loss(q_s_a, target)\n"
     ]
    },
    {
     "name": "stdout",
     "output_type": "stream",
     "text": [
      "Rewards: torch.Size([32]), Q_s_a_max: torch.Size([32]), q_s_a: torch.Size([32, 1]), Dones: (32,)\n",
      "Rewards: torch.Size([32]), Q_s_a_max: torch.Size([32]), q_s_a: torch.Size([32, 1]), Dones: (32,)\n",
      "Rewards: torch.Size([32]), Q_s_a_max: torch.Size([32]), q_s_a: torch.Size([32, 1]), Dones: (32,)\n",
      "Rewards: torch.Size([32]), Q_s_a_max: torch.Size([32]), q_s_a: torch.Size([32, 1]), Dones: (32,)\n",
      "Rewards: torch.Size([32]), Q_s_a_max: torch.Size([32]), q_s_a: torch.Size([32, 1]), Dones: (32,)\n",
      "Rewards: torch.Size([32]), Q_s_a_max: torch.Size([32]), q_s_a: torch.Size([32, 1]), Dones: (32,)\n",
      "Rewards: torch.Size([32]), Q_s_a_max: torch.Size([32]), q_s_a: torch.Size([32, 1]), Dones: (32,)\n"
     ]
    },
    {
     "name": "stderr",
     "output_type": "stream",
     "text": [
      "/home/raghaveendrawork/Desktop/RaghavendraTrading/TradingBotDeepRL/examples/../train.py:99: UserWarning: Using a target size (torch.Size([32])) that is different to the input size (torch.Size([32, 1])). This will likely lead to incorrect results due to broadcasting. Please ensure they have the same size.\n",
      "  loss = F.smooth_l1_loss(q_s_a, target)\n",
      "/home/raghaveendrawork/Desktop/RaghavendraTrading/TradingBotDeepRL/examples/../train.py:99: UserWarning: Using a target size (torch.Size([32])) that is different to the input size (torch.Size([32, 1])). This will likely lead to incorrect results due to broadcasting. Please ensure they have the same size.\n",
      "  loss = F.smooth_l1_loss(q_s_a, target)\n",
      "/home/raghaveendrawork/Desktop/RaghavendraTrading/TradingBotDeepRL/examples/../train.py:99: UserWarning: Using a target size (torch.Size([32])) that is different to the input size (torch.Size([32, 1])). This will likely lead to incorrect results due to broadcasting. Please ensure they have the same size.\n",
      "  loss = F.smooth_l1_loss(q_s_a, target)\n",
      "/home/raghaveendrawork/Desktop/RaghavendraTrading/TradingBotDeepRL/examples/../train.py:99: UserWarning: Using a target size (torch.Size([32])) that is different to the input size (torch.Size([32, 1])). This will likely lead to incorrect results due to broadcasting. Please ensure they have the same size.\n",
      "  loss = F.smooth_l1_loss(q_s_a, target)\n",
      "/home/raghaveendrawork/Desktop/RaghavendraTrading/TradingBotDeepRL/examples/../train.py:99: UserWarning: Using a target size (torch.Size([32])) that is different to the input size (torch.Size([32, 1])). This will likely lead to incorrect results due to broadcasting. Please ensure they have the same size.\n",
      "  loss = F.smooth_l1_loss(q_s_a, target)\n",
      "/home/raghaveendrawork/Desktop/RaghavendraTrading/TradingBotDeepRL/examples/../train.py:99: UserWarning: Using a target size (torch.Size([32])) that is different to the input size (torch.Size([32, 1])). This will likely lead to incorrect results due to broadcasting. Please ensure they have the same size.\n",
      "  loss = F.smooth_l1_loss(q_s_a, target)\n",
      "/home/raghaveendrawork/Desktop/RaghavendraTrading/TradingBotDeepRL/examples/../train.py:99: UserWarning: Using a target size (torch.Size([32])) that is different to the input size (torch.Size([32, 1])). This will likely lead to incorrect results due to broadcasting. Please ensure they have the same size.\n",
      "  loss = F.smooth_l1_loss(q_s_a, target)\n"
     ]
    },
    {
     "name": "stdout",
     "output_type": "stream",
     "text": [
      "Rewards: torch.Size([32]), Q_s_a_max: torch.Size([32]), q_s_a: torch.Size([32, 1]), Dones: (32,)\n",
      "Rewards: torch.Size([32]), Q_s_a_max: torch.Size([32]), q_s_a: torch.Size([32, 1]), Dones: (32,)\n",
      "Rewards: torch.Size([32]), Q_s_a_max: torch.Size([32]), q_s_a: torch.Size([32, 1]), Dones: (32,)\n",
      "Rewards: torch.Size([32]), Q_s_a_max: torch.Size([32]), q_s_a: torch.Size([32, 1]), Dones: (32,)\n",
      "Rewards: torch.Size([32]), Q_s_a_max: torch.Size([32]), q_s_a: torch.Size([32, 1]), Dones: (32,)\n",
      "Rewards: torch.Size([32]), Q_s_a_max: torch.Size([32]), q_s_a: torch.Size([32, 1]), Dones: (32,)\n"
     ]
    },
    {
     "name": "stderr",
     "output_type": "stream",
     "text": [
      "/home/raghaveendrawork/Desktop/RaghavendraTrading/TradingBotDeepRL/examples/../train.py:99: UserWarning: Using a target size (torch.Size([32])) that is different to the input size (torch.Size([32, 1])). This will likely lead to incorrect results due to broadcasting. Please ensure they have the same size.\n",
      "  loss = F.smooth_l1_loss(q_s_a, target)\n",
      "/home/raghaveendrawork/Desktop/RaghavendraTrading/TradingBotDeepRL/examples/../train.py:99: UserWarning: Using a target size (torch.Size([32])) that is different to the input size (torch.Size([32, 1])). This will likely lead to incorrect results due to broadcasting. Please ensure they have the same size.\n",
      "  loss = F.smooth_l1_loss(q_s_a, target)\n",
      "/home/raghaveendrawork/Desktop/RaghavendraTrading/TradingBotDeepRL/examples/../train.py:99: UserWarning: Using a target size (torch.Size([32])) that is different to the input size (torch.Size([32, 1])). This will likely lead to incorrect results due to broadcasting. Please ensure they have the same size.\n",
      "  loss = F.smooth_l1_loss(q_s_a, target)\n",
      "/home/raghaveendrawork/Desktop/RaghavendraTrading/TradingBotDeepRL/examples/../train.py:99: UserWarning: Using a target size (torch.Size([32])) that is different to the input size (torch.Size([32, 1])). This will likely lead to incorrect results due to broadcasting. Please ensure they have the same size.\n",
      "  loss = F.smooth_l1_loss(q_s_a, target)\n",
      "/home/raghaveendrawork/Desktop/RaghavendraTrading/TradingBotDeepRL/examples/../train.py:99: UserWarning: Using a target size (torch.Size([32])) that is different to the input size (torch.Size([32, 1])). This will likely lead to incorrect results due to broadcasting. Please ensure they have the same size.\n",
      "  loss = F.smooth_l1_loss(q_s_a, target)\n",
      "/home/raghaveendrawork/Desktop/RaghavendraTrading/TradingBotDeepRL/examples/../train.py:99: UserWarning: Using a target size (torch.Size([32])) that is different to the input size (torch.Size([32, 1])). This will likely lead to incorrect results due to broadcasting. Please ensure they have the same size.\n",
      "  loss = F.smooth_l1_loss(q_s_a, target)\n",
      "/home/raghaveendrawork/Desktop/RaghavendraTrading/TradingBotDeepRL/examples/../train.py:99: UserWarning: Using a target size (torch.Size([32])) that is different to the input size (torch.Size([32, 1])). This will likely lead to incorrect results due to broadcasting. Please ensure they have the same size.\n",
      "  loss = F.smooth_l1_loss(q_s_a, target)\n",
      "/home/raghaveendrawork/Desktop/RaghavendraTrading/TradingBotDeepRL/examples/../train.py:99: UserWarning: Using a target size (torch.Size([32])) that is different to the input size (torch.Size([32, 1])). This will likely lead to incorrect results due to broadcasting. Please ensure they have the same size.\n",
      "  loss = F.smooth_l1_loss(q_s_a, target)\n",
      "/home/raghaveendrawork/Desktop/RaghavendraTrading/TradingBotDeepRL/examples/../train.py:99: UserWarning: Using a target size (torch.Size([32])) that is different to the input size (torch.Size([32, 1])). This will likely lead to incorrect results due to broadcasting. Please ensure they have the same size.\n",
      "  loss = F.smooth_l1_loss(q_s_a, target)\n",
      "/home/raghaveendrawork/Desktop/RaghavendraTrading/TradingBotDeepRL/examples/../train.py:99: UserWarning: Using a target size (torch.Size([32])) that is different to the input size (torch.Size([32, 1])). This will likely lead to incorrect results due to broadcasting. Please ensure they have the same size.\n",
      "  loss = F.smooth_l1_loss(q_s_a, target)\n",
      "/home/raghaveendrawork/Desktop/RaghavendraTrading/TradingBotDeepRL/examples/../train.py:99: UserWarning: Using a target size (torch.Size([32])) that is different to the input size (torch.Size([32, 1])). This will likely lead to incorrect results due to broadcasting. Please ensure they have the same size.\n",
      "  loss = F.smooth_l1_loss(q_s_a, target)\n",
      "/home/raghaveendrawork/Desktop/RaghavendraTrading/TradingBotDeepRL/examples/../train.py:99: UserWarning: Using a target size (torch.Size([32])) that is different to the input size (torch.Size([32, 1])). This will likely lead to incorrect results due to broadcasting. Please ensure they have the same size.\n",
      "  loss = F.smooth_l1_loss(q_s_a, target)\n"
     ]
    },
    {
     "name": "stdout",
     "output_type": "stream",
     "text": [
      "Rewards: torch.Size([32]), Q_s_a_max: torch.Size([32]), q_s_a: torch.Size([32, 1]), Dones: (32,)\n",
      "Rewards: torch.Size([32]), Q_s_a_max: torch.Size([32]), q_s_a: torch.Size([32, 1]), Dones: (32,)\n",
      "Rewards: torch.Size([32]), Q_s_a_max: torch.Size([32]), q_s_a: torch.Size([32, 1]), Dones: (32,)\n",
      "Rewards: torch.Size([32]), Q_s_a_max: torch.Size([32]), q_s_a: torch.Size([32, 1]), Dones: (32,)\n",
      "Rewards: torch.Size([32]), Q_s_a_max: torch.Size([32]), q_s_a: torch.Size([32, 1]), Dones: (32,)\n",
      "Rewards: torch.Size([32]), Q_s_a_max: torch.Size([32]), q_s_a: torch.Size([32, 1]), Dones: (32,)\n",
      "Rewards: torch.Size([32]), Q_s_a_max: torch.Size([32]), q_s_a: torch.Size([32, 1]), Dones: (32,)\n"
     ]
    },
    {
     "name": "stderr",
     "output_type": "stream",
     "text": [
      "/home/raghaveendrawork/Desktop/RaghavendraTrading/TradingBotDeepRL/examples/../train.py:99: UserWarning: Using a target size (torch.Size([32])) that is different to the input size (torch.Size([32, 1])). This will likely lead to incorrect results due to broadcasting. Please ensure they have the same size.\n",
      "  loss = F.smooth_l1_loss(q_s_a, target)\n",
      "/home/raghaveendrawork/Desktop/RaghavendraTrading/TradingBotDeepRL/examples/../train.py:99: UserWarning: Using a target size (torch.Size([32])) that is different to the input size (torch.Size([32, 1])). This will likely lead to incorrect results due to broadcasting. Please ensure they have the same size.\n",
      "  loss = F.smooth_l1_loss(q_s_a, target)\n",
      "/home/raghaveendrawork/Desktop/RaghavendraTrading/TradingBotDeepRL/examples/../train.py:99: UserWarning: Using a target size (torch.Size([32])) that is different to the input size (torch.Size([32, 1])). This will likely lead to incorrect results due to broadcasting. Please ensure they have the same size.\n",
      "  loss = F.smooth_l1_loss(q_s_a, target)\n",
      "/home/raghaveendrawork/Desktop/RaghavendraTrading/TradingBotDeepRL/examples/../train.py:99: UserWarning: Using a target size (torch.Size([32])) that is different to the input size (torch.Size([32, 1])). This will likely lead to incorrect results due to broadcasting. Please ensure they have the same size.\n",
      "  loss = F.smooth_l1_loss(q_s_a, target)\n",
      "/home/raghaveendrawork/Desktop/RaghavendraTrading/TradingBotDeepRL/examples/../train.py:99: UserWarning: Using a target size (torch.Size([32])) that is different to the input size (torch.Size([32, 1])). This will likely lead to incorrect results due to broadcasting. Please ensure they have the same size.\n",
      "  loss = F.smooth_l1_loss(q_s_a, target)\n",
      "/home/raghaveendrawork/Desktop/RaghavendraTrading/TradingBotDeepRL/examples/../train.py:99: UserWarning: Using a target size (torch.Size([32])) that is different to the input size (torch.Size([32, 1])). This will likely lead to incorrect results due to broadcasting. Please ensure they have the same size.\n",
      "  loss = F.smooth_l1_loss(q_s_a, target)\n",
      "/home/raghaveendrawork/Desktop/RaghavendraTrading/TradingBotDeepRL/examples/../train.py:99: UserWarning: Using a target size (torch.Size([32])) that is different to the input size (torch.Size([32, 1])). This will likely lead to incorrect results due to broadcasting. Please ensure they have the same size.\n",
      "  loss = F.smooth_l1_loss(q_s_a, target)\n"
     ]
    },
    {
     "name": "stdout",
     "output_type": "stream",
     "text": [
      "Rewards: torch.Size([32]), Q_s_a_max: torch.Size([32]), q_s_a: torch.Size([32, 1]), Dones: (32,)\n",
      "Rewards: torch.Size([32]), Q_s_a_max: torch.Size([32]), q_s_a: torch.Size([32, 1]), Dones: (32,)\n",
      "Rewards: torch.Size([32]), Q_s_a_max: torch.Size([32]), q_s_a: torch.Size([32, 1]), Dones: (32,)\n",
      "Rewards: torch.Size([32]), Q_s_a_max: torch.Size([32]), q_s_a: torch.Size([32, 1]), Dones: (32,)\n",
      "Rewards: torch.Size([32]), Q_s_a_max: torch.Size([32]), q_s_a: torch.Size([32, 1]), Dones: (32,)\n",
      "Rewards: torch.Size([32]), Q_s_a_max: torch.Size([32]), q_s_a: torch.Size([32, 1]), Dones: (32,)\n",
      "Rewards: torch.Size([32]), Q_s_a_max: torch.Size([32]), q_s_a: torch.Size([32, 1]), Dones: (32,)\n"
     ]
    }
   ],
   "source": [
    "trainer.train(num_episodes=1)"
   ]
  },
  {
   "cell_type": "code",
   "execution_count": null,
   "id": "e284267f-63e0-4732-b374-13bb3199cb47",
   "metadata": {},
   "outputs": [],
   "source": []
  }
 ],
 "metadata": {
  "kernelspec": {
   "display_name": "Python 3 (ipykernel)",
   "language": "python",
   "name": "python3"
  },
  "language_info": {
   "codemirror_mode": {
    "name": "ipython",
    "version": 3
   },
   "file_extension": ".py",
   "mimetype": "text/x-python",
   "name": "python",
   "nbconvert_exporter": "python",
   "pygments_lexer": "ipython3",
   "version": "3.10.12"
  }
 },
 "nbformat": 4,
 "nbformat_minor": 5
}
