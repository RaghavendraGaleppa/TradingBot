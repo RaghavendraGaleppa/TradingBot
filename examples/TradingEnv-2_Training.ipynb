{
 "cells": [
  {
   "cell_type": "code",
   "execution_count": 1,
   "id": "d2f609cc-4d4f-4d60-9932-58b79b0d9132",
   "metadata": {},
   "outputs": [],
   "source": [
    "import sys\n",
    "sys.path.append(\"../\")"
   ]
  },
  {
   "cell_type": "code",
   "execution_count": 2,
   "id": "b4f55b29-5177-418d-95ae-a49e88752f10",
   "metadata": {},
   "outputs": [],
   "source": [
    "from trading_env import DataSource, TradeBroker, TradingEnv\n",
    "import torch"
   ]
  },
  {
   "cell_type": "code",
   "execution_count": 3,
   "id": "bb1b2cc7-87cb-4efa-ab99-6ea27086e6cc",
   "metadata": {},
   "outputs": [],
   "source": [
    "window_size = 25\n",
    "d = DataSource(\"../Data/DAT_MT_EURUSD_M1_2021.csv\")\n",
    "tb = TradeBroker(data_source=d, initial_balance=1000, price_history_length=window_size, max_shares_held=10)\n",
    "env = TradingEnv(tb, observation_shape=\"2d\")"
   ]
  },
  {
   "cell_type": "code",
   "execution_count": null,
   "id": "a29e0a9a-bea8-43fc-b06f-894048d26aa5",
   "metadata": {},
   "outputs": [],
   "source": [
    "d = env._get_observation()"
   ]
  },
  {
   "cell_type": "code",
   "execution_count": 9,
   "id": "689b73b0-6253-4cd2-a41b-2d1f7655828c",
   "metadata": {},
   "outputs": [],
   "source": [
    "from model import QNetworkCNN"
   ]
  },
  {
   "cell_type": "code",
   "execution_count": 11,
   "id": "f1ebbf8a-9d7b-4985-bbd8-10dd1c8c1387",
   "metadata": {},
   "outputs": [],
   "source": [
    "x = QNetworkCNN(input_shape=env.observation_space.shape, n_actions=3)"
   ]
  },
  {
   "cell_type": "code",
   "execution_count": 19,
   "id": "001dec0d-7b19-494b-9a3d-b380abf350df",
   "metadata": {},
   "outputs": [
    {
     "data": {
      "text/plain": [
       "tensor([[-0.0249,  0.0312,  0.0522]], grad_fn=<AddmmBackward0>)"
      ]
     },
     "execution_count": 19,
     "metadata": {},
     "output_type": "execute_result"
    }
   ],
   "source": [
    "x.forward(torch.tensor(d).float().unsqueeze(0).unsqueeze(0))"
   ]
  },
  {
   "cell_type": "code",
   "execution_count": 4,
   "id": "16f63866-66ca-4013-9afe-e06de6d99753",
   "metadata": {},
   "outputs": [],
   "source": [
    "from main import test_buffer_working\n",
    "import trading_env\n",
    "trading_env.logger.setLevel(\"CRITICAL\")"
   ]
  },
  {
   "cell_type": "code",
   "execution_count": 5,
   "id": "73544be8-bf82-4bd1-925b-5ef61c3c00c2",
   "metadata": {},
   "outputs": [],
   "source": [
    "buffer = test_buffer_working(\"../Data/DAT_MT_EURUSD_M1_2023.csv\")"
   ]
  },
  {
   "cell_type": "code",
   "execution_count": 6,
   "id": "46220502-6779-4496-8576-dfae83464336",
   "metadata": {},
   "outputs": [],
   "source": [
    "states, actions, rewards, next_states, dones = buffer.sample(32)\n"
   ]
  },
  {
   "cell_type": "code",
   "execution_count": 15,
   "id": "dbf2f876-f6ec-4443-8b66-7fb2c40ec53f",
   "metadata": {},
   "outputs": [
    {
     "data": {
      "text/plain": [
       "torch.Size([32, 1, 25, 5])"
      ]
     },
     "execution_count": 15,
     "metadata": {},
     "output_type": "execute_result"
    }
   ],
   "source": [
    "torch.tensor(states).unsqueeze(1).shape"
   ]
  }
 ],
 "metadata": {
  "kernelspec": {
   "display_name": "Python 3 (ipykernel)",
   "language": "python",
   "name": "python3"
  },
  "language_info": {
   "codemirror_mode": {
    "name": "ipython",
    "version": 3
   },
   "file_extension": ".py",
   "mimetype": "text/x-python",
   "name": "python",
   "nbconvert_exporter": "python",
   "pygments_lexer": "ipython3",
   "version": "3.10.12"
  }
 },
 "nbformat": 4,
 "nbformat_minor": 5
}
