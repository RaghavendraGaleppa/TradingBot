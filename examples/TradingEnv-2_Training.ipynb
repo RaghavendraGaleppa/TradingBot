{
 "cells": [
  {
   "cell_type": "code",
   "execution_count": 1,
   "id": "d2f609cc-4d4f-4d60-9932-58b79b0d9132",
   "metadata": {},
   "outputs": [],
   "source": [
    "import sys\n",
    "sys.path.append(\"../\")"
   ]
  },
  {
   "cell_type": "code",
   "execution_count": 2,
   "id": "b4f55b29-5177-418d-95ae-a49e88752f10",
   "metadata": {},
   "outputs": [],
   "source": [
    "from trading_env import DataSource, TradeBroker, TradingEnv\n",
    "import torch"
   ]
  },
  {
   "cell_type": "code",
   "execution_count": 3,
   "id": "bb1b2cc7-87cb-4efa-ab99-6ea27086e6cc",
   "metadata": {},
   "outputs": [],
   "source": [
    "window_size = 25\n",
    "d = DataSource(\"../Data/DAT_MT_EURUSD_M1_2021.csv\")\n",
    "tb = TradeBroker(data_source=d, initial_balance=1000, price_history_length=window_size, max_shares_held=10)\n",
    "env = TradingEnv(tb, observation_shape=\"2d\")"
   ]
  },
  {
   "cell_type": "code",
   "execution_count": 4,
   "id": "0489d58a-6558-4fc8-beaa-1f3a34870c96",
   "metadata": {},
   "outputs": [],
   "source": [
    "from train import Trainer"
   ]
  },
  {
   "cell_type": "code",
   "execution_count": null,
   "id": "59442f85-149a-4a92-b12f-93b3dd59b1b0",
   "metadata": {},
   "outputs": [],
   "source": [
    "trainer = Trainer(env=env)"
   ]
  },
  {
   "cell_type": "code",
   "execution_count": null,
   "id": "db5743e8-a17a-416d-8112-c7994a987247",
   "metadata": {},
   "outputs": [],
   "source": [
    "trainer.train(num_episodes=1)"
   ]
  },
  {
   "cell_type": "code",
   "execution_count": 18,
   "id": "e284267f-63e0-4732-b374-13bb3199cb47",
   "metadata": {},
   "outputs": [
    {
     "data": {
      "text/plain": [
       "array([[0.99945424, 0.99958018, 0.99938707, 0.99956339, 0.        ],\n",
       "       [0.999555  , 0.99959698, 0.99944584, 0.99949622, 0.        ],\n",
       "       [0.99949622, 0.99952141, 0.99938707, 0.99941226, 0.        ],\n",
       "       [0.99940386, 0.99983207, 0.99940386, 0.9997733 , 0.        ],\n",
       "       [0.9997649 , 0.99979009, 0.99962217, 0.99968934, 0.        ],\n",
       "       [0.99970613, 0.99990764, 0.99968094, 0.99979849, 0.        ],\n",
       "       [0.99980688, 1.        , 0.99972292, 0.99988245, 0.        ],\n",
       "       [0.99987406, 0.99991604, 0.99965575, 0.99966415, 0.        ],\n",
       "       [0.99966415, 0.99975651, 0.99959698, 0.99965575, 0.        ],\n",
       "       [0.99966415, 0.99974811, 0.99962217, 0.99969773, 0.        ],\n",
       "       [0.99972292, 0.99979849, 0.99968094, 0.99973132, 0.        ],\n",
       "       [0.99973132, 0.9997649 , 0.99958018, 0.99958858, 0.        ],\n",
       "       [0.99958858, 0.99967254, 0.99952141, 0.99957179, 0.        ],\n",
       "       [0.99956339, 0.99973132, 0.9995466 , 0.9995466 , 0.        ],\n",
       "       [0.9995382 , 0.99957179, 0.99949622, 0.99951301, 0.        ],\n",
       "       [0.99952141, 0.99952141, 0.99935348, 0.99941226, 0.        ],\n",
       "       [0.99942905, 0.99947103, 0.99941226, 0.99945424, 0.        ],\n",
       "       [0.99945424, 0.99946264, 0.99940386, 0.99940386, 0.        ],\n",
       "       [0.99939547, 0.99941226, 0.99936188, 0.99936188, 0.        ],\n",
       "       [0.99935348, 0.99936188, 0.99922754, 0.99928631, 0.        ],\n",
       "       [0.99929471, 0.99937867, 0.99929471, 0.99934509, 0.        ],\n",
       "       [0.99934509, 0.99939547, 0.99933669, 0.99937867, 0.        ],\n",
       "       [0.99936188, 0.99942065, 0.99933669, 0.99938707, 0.        ],\n",
       "       [0.99939547, 0.99946264, 0.99926952, 0.99930311, 0.        ],\n",
       "       [0.99929471, 0.99958018, 0.99914358, 0.99929471, 0.        ]])"
      ]
     },
     "execution_count": 18,
     "metadata": {},
     "output_type": "execute_result"
    }
   ],
   "source": [
    "env.reset(random_start_index=True)"
   ]
  },
  {
   "cell_type": "code",
   "execution_count": null,
   "id": "770e7538-501f-4412-bcd3-dc5bb4a4bef5",
   "metadata": {},
   "outputs": [],
   "source": []
  }
 ],
 "metadata": {
  "kernelspec": {
   "display_name": "Python 3 (ipykernel)",
   "language": "python",
   "name": "python3"
  },
  "language_info": {
   "codemirror_mode": {
    "name": "ipython",
    "version": 3
   },
   "file_extension": ".py",
   "mimetype": "text/x-python",
   "name": "python",
   "nbconvert_exporter": "python",
   "pygments_lexer": "ipython3",
   "version": "3.10.12"
  }
 },
 "nbformat": 4,
 "nbformat_minor": 5
}
